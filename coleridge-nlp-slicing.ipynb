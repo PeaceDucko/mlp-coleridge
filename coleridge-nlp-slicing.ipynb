{
 "cells": [
  {
   "cell_type": "code",
   "execution_count": 1,
   "metadata": {
    "execution": {
     "iopub.execute_input": "2021-06-13T15:43:34.316668Z",
     "iopub.status.busy": "2021-06-13T15:43:34.311196Z",
     "iopub.status.idle": "2021-06-13T15:43:36.193378Z",
     "shell.execute_reply": "2021-06-13T15:43:36.192083Z",
     "shell.execute_reply.started": "2021-06-13T14:51:00.748663Z"
    },
    "papermill": {
     "duration": 1.948266,
     "end_time": "2021-06-13T15:43:36.193581",
     "exception": false,
     "start_time": "2021-06-13T15:43:34.245315",
     "status": "completed"
    },
    "tags": []
   },
   "outputs": [],
   "source": [
    "# Start writing code here...\n",
    "import numpy as np \n",
    "import pandas as pd\n",
    "import nltk\n",
    "\n",
    "pd.options.mode.chained_assignment = None \n",
    "\n",
    "from nltk.tokenize import word_tokenize\n",
    "from nltk.tokenize import sent_tokenize\n",
    "from nltk.tag import pos_tag\n",
    "import os, re\n",
    "import json\n",
    "import matplotlib.pyplot as plt\n",
    "\n",
    "import nltk\n",
    "from nltk.probability import FreqDist\n",
    "from wordcloud import WordCloud, STOPWORDS\n",
    "from nltk.stem import WordNetLemmatizer\n",
    "  \n",
    "import seaborn as sns\n",
    "sns.set_style('whitegrid')\n",
    "    \n",
    "from IPython.display import display, clear_output\n",
    "    \n",
    "from tqdm import tqdm\n",
    "import string\n",
    "\n",
    "from sklearn.model_selection import train_test_split\n",
    "from sklearn.model_selection import StratifiedShuffleSplit\n",
    "\n",
    "os.listdir('/kaggle/input/coleridgeinitiative-show-us-the-data/')\n",
    "\n",
    "tqdm.pandas()"
   ]
  },
  {
   "cell_type": "code",
   "execution_count": 2,
   "metadata": {
    "execution": {
     "iopub.execute_input": "2021-06-13T15:43:36.310150Z",
     "iopub.status.busy": "2021-06-13T15:43:36.309146Z",
     "iopub.status.idle": "2021-06-13T15:43:36.312253Z",
     "shell.execute_reply": "2021-06-13T15:43:36.312772Z",
     "shell.execute_reply.started": "2021-06-13T14:51:02.610289Z"
    },
    "papermill": {
     "duration": 0.063853,
     "end_time": "2021-06-13T15:43:36.312970",
     "exception": false,
     "start_time": "2021-06-13T15:43:36.249117",
     "status": "completed"
    },
    "tags": []
   },
   "outputs": [],
   "source": [
    "TRAIN_SPLIT = 0.9\n",
    "SENTENCES_TO_EXTRACT = 10\n",
    "DROP_FRAC = 0.8"
   ]
  },
  {
   "cell_type": "code",
   "execution_count": 3,
   "metadata": {
    "execution": {
     "iopub.execute_input": "2021-06-13T15:43:36.589153Z",
     "iopub.status.busy": "2021-06-13T15:43:36.588153Z",
     "iopub.status.idle": "2021-06-13T15:43:36.753032Z",
     "shell.execute_reply": "2021-06-13T15:43:36.751822Z",
     "shell.execute_reply.started": "2021-06-13T14:51:02.616295Z"
    },
    "papermill": {
     "duration": 0.384819,
     "end_time": "2021-06-13T15:43:36.753214",
     "exception": false,
     "start_time": "2021-06-13T15:43:36.368395",
     "status": "completed"
    },
    "tags": []
   },
   "outputs": [],
   "source": [
    "train_df = pd.read_csv('../input/coleridgeinitiative-show-us-the-data/train.csv')\n",
    "sample_sub = pd.read_csv('../input/coleridgeinitiative-show-us-the-data/sample_submission.csv')\n",
    "\n",
    "train_files_path = '../input/coleridgeinitiative-show-us-the-data/train'\n",
    "test_files_path = '../input/coleridgeinitiative-show-us-the-data/test'"
   ]
  },
  {
   "cell_type": "code",
   "execution_count": 4,
   "metadata": {
    "execution": {
     "iopub.execute_input": "2021-06-13T15:43:36.871726Z",
     "iopub.status.busy": "2021-06-13T15:43:36.870968Z",
     "iopub.status.idle": "2021-06-13T15:43:43.550665Z",
     "shell.execute_reply": "2021-06-13T15:43:43.551168Z",
     "shell.execute_reply.started": "2021-06-13T14:51:02.95375Z"
    },
    "papermill": {
     "duration": 6.742532,
     "end_time": "2021-06-13T15:43:43.551370",
     "exception": false,
     "start_time": "2021-06-13T15:43:36.808838",
     "status": "completed"
    },
    "tags": []
   },
   "outputs": [],
   "source": [
    "create_text_ds = True\n",
    "\n",
    "try:\n",
    "    CSV_PATH = \"../input/colerigde-processed-text/text.csv\"\n",
    "    pd.read_csv(CSV_PATH)\n",
    "    create_text_ds = False\n",
    "except:\n",
    "    print(\"No text dataset\")\n",
    "    CSV_PATH = 'text.csv'"
   ]
  },
  {
   "cell_type": "code",
   "execution_count": 5,
   "metadata": {
    "execution": {
     "iopub.execute_input": "2021-06-13T15:43:43.675189Z",
     "iopub.status.busy": "2021-06-13T15:43:43.674319Z",
     "iopub.status.idle": "2021-06-13T15:43:43.695009Z",
     "shell.execute_reply": "2021-06-13T15:43:43.695554Z",
     "shell.execute_reply.started": "2021-06-13T14:51:09.307087Z"
    },
    "papermill": {
     "duration": 0.08872,
     "end_time": "2021-06-13T15:43:43.695747",
     "exception": false,
     "start_time": "2021-06-13T15:43:43.607027",
     "status": "completed"
    },
    "tags": []
   },
   "outputs": [
    {
     "data": {
      "text/html": [
       "<div>\n",
       "<style scoped>\n",
       "    .dataframe tbody tr th:only-of-type {\n",
       "        vertical-align: middle;\n",
       "    }\n",
       "\n",
       "    .dataframe tbody tr th {\n",
       "        vertical-align: top;\n",
       "    }\n",
       "\n",
       "    .dataframe thead th {\n",
       "        text-align: right;\n",
       "    }\n",
       "</style>\n",
       "<table border=\"1\" class=\"dataframe\">\n",
       "  <thead>\n",
       "    <tr style=\"text-align: right;\">\n",
       "      <th></th>\n",
       "      <th>Id</th>\n",
       "      <th>pub_title</th>\n",
       "      <th>dataset_title</th>\n",
       "      <th>dataset_label</th>\n",
       "      <th>cleaned_label</th>\n",
       "    </tr>\n",
       "  </thead>\n",
       "  <tbody>\n",
       "    <tr>\n",
       "      <th>0</th>\n",
       "      <td>d0fa7568-7d8e-4db9-870f-f9c6f668c17b</td>\n",
       "      <td>The Impact of Dual Enrollment on College Degre...</td>\n",
       "      <td>National Education Longitudinal Study</td>\n",
       "      <td>National Education Longitudinal Study</td>\n",
       "      <td>national education longitudinal study</td>\n",
       "    </tr>\n",
       "    <tr>\n",
       "      <th>1</th>\n",
       "      <td>2f26f645-3dec-485d-b68d-f013c9e05e60</td>\n",
       "      <td>Educational Attainment of High School Dropouts...</td>\n",
       "      <td>National Education Longitudinal Study</td>\n",
       "      <td>National Education Longitudinal Study</td>\n",
       "      <td>national education longitudinal study</td>\n",
       "    </tr>\n",
       "    <tr>\n",
       "      <th>2</th>\n",
       "      <td>c5d5cd2c-59de-4f29-bbb1-6a88c7b52f29</td>\n",
       "      <td>Differences in Outcomes for Female and Male St...</td>\n",
       "      <td>National Education Longitudinal Study</td>\n",
       "      <td>National Education Longitudinal Study</td>\n",
       "      <td>national education longitudinal study</td>\n",
       "    </tr>\n",
       "    <tr>\n",
       "      <th>3</th>\n",
       "      <td>5c9a3bc9-41ba-4574-ad71-e25c1442c8af</td>\n",
       "      <td>Stepping Stone and Option Value in a Model of ...</td>\n",
       "      <td>National Education Longitudinal Study</td>\n",
       "      <td>National Education Longitudinal Study</td>\n",
       "      <td>national education longitudinal study</td>\n",
       "    </tr>\n",
       "    <tr>\n",
       "      <th>4</th>\n",
       "      <td>c754dec7-c5a3-4337-9892-c02158475064</td>\n",
       "      <td>Parental Effort, School Resources, and Student...</td>\n",
       "      <td>National Education Longitudinal Study</td>\n",
       "      <td>National Education Longitudinal Study</td>\n",
       "      <td>national education longitudinal study</td>\n",
       "    </tr>\n",
       "  </tbody>\n",
       "</table>\n",
       "</div>"
      ],
      "text/plain": [
       "                                     Id  \\\n",
       "0  d0fa7568-7d8e-4db9-870f-f9c6f668c17b   \n",
       "1  2f26f645-3dec-485d-b68d-f013c9e05e60   \n",
       "2  c5d5cd2c-59de-4f29-bbb1-6a88c7b52f29   \n",
       "3  5c9a3bc9-41ba-4574-ad71-e25c1442c8af   \n",
       "4  c754dec7-c5a3-4337-9892-c02158475064   \n",
       "\n",
       "                                           pub_title  \\\n",
       "0  The Impact of Dual Enrollment on College Degre...   \n",
       "1  Educational Attainment of High School Dropouts...   \n",
       "2  Differences in Outcomes for Female and Male St...   \n",
       "3  Stepping Stone and Option Value in a Model of ...   \n",
       "4  Parental Effort, School Resources, and Student...   \n",
       "\n",
       "                           dataset_title  \\\n",
       "0  National Education Longitudinal Study   \n",
       "1  National Education Longitudinal Study   \n",
       "2  National Education Longitudinal Study   \n",
       "3  National Education Longitudinal Study   \n",
       "4  National Education Longitudinal Study   \n",
       "\n",
       "                           dataset_label  \\\n",
       "0  National Education Longitudinal Study   \n",
       "1  National Education Longitudinal Study   \n",
       "2  National Education Longitudinal Study   \n",
       "3  National Education Longitudinal Study   \n",
       "4  National Education Longitudinal Study   \n",
       "\n",
       "                           cleaned_label  \n",
       "0  national education longitudinal study  \n",
       "1  national education longitudinal study  \n",
       "2  national education longitudinal study  \n",
       "3  national education longitudinal study  \n",
       "4  national education longitudinal study  "
      ]
     },
     "execution_count": 5,
     "metadata": {},
     "output_type": "execute_result"
    }
   ],
   "source": [
    "train_df.head()"
   ]
  },
  {
   "cell_type": "code",
   "execution_count": 6,
   "metadata": {
    "execution": {
     "iopub.execute_input": "2021-06-13T15:43:43.815567Z",
     "iopub.status.busy": "2021-06-13T15:43:43.814841Z",
     "iopub.status.idle": "2021-06-13T15:43:43.836549Z",
     "shell.execute_reply": "2021-06-13T15:43:43.837045Z",
     "shell.execute_reply.started": "2021-06-13T14:51:09.340764Z"
    },
    "papermill": {
     "duration": 0.082381,
     "end_time": "2021-06-13T15:43:43.837242",
     "exception": false,
     "start_time": "2021-06-13T15:43:43.754861",
     "status": "completed"
    },
    "tags": []
   },
   "outputs": [
    {
     "data": {
      "text/html": [
       "<div>\n",
       "<style scoped>\n",
       "    .dataframe tbody tr th:only-of-type {\n",
       "        vertical-align: middle;\n",
       "    }\n",
       "\n",
       "    .dataframe tbody tr th {\n",
       "        vertical-align: top;\n",
       "    }\n",
       "\n",
       "    .dataframe thead th {\n",
       "        text-align: right;\n",
       "    }\n",
       "</style>\n",
       "<table border=\"1\" class=\"dataframe\">\n",
       "  <thead>\n",
       "    <tr style=\"text-align: right;\">\n",
       "      <th></th>\n",
       "      <th>index</th>\n",
       "      <th>dataset_label</th>\n",
       "    </tr>\n",
       "  </thead>\n",
       "  <tbody>\n",
       "    <tr>\n",
       "      <th>0</th>\n",
       "      <td>ADNI</td>\n",
       "      <td>3673</td>\n",
       "    </tr>\n",
       "    <tr>\n",
       "      <th>1</th>\n",
       "      <td>Alzheimer's Disease Neuroimaging Initiative (A...</td>\n",
       "      <td>2400</td>\n",
       "    </tr>\n",
       "    <tr>\n",
       "      <th>2</th>\n",
       "      <td>Trends in International Mathematics and Scienc...</td>\n",
       "      <td>1163</td>\n",
       "    </tr>\n",
       "    <tr>\n",
       "      <th>3</th>\n",
       "      <td>Baltimore Longitudinal Study of Aging</td>\n",
       "      <td>1156</td>\n",
       "    </tr>\n",
       "    <tr>\n",
       "      <th>4</th>\n",
       "      <td>Early Childhood Longitudinal Study</td>\n",
       "      <td>1011</td>\n",
       "    </tr>\n",
       "  </tbody>\n",
       "</table>\n",
       "</div>"
      ],
      "text/plain": [
       "                                               index  dataset_label\n",
       "0                                               ADNI           3673\n",
       "1  Alzheimer's Disease Neuroimaging Initiative (A...           2400\n",
       "2  Trends in International Mathematics and Scienc...           1163\n",
       "3              Baltimore Longitudinal Study of Aging           1156\n",
       "4                 Early Childhood Longitudinal Study           1011"
      ]
     },
     "execution_count": 6,
     "metadata": {},
     "output_type": "execute_result"
    }
   ],
   "source": [
    "grouped_df = pd.DataFrame(train_df['dataset_label'].value_counts())\n",
    "grouped_df = grouped_df.reset_index()\n",
    "grouped_df = grouped_df.sort_values(by=\"dataset_label\", ascending=False)\n",
    "grouped_df.head()"
   ]
  },
  {
   "cell_type": "code",
   "execution_count": 7,
   "metadata": {
    "execution": {
     "iopub.execute_input": "2021-06-13T15:43:43.955640Z",
     "iopub.status.busy": "2021-06-13T15:43:43.954960Z",
     "iopub.status.idle": "2021-06-13T15:43:43.959172Z",
     "shell.execute_reply": "2021-06-13T15:43:43.959694Z",
     "shell.execute_reply.started": "2021-06-13T14:51:09.366734Z"
    },
    "papermill": {
     "duration": 0.064578,
     "end_time": "2021-06-13T15:43:43.959914",
     "exception": false,
     "start_time": "2021-06-13T15:43:43.895336",
     "status": "completed"
    },
    "tags": []
   },
   "outputs": [],
   "source": [
    "grouped_df = grouped_df.iloc[0:25]"
   ]
  },
  {
   "cell_type": "code",
   "execution_count": 8,
   "metadata": {
    "execution": {
     "iopub.execute_input": "2021-06-13T15:43:44.078964Z",
     "iopub.status.busy": "2021-06-13T15:43:44.078276Z",
     "iopub.status.idle": "2021-06-13T15:43:44.645545Z",
     "shell.execute_reply": "2021-06-13T15:43:44.644888Z",
     "shell.execute_reply.started": "2021-06-13T14:51:09.381384Z"
    },
    "papermill": {
     "duration": 0.628525,
     "end_time": "2021-06-13T15:43:44.645697",
     "exception": false,
     "start_time": "2021-06-13T15:43:44.017172",
     "status": "completed"
    },
    "tags": []
   },
   "outputs": [
    {
     "name": "stderr",
     "output_type": "stream",
     "text": [
      "/opt/conda/lib/python3.7/site-packages/ipykernel_launcher.py:4: UserWarning: FixedFormatter should only be used together with FixedLocator\n",
      "  after removing the cwd from sys.path.\n"
     ]
    },
    {
     "data": {
      "text/plain": [
       "[]"
      ]
     },
     "execution_count": 8,
     "metadata": {},
     "output_type": "execute_result"
    },
    {
     "data": {
      "image/png": "[encoded data removed]",
      "text/plain": [
       "<Figure size 1080x360 with 1 Axes>"
      ]
     },
     "metadata": {},
     "output_type": "display_data"
    }
   ],
   "source": [
    "fig, ax = plt.subplots(figsize=(15,5))\n",
    "\n",
    "ax.bar(grouped_df['index'].values, grouped_df['dataset_label'].values)\n",
    "ax.set_xticklabels(labels=grouped_df['index'].values,rotation=90);\n",
    "ax.set_ylabel(\"Number of occurances\")\n",
    "ax.set_xlabel(\"Dataset name\")\n",
    "\n",
    "plt.plot()"
   ]
  },
  {
   "cell_type": "code",
   "execution_count": 9,
   "metadata": {
    "execution": {
     "iopub.execute_input": "2021-06-13T15:43:44.780154Z",
     "iopub.status.busy": "2021-06-13T15:43:44.779361Z",
     "iopub.status.idle": "2021-06-13T15:43:44.796253Z",
     "shell.execute_reply": "2021-06-13T15:43:44.797043Z",
     "shell.execute_reply.started": "2021-06-13T14:51:09.901015Z"
    },
    "papermill": {
     "duration": 0.092109,
     "end_time": "2021-06-13T15:43:44.797477",
     "exception": false,
     "start_time": "2021-06-13T15:43:44.705368",
     "status": "completed"
    },
    "tags": []
   },
   "outputs": [
    {
     "name": "stdout",
     "output_type": "stream",
     "text": [
      "<class 'pandas.core.frame.DataFrame'>\n",
      "RangeIndex: 19661 entries, 0 to 19660\n",
      "Data columns (total 5 columns):\n",
      " #   Column         Non-Null Count  Dtype \n",
      "---  ------         --------------  ----- \n",
      " 0   Id             19661 non-null  object\n",
      " 1   pub_title      19661 non-null  object\n",
      " 2   dataset_title  19661 non-null  object\n",
      " 3   dataset_label  19661 non-null  object\n",
      " 4   cleaned_label  19661 non-null  object\n",
      "dtypes: object(5)\n",
      "memory usage: 768.1+ KB\n"
     ]
    }
   ],
   "source": [
    "train_df.info()"
   ]
  },
  {
   "cell_type": "code",
   "execution_count": 10,
   "metadata": {
    "execution": {
     "iopub.execute_input": "2021-06-13T15:43:44.932697Z",
     "iopub.status.busy": "2021-06-13T15:43:44.931600Z",
     "iopub.status.idle": "2021-06-13T15:43:44.937224Z",
     "shell.execute_reply": "2021-06-13T15:43:44.936646Z",
     "shell.execute_reply.started": "2021-06-13T14:51:09.934534Z"
    },
    "papermill": {
     "duration": 0.077442,
     "end_time": "2021-06-13T15:43:44.937389",
     "exception": false,
     "start_time": "2021-06-13T15:43:44.859947",
     "status": "completed"
    },
    "tags": []
   },
   "outputs": [
    {
     "data": {
      "text/html": [
       "<div>\n",
       "<style scoped>\n",
       "    .dataframe tbody tr th:only-of-type {\n",
       "        vertical-align: middle;\n",
       "    }\n",
       "\n",
       "    .dataframe tbody tr th {\n",
       "        vertical-align: top;\n",
       "    }\n",
       "\n",
       "    .dataframe thead th {\n",
       "        text-align: right;\n",
       "    }\n",
       "</style>\n",
       "<table border=\"1\" class=\"dataframe\">\n",
       "  <thead>\n",
       "    <tr style=\"text-align: right;\">\n",
       "      <th></th>\n",
       "      <th>Id</th>\n",
       "      <th>PredictionString</th>\n",
       "    </tr>\n",
       "  </thead>\n",
       "  <tbody>\n",
       "    <tr>\n",
       "      <th>0</th>\n",
       "      <td>2100032a-7c33-4bff-97ef-690822c43466</td>\n",
       "      <td>NaN</td>\n",
       "    </tr>\n",
       "    <tr>\n",
       "      <th>1</th>\n",
       "      <td>2f392438-e215-4169-bebf-21ac4ff253e1</td>\n",
       "      <td>NaN</td>\n",
       "    </tr>\n",
       "    <tr>\n",
       "      <th>2</th>\n",
       "      <td>3f316b38-1a24-45a9-8d8c-4e05a42257c6</td>\n",
       "      <td>NaN</td>\n",
       "    </tr>\n",
       "    <tr>\n",
       "      <th>3</th>\n",
       "      <td>8e6996b4-ca08-4c0b-bed2-aaf07a4c6a60</td>\n",
       "      <td>NaN</td>\n",
       "    </tr>\n",
       "  </tbody>\n",
       "</table>\n",
       "</div>"
      ],
      "text/plain": [
       "                                     Id  PredictionString\n",
       "0  2100032a-7c33-4bff-97ef-690822c43466               NaN\n",
       "1  2f392438-e215-4169-bebf-21ac4ff253e1               NaN\n",
       "2  3f316b38-1a24-45a9-8d8c-4e05a42257c6               NaN\n",
       "3  8e6996b4-ca08-4c0b-bed2-aaf07a4c6a60               NaN"
      ]
     },
     "execution_count": 10,
     "metadata": {},
     "output_type": "execute_result"
    }
   ],
   "source": [
    "sample_sub.head()"
   ]
  },
  {
   "cell_type": "code",
   "execution_count": 11,
   "metadata": {
    "execution": {
     "iopub.execute_input": "2021-06-13T15:43:45.074635Z",
     "iopub.status.busy": "2021-06-13T15:43:45.073925Z",
     "iopub.status.idle": "2021-06-13T15:43:45.078676Z",
     "shell.execute_reply": "2021-06-13T15:43:45.079226Z",
     "shell.execute_reply.started": "2021-06-13T14:51:09.955573Z"
    },
    "papermill": {
     "duration": 0.075484,
     "end_time": "2021-06-13T15:43:45.079421",
     "exception": false,
     "start_time": "2021-06-13T15:43:45.003937",
     "status": "completed"
    },
    "tags": []
   },
   "outputs": [
    {
     "name": "stdout",
     "output_type": "stream",
     "text": [
      "Nr. of unique labels: 130\n"
     ]
    }
   ],
   "source": [
    "print(\"Nr. of unique labels: {}\".format(len(train_df['cleaned_label'].unique())))"
   ]
  },
  {
   "cell_type": "code",
   "execution_count": 12,
   "metadata": {
    "execution": {
     "iopub.execute_input": "2021-06-13T15:43:45.218825Z",
     "iopub.status.busy": "2021-06-13T15:43:45.218084Z",
     "iopub.status.idle": "2021-06-13T15:43:45.225636Z",
     "shell.execute_reply": "2021-06-13T15:43:45.226161Z",
     "shell.execute_reply.started": "2021-06-13T14:51:09.968035Z"
    },
    "papermill": {
     "duration": 0.082799,
     "end_time": "2021-06-13T15:43:45.226351",
     "exception": false,
     "start_time": "2021-06-13T15:43:45.143552",
     "status": "completed"
    },
    "tags": []
   },
   "outputs": [
    {
     "data": {
      "text/plain": [
       "Id               0\n",
       "pub_title        0\n",
       "dataset_title    0\n",
       "dataset_label    0\n",
       "cleaned_label    0\n",
       "dtype: int64"
      ]
     },
     "execution_count": 12,
     "metadata": {},
     "output_type": "execute_result"
    }
   ],
   "source": [
    "# Check for missing values\n",
    "train_df.isna().sum()"
   ]
  },
  {
   "cell_type": "code",
   "execution_count": 13,
   "metadata": {
    "execution": {
     "iopub.execute_input": "2021-06-13T15:43:45.365101Z",
     "iopub.status.busy": "2021-06-13T15:43:45.361385Z",
     "iopub.status.idle": "2021-06-13T15:43:50.318328Z",
     "shell.execute_reply": "2021-06-13T15:43:50.318814Z",
     "shell.execute_reply.started": "2021-06-13T14:51:09.989426Z"
    },
    "papermill": {
     "duration": 5.031412,
     "end_time": "2021-06-13T15:43:50.319029",
     "exception": false,
     "start_time": "2021-06-13T15:43:45.287617",
     "status": "completed"
    },
    "tags": []
   },
   "outputs": [
    {
     "name": "stdout",
     "output_type": "stream",
     "text": [
      "Data in train.csv file: 19661\n",
      "\n",
      "\n",
      "Unique data in train.csv file: 14316\n",
      "Data in train folders: 14316\n",
      "\n",
      "\n",
      "Avg. nr. of sources per publication: 1.3733584800223526\n"
     ]
    }
   ],
   "source": [
    "nr_train_csv_ids = train_df['Id'].count()\n",
    "nr_unique_train_csv_ids = train_df['Id'].nunique()\n",
    "nr_train_files = len([name for name in os.listdir(train_files_path) if os.path.isfile(os.path.join(train_files_path, name))])\n",
    "\n",
    "# Confirm that we have as many rows in the train.csv file as that we have files in the train.csv folder?\n",
    "print(\"Data in train.csv file: {}\".format(nr_train_csv_ids))\n",
    "print(\"\\n\")\n",
    "print(\"Unique data in train.csv file: {}\".format(nr_unique_train_csv_ids))\n",
    "print(\"Data in train folders: {}\".format(nr_train_files))\n",
    "print(\"\\n\")\n",
    "print(\"Avg. nr. of sources per publication: {}\".format(nr_train_csv_ids/nr_unique_train_csv_ids))\n",
    "\n",
    "assert nr_unique_train_csv_ids == nr_train_files"
   ]
  },
  {
   "cell_type": "code",
   "execution_count": 14,
   "metadata": {
    "execution": {
     "iopub.execute_input": "2021-06-13T15:43:50.448582Z",
     "iopub.status.busy": "2021-06-13T15:43:50.447740Z",
     "iopub.status.idle": "2021-06-13T15:43:50.468375Z",
     "shell.execute_reply": "2021-06-13T15:43:50.469173Z",
     "shell.execute_reply.started": "2021-06-13T14:51:20.109884Z"
    },
    "papermill": {
     "duration": 0.089093,
     "end_time": "2021-06-13T15:43:50.469476",
     "exception": false,
     "start_time": "2021-06-13T15:43:50.380383",
     "status": "completed"
    },
    "tags": []
   },
   "outputs": [
    {
     "name": "stdout",
     "output_type": "stream",
     "text": [
      "['a', 'able', 'about', 'above', 'abst', 'accordance', 'according', 'accordingly', 'across', 'act', 'actually', 'added', 'adj', 'affected', 'affecting', 'affects', 'after', 'afterwards', 'again', 'against', 'ah', 'all', 'almost', 'alone', 'along', 'already', 'also', 'although', 'always', 'am', 'among', 'amongst', 'an', 'and', 'announce', 'another', 'any', 'anybody', 'anyhow', 'anymore', 'anyone', 'anything', 'anyway', 'anyways', 'anywhere', 'apparently', 'approximately', 'are', 'aren', 'arent', 'arise', 'around', 'as', 'aside', 'ask', 'asking', 'at', 'auth', 'available', 'away', 'awfully', 'b', 'back', 'be', 'became', 'because', 'become', 'becomes', 'becoming', 'been', 'before', 'beforehand', 'begin', 'beginning', 'beginnings', 'begins', 'behind', 'being', 'believe', 'below', 'beside', 'besides', 'between', 'beyond', 'biol', 'both', 'brief', 'briefly', 'but', 'by', 'c', 'ca', 'came', 'can', 'cannot', \"can't\", 'cause', 'causes', 'certain', 'certainly', 'co', 'com', 'come', 'comes', 'contain', 'containing', 'contains', 'could', 'couldnt', 'd', 'date', 'did', \"didn't\", 'different', 'do', 'does', \"doesn't\", 'doing', 'done', \"don't\", 'down', 'downwards', 'due', 'during', 'e', 'each', 'ed', 'edu', 'effect', 'eg', 'eight', 'eighty', 'either', 'else', 'elsewhere', 'end', 'ending', 'enough', 'especially', 'et', 'et-al', 'etc', 'even', 'ever', 'every', 'everybody', 'everyone', 'everything', 'everywhere', 'ex', 'except', 'f', 'far', 'few', 'ff', 'fifth', 'first', 'five', 'fix', 'followed', 'following', 'follows', 'for', 'former', 'formerly', 'forth', 'found', 'four', 'from', 'further', 'furthermore', 'g', 'gave', 'get', 'gets', 'getting', 'give', 'given', 'gives', 'giving', 'go', 'goes', 'gone', 'got', 'gotten', 'h', 'had', 'happens', 'hardly', 'has', \"hasn't\", 'have', \"haven't\", 'having', 'he', 'hed', 'hence', 'her', 'here', 'hereafter', 'hereby', 'herein', 'heres', 'hereupon', 'hers', 'herself', 'hes', 'hi', 'hid', 'him', 'himself', 'his', 'hither', 'home', 'how', 'howbeit', 'however', 'hundred', 'i', 'id', 'ie', 'if', \"i'll\", 'im', 'immediate', 'immediately', 'importance', 'important', 'in', 'inc', 'indeed', 'index', 'information', 'instead', 'into', 'invention', 'inward', 'is', \"isn't\", 'it', 'itd', \"it'll\", 'its', 'itself', \"i've\", 'j', 'just', 'k', 'keep\\tkeeps', 'kept', 'kg', 'km', 'know', 'known', 'knows', 'l', 'largely', 'last', 'lately', 'later', 'latter', 'latterly', 'least', 'less', 'lest', 'let', 'lets', 'like', 'liked', 'likely', 'line', 'little', \"'ll\", 'look', 'looking', 'looks', 'ltd', 'm', 'made', 'mainly', 'make', 'makes', 'many', 'may', 'maybe', 'me', 'mean', 'means', 'meantime', 'meanwhile', 'merely', 'mg', 'might', 'million', 'miss', 'ml', 'more', 'moreover', 'most', 'mostly', 'mr', 'mrs', 'much', 'mug', 'must', 'my', 'myself', 'n', 'na', 'name', 'namely', 'nay', 'nd', 'near', 'nearly', 'necessarily', 'necessary', 'need', 'needs', 'neither', 'never', 'nevertheless', 'new', 'next', 'nine', 'ninety', 'no', 'nobody', 'non', 'none', 'nonetheless', 'noone', 'nor', 'normally', 'nos', 'not', 'noted', 'nothing', 'now', 'nowhere', 'o', 'obtain', 'obtained', 'obviously', 'of', 'off', 'often', 'oh', 'ok', 'okay', 'old', 'omitted', 'on', 'once', 'one', 'ones', 'only', 'onto', 'or', 'ord', 'other', 'others', 'otherwise', 'ought', 'our', 'ours', 'ourselves', 'out', 'outside', 'over', 'overall', 'owing', 'own', 'p', 'page', 'pages', 'part', 'particular', 'particularly', 'past', 'per', 'perhaps', 'placed', 'please', 'plus', 'poorly', 'possible', 'possibly', 'potentially', 'pp', 'predominantly', 'present', 'previously', 'primarily', 'probably', 'promptly', 'proud', 'provides', 'put', 'q', 'que', 'quickly', 'quite', 'qv', 'r', 'ran', 'rather', 'rd', 're', 'readily', 'really', 'recent', 'recently', 'ref', 'refs', 'regarding', 'regardless', 'regards', 'related', 'relatively', 'research', 'respectively', 'resulted', 'resulting', 'results', 'right', 'run', 's', 'said', 'same', 'saw', 'say', 'saying', 'says', 'sec', 'section', 'see', 'seeing', 'seem', 'seemed', 'seeming', 'seems', 'seen', 'self', 'selves', 'sent', 'seven', 'several', 'shall', 'she', 'shed', \"she'll\", 'shes', 'should', \"shouldn't\", 'show', 'showed', 'shown', 'showns', 'shows', 'significant', 'significantly', 'similar', 'similarly', 'since', 'six', 'slightly', 'so', 'some', 'somebody', 'somehow', 'someone', 'somethan', 'something', 'sometime', 'sometimes', 'somewhat', 'somewhere', 'soon', 'sorry', 'specifically', 'specified', 'specify', 'specifying', 'still', 'stop', 'strongly', 'sub', 'substantially', 'successfully', 'such', 'sufficiently', 'suggest', 'sup', 'sure\\tt', 'take', 'taken', 'taking', 'tell', 'tends', 'th', 'than', 'thank', 'thanks', 'thanx', 'that', \"that'll\", 'thats', \"that've\", 'the', 'their', 'theirs', 'them', 'themselves', 'then', 'thence', 'there', 'thereafter', 'thereby', 'thered', 'therefore', 'therein', \"there'll\", 'thereof', 'therere', 'theres', 'thereto', 'thereupon', \"there've\", 'these', 'they', 'theyd', \"they'll\", 'theyre', \"they've\", 'think', 'this', 'those', 'thou', 'though', 'thoughh', 'thousand', 'throug', 'through', 'throughout', 'thru', 'thus', 'til', 'tip', 'to', 'together', 'too', 'took', 'toward', 'towards', 'tried', 'tries', 'truly', 'try', 'trying', 'ts', 'twice', 'two', 'u', 'un', 'under', 'unfortunately', 'unless', 'unlike', 'unlikely', 'until', 'unto', 'up', 'upon', 'ups', 'us', 'use', 'used', 'useful', 'usefully', 'usefulness', 'uses', 'using', 'usually', 'v', 'value', 'various', \"'ve\", 'very', 'via', 'viz', 'vol', 'vols', 'vs', 'w', 'want', 'wants', 'was', 'wasnt', 'way', 'we', 'wed', 'welcome', \"we'll\", 'went', 'were', 'werent', \"we've\", 'what', 'whatever', \"what'll\", 'whats', 'when', 'whence', 'whenever', 'where', 'whereafter', 'whereas', 'whereby', 'wherein', 'wheres', 'whereupon', 'wherever', 'whether', 'which', 'while', 'whim', 'whither', 'who', 'whod', 'whoever', 'whole', \"who'll\", 'whom', 'whomever', 'whos', 'whose', 'why', 'widely', 'willing', 'wish', 'with', 'within', 'without', 'wont', 'words', 'world', 'would', 'wouldnt', 'www', 'x', 'y', 'yes', 'yet', 'you', 'youd', \"you'll\", 'your', 'youre', 'yours', 'yourself', 'yourselves', \"you've\", 'z', 'zero']\n"
     ]
    }
   ],
   "source": [
    "stopwords = []\n",
    "with open(\"../input/stopwords/stopwords.txt\", \"r\") as fd:\n",
    "    stopwords = fd.read().splitlines()\n",
    "\n",
    "print(stopwords)"
   ]
  },
  {
   "cell_type": "code",
   "execution_count": 15,
   "metadata": {
    "execution": {
     "iopub.execute_input": "2021-06-13T15:43:50.648511Z",
     "iopub.status.busy": "2021-06-13T15:43:50.627748Z",
     "iopub.status.idle": "2021-06-13T15:43:54.753318Z",
     "shell.execute_reply": "2021-06-13T15:43:54.752699Z",
     "shell.execute_reply.started": "2021-06-13T14:51:20.134182Z"
    },
    "papermill": {
     "duration": 4.220819,
     "end_time": "2021-06-13T15:43:54.753490",
     "exception": false,
     "start_time": "2021-06-13T15:43:50.532671",
     "status": "completed"
    },
    "tags": []
   },
   "outputs": [],
   "source": [
    "words =list(train_df.values)\n",
    "split_words=[]\n",
    "for word in words:\n",
    "    lo_w=[]\n",
    "    list_of_words=str(word).split()\n",
    "    for w in list_of_words:\n",
    "        if w not in stopwords:\n",
    "            lo_w.append(w)\n",
    "    split_words.append(lo_w)\n",
    "allwords = []\n",
    "for wordlist in split_words:\n",
    "    allwords += wordlist"
   ]
  },
  {
   "cell_type": "code",
   "execution_count": 16,
   "metadata": {
    "execution": {
     "iopub.execute_input": "2021-06-13T15:43:54.939757Z",
     "iopub.status.busy": "2021-06-13T15:43:54.919036Z",
     "iopub.status.idle": "2021-06-13T15:43:57.239355Z",
     "shell.execute_reply": "2021-06-13T15:43:57.238818Z",
     "shell.execute_reply.started": "2021-06-13T14:51:24.306652Z"
    },
    "papermill": {
     "duration": 2.424041,
     "end_time": "2021-06-13T15:43:57.239516",
     "exception": false,
     "start_time": "2021-06-13T15:43:54.815475",
     "status": "completed"
    },
    "tags": []
   },
   "outputs": [
    {
     "data": {
      "image/png": "[encoded data removed]",
      "text/plain": [
       "<Figure size 1080x720 with 1 Axes>"
      ]
     },
     "metadata": {},
     "output_type": "display_data"
    },
    {
     "data": {
      "image/png": "[encoded data removed]",
      "text/plain": [
       "<Figure size 1080x360 with 1 Axes>"
      ]
     },
     "metadata": {},
     "output_type": "display_data"
    }
   ],
   "source": [
    "mostcommon = FreqDist(allwords).most_common(100)\n",
    "wordcloud = WordCloud(width=1000, height=500, background_color='white', stopwords=STOPWORDS).generate(str(mostcommon))\n",
    "fig = plt.figure(figsize=(15,10), facecolor='white')\n",
    "plt.imshow(wordcloud, interpolation=\"bilinear\")\n",
    "plt.axis('off')\n",
    "plt.title('Top 100 Most Common Words in label')\n",
    "plt.tight_layout(pad=0)\n",
    "plt.show()\n",
    "\n",
    "mostcommon_small = FreqDist(allwords).most_common(25)\n",
    "x, y = zip(*mostcommon_small)\n",
    "plt.figure(figsize=(15,5))\n",
    "plt.margins(0.02)\n",
    "plt.bar(x, y)\n",
    "plt.xlabel('Words')\n",
    "plt.ylabel('Frequency of Words')\n",
    "plt.xticks(rotation=60)\n",
    "plt.tight_layout(pad=0)\n",
    "plt.title('Freq of 25 Most Common Words in label')\n",
    "plt.show()"
   ]
  },
  {
   "cell_type": "code",
   "execution_count": 17,
   "metadata": {
    "execution": {
     "iopub.execute_input": "2021-06-13T15:43:57.395958Z",
     "iopub.status.busy": "2021-06-13T15:43:57.395002Z",
     "iopub.status.idle": "2021-06-13T15:43:57.400463Z",
     "shell.execute_reply": "2021-06-13T15:43:57.399806Z",
     "shell.execute_reply.started": "2021-06-13T14:51:26.564679Z"
    },
    "papermill": {
     "duration": 0.089753,
     "end_time": "2021-06-13T15:43:57.400608",
     "exception": false,
     "start_time": "2021-06-13T15:43:57.310855",
     "status": "completed"
    },
    "tags": []
   },
   "outputs": [
    {
     "data": {
      "text/html": [
       "<div>\n",
       "<style scoped>\n",
       "    .dataframe tbody tr th:only-of-type {\n",
       "        vertical-align: middle;\n",
       "    }\n",
       "\n",
       "    .dataframe tbody tr th {\n",
       "        vertical-align: top;\n",
       "    }\n",
       "\n",
       "    .dataframe thead th {\n",
       "        text-align: right;\n",
       "    }\n",
       "</style>\n",
       "<table border=\"1\" class=\"dataframe\">\n",
       "  <thead>\n",
       "    <tr style=\"text-align: right;\">\n",
       "      <th></th>\n",
       "      <th>Id</th>\n",
       "      <th>pub_title</th>\n",
       "      <th>dataset_title</th>\n",
       "      <th>dataset_label</th>\n",
       "      <th>cleaned_label</th>\n",
       "    </tr>\n",
       "  </thead>\n",
       "  <tbody>\n",
       "    <tr>\n",
       "      <th>0</th>\n",
       "      <td>d0fa7568-7d8e-4db9-870f-f9c6f668c17b</td>\n",
       "      <td>The Impact of Dual Enrollment on College Degre...</td>\n",
       "      <td>National Education Longitudinal Study</td>\n",
       "      <td>National Education Longitudinal Study</td>\n",
       "      <td>national education longitudinal study</td>\n",
       "    </tr>\n",
       "    <tr>\n",
       "      <th>1</th>\n",
       "      <td>2f26f645-3dec-485d-b68d-f013c9e05e60</td>\n",
       "      <td>Educational Attainment of High School Dropouts...</td>\n",
       "      <td>National Education Longitudinal Study</td>\n",
       "      <td>National Education Longitudinal Study</td>\n",
       "      <td>national education longitudinal study</td>\n",
       "    </tr>\n",
       "    <tr>\n",
       "      <th>2</th>\n",
       "      <td>c5d5cd2c-59de-4f29-bbb1-6a88c7b52f29</td>\n",
       "      <td>Differences in Outcomes for Female and Male St...</td>\n",
       "      <td>National Education Longitudinal Study</td>\n",
       "      <td>National Education Longitudinal Study</td>\n",
       "      <td>national education longitudinal study</td>\n",
       "    </tr>\n",
       "    <tr>\n",
       "      <th>3</th>\n",
       "      <td>5c9a3bc9-41ba-4574-ad71-e25c1442c8af</td>\n",
       "      <td>Stepping Stone and Option Value in a Model of ...</td>\n",
       "      <td>National Education Longitudinal Study</td>\n",
       "      <td>National Education Longitudinal Study</td>\n",
       "      <td>national education longitudinal study</td>\n",
       "    </tr>\n",
       "    <tr>\n",
       "      <th>4</th>\n",
       "      <td>c754dec7-c5a3-4337-9892-c02158475064</td>\n",
       "      <td>Parental Effort, School Resources, and Student...</td>\n",
       "      <td>National Education Longitudinal Study</td>\n",
       "      <td>National Education Longitudinal Study</td>\n",
       "      <td>national education longitudinal study</td>\n",
       "    </tr>\n",
       "  </tbody>\n",
       "</table>\n",
       "</div>"
      ],
      "text/plain": [
       "                                     Id  \\\n",
       "0  d0fa7568-7d8e-4db9-870f-f9c6f668c17b   \n",
       "1  2f26f645-3dec-485d-b68d-f013c9e05e60   \n",
       "2  c5d5cd2c-59de-4f29-bbb1-6a88c7b52f29   \n",
       "3  5c9a3bc9-41ba-4574-ad71-e25c1442c8af   \n",
       "4  c754dec7-c5a3-4337-9892-c02158475064   \n",
       "\n",
       "                                           pub_title  \\\n",
       "0  The Impact of Dual Enrollment on College Degre...   \n",
       "1  Educational Attainment of High School Dropouts...   \n",
       "2  Differences in Outcomes for Female and Male St...   \n",
       "3  Stepping Stone and Option Value in a Model of ...   \n",
       "4  Parental Effort, School Resources, and Student...   \n",
       "\n",
       "                           dataset_title  \\\n",
       "0  National Education Longitudinal Study   \n",
       "1  National Education Longitudinal Study   \n",
       "2  National Education Longitudinal Study   \n",
       "3  National Education Longitudinal Study   \n",
       "4  National Education Longitudinal Study   \n",
       "\n",
       "                           dataset_label  \\\n",
       "0  National Education Longitudinal Study   \n",
       "1  National Education Longitudinal Study   \n",
       "2  National Education Longitudinal Study   \n",
       "3  National Education Longitudinal Study   \n",
       "4  National Education Longitudinal Study   \n",
       "\n",
       "                           cleaned_label  \n",
       "0  national education longitudinal study  \n",
       "1  national education longitudinal study  \n",
       "2  national education longitudinal study  \n",
       "3  national education longitudinal study  \n",
       "4  national education longitudinal study  "
      ]
     },
     "execution_count": 17,
     "metadata": {},
     "output_type": "execute_result"
    }
   ],
   "source": [
    "train_df.head()"
   ]
  },
  {
   "cell_type": "markdown",
   "metadata": {
    "papermill": {
     "duration": 0.071821,
     "end_time": "2021-06-13T15:43:57.545153",
     "exception": false,
     "start_time": "2021-06-13T15:43:57.473332",
     "status": "completed"
    },
    "tags": []
   },
   "source": [
    "## Retrieve document from random publication Id"
   ]
  },
  {
   "cell_type": "code",
   "execution_count": 18,
   "metadata": {
    "execution": {
     "iopub.execute_input": "2021-06-13T15:43:57.700654Z",
     "iopub.status.busy": "2021-06-13T15:43:57.699536Z",
     "iopub.status.idle": "2021-06-13T15:43:57.751102Z",
     "shell.execute_reply": "2021-06-13T15:43:57.751560Z",
     "shell.execute_reply.started": "2021-06-13T14:51:30.110355Z"
    },
    "papermill": {
     "duration": 0.134086,
     "end_time": "2021-06-13T15:43:57.751742",
     "exception": false,
     "start_time": "2021-06-13T15:43:57.617656",
     "status": "completed"
    },
    "tags": []
   },
   "outputs": [
    {
     "name": "stdout",
     "output_type": "stream",
     "text": [
      "Random publication ID: 4f49ba3c-f1a3-47d1-9f9b-d17c43867a42\n",
      "Random publication name: 4531    Alzheimer ' s disease progression in 1309 MRI ...\n",
      "9738    Alzheimer ' s disease progression in 1309 MRI ...\n",
      "Name: pub_title, dtype: object\n",
      "\n",
      "\n"
     ]
    },
    {
     "data": {
      "text/html": [
       "<div>\n",
       "<style scoped>\n",
       "    .dataframe tbody tr th:only-of-type {\n",
       "        vertical-align: middle;\n",
       "    }\n",
       "\n",
       "    .dataframe tbody tr th {\n",
       "        vertical-align: top;\n",
       "    }\n",
       "\n",
       "    .dataframe thead th {\n",
       "        text-align: right;\n",
       "    }\n",
       "</style>\n",
       "<table border=\"1\" class=\"dataframe\">\n",
       "  <thead>\n",
       "    <tr style=\"text-align: right;\">\n",
       "      <th></th>\n",
       "      <th>section_title</th>\n",
       "      <th>text</th>\n",
       "    </tr>\n",
       "  </thead>\n",
       "  <tbody>\n",
       "    <tr>\n",
       "      <th>0</th>\n",
       "      <td>Abstract</td>\n",
       "      <td>Neuroimaging centers and pharmaceutical compan...</td>\n",
       "    </tr>\n",
       "    <tr>\n",
       "      <th>1</th>\n",
       "      <td>Introduction</td>\n",
       "      <td>Alzheimer's disease (AD) is a pathological con...</td>\n",
       "    </tr>\n",
       "    <tr>\n",
       "      <th>2</th>\n",
       "      <td>Materials and methods</td>\n",
       "      <td></td>\n",
       "    </tr>\n",
       "    <tr>\n",
       "      <th>3</th>\n",
       "      <td>Subjects</td>\n",
       "      <td>Longitudinal brain MRI scans and associated cl...</td>\n",
       "    </tr>\n",
       "    <tr>\n",
       "      <th>4</th>\n",
       "      <td>MRI acquisition and image correction</td>\n",
       "      <td>All subjects were scanned with a standardized ...</td>\n",
       "    </tr>\n",
       "  </tbody>\n",
       "</table>\n",
       "</div>"
      ],
      "text/plain": [
       "                          section_title  \\\n",
       "0                              Abstract   \n",
       "1                          Introduction   \n",
       "2                 Materials and methods   \n",
       "3                              Subjects   \n",
       "4  MRI acquisition and image correction   \n",
       "\n",
       "                                                text  \n",
       "0  Neuroimaging centers and pharmaceutical compan...  \n",
       "1  Alzheimer's disease (AD) is a pathological con...  \n",
       "2                                                     \n",
       "3  Longitudinal brain MRI scans and associated cl...  \n",
       "4  All subjects were scanned with a standardized ...  "
      ]
     },
     "execution_count": 18,
     "metadata": {},
     "output_type": "execute_result"
    }
   ],
   "source": [
    "pub_id = np.random.choice(train_df['Id'].unique())\n",
    "pub_title = train_df[train_df[\"Id\"] == pub_id].pub_title\n",
    "pub_df = pd.read_json(train_files_path+\"/\"+str(pub_id)+\".json\")\n",
    "\n",
    "print(\"Random publication ID: {}\".format(pub_id))\n",
    "print(\"Random publication name: {}\".format(pub_title))\n",
    "print(\"\\n\")\n",
    "\n",
    "pub_df.head()"
   ]
  },
  {
   "cell_type": "code",
   "execution_count": 19,
   "metadata": {
    "execution": {
     "iopub.execute_input": "2021-06-13T15:43:57.915991Z",
     "iopub.status.busy": "2021-06-13T15:43:57.915018Z",
     "iopub.status.idle": "2021-06-13T15:43:57.919748Z",
     "shell.execute_reply": "2021-06-13T15:43:57.919146Z",
     "shell.execute_reply.started": "2021-06-12T18:08:17.160073Z"
    },
    "papermill": {
     "duration": 0.095676,
     "end_time": "2021-06-13T15:43:57.919924",
     "exception": false,
     "start_time": "2021-06-13T15:43:57.824248",
     "status": "completed"
    },
    "tags": []
   },
   "outputs": [
    {
     "data": {
      "text/html": [
       "<div>\n",
       "<style scoped>\n",
       "    .dataframe tbody tr th:only-of-type {\n",
       "        vertical-align: middle;\n",
       "    }\n",
       "\n",
       "    .dataframe tbody tr th {\n",
       "        vertical-align: top;\n",
       "    }\n",
       "\n",
       "    .dataframe thead th {\n",
       "        text-align: right;\n",
       "    }\n",
       "</style>\n",
       "<table border=\"1\" class=\"dataframe\">\n",
       "  <thead>\n",
       "    <tr style=\"text-align: right;\">\n",
       "      <th></th>\n",
       "      <th>Id</th>\n",
       "      <th>pub_title</th>\n",
       "      <th>dataset_title</th>\n",
       "      <th>dataset_label</th>\n",
       "      <th>cleaned_label</th>\n",
       "    </tr>\n",
       "  </thead>\n",
       "  <tbody>\n",
       "    <tr>\n",
       "      <th>4531</th>\n",
       "      <td>4f49ba3c-f1a3-47d1-9f9b-d17c43867a42</td>\n",
       "      <td>Alzheimer ' s disease progression in 1309 MRI ...</td>\n",
       "      <td>Alzheimer's Disease Neuroimaging Initiative (A...</td>\n",
       "      <td>ADNI</td>\n",
       "      <td>adni</td>\n",
       "    </tr>\n",
       "    <tr>\n",
       "      <th>9738</th>\n",
       "      <td>4f49ba3c-f1a3-47d1-9f9b-d17c43867a42</td>\n",
       "      <td>Alzheimer ' s disease progression in 1309 MRI ...</td>\n",
       "      <td>Alzheimer's Disease Neuroimaging Initiative (A...</td>\n",
       "      <td>Alzheimer's Disease Neuroimaging Initiative (A...</td>\n",
       "      <td>alzheimer s disease neuroimaging initiative adni</td>\n",
       "    </tr>\n",
       "  </tbody>\n",
       "</table>\n",
       "</div>"
      ],
      "text/plain": [
       "                                        Id  \\\n",
       "4531  4f49ba3c-f1a3-47d1-9f9b-d17c43867a42   \n",
       "9738  4f49ba3c-f1a3-47d1-9f9b-d17c43867a42   \n",
       "\n",
       "                                              pub_title  \\\n",
       "4531  Alzheimer ' s disease progression in 1309 MRI ...   \n",
       "9738  Alzheimer ' s disease progression in 1309 MRI ...   \n",
       "\n",
       "                                          dataset_title  \\\n",
       "4531  Alzheimer's Disease Neuroimaging Initiative (A...   \n",
       "9738  Alzheimer's Disease Neuroimaging Initiative (A...   \n",
       "\n",
       "                                          dataset_label  \\\n",
       "4531                                               ADNI   \n",
       "9738  Alzheimer's Disease Neuroimaging Initiative (A...   \n",
       "\n",
       "                                          cleaned_label  \n",
       "4531                                               adni  \n",
       "9738  alzheimer s disease neuroimaging initiative adni   "
      ]
     },
     "execution_count": 19,
     "metadata": {},
     "output_type": "execute_result"
    }
   ],
   "source": [
    "train_df[train_df[\"Id\"] == pub_id]"
   ]
  },
  {
   "cell_type": "code",
   "execution_count": 20,
   "metadata": {
    "execution": {
     "iopub.execute_input": "2021-06-13T15:43:58.082233Z",
     "iopub.status.busy": "2021-06-13T15:43:58.080123Z",
     "iopub.status.idle": "2021-06-13T15:43:58.087620Z",
     "shell.execute_reply": "2021-06-13T15:43:58.088320Z",
     "shell.execute_reply.started": "2021-06-12T18:08:17.178559Z"
    },
    "papermill": {
     "duration": 0.094287,
     "end_time": "2021-06-13T15:43:58.088574",
     "exception": false,
     "start_time": "2021-06-13T15:43:57.994287",
     "status": "completed"
    },
    "tags": []
   },
   "outputs": [
    {
     "name": "stdout",
     "output_type": "stream",
     "text": [
      "Nr. of sections in this publication: 20\n",
      "Datasets in this publication: [\"Alzheimer's Disease Neuroimaging Initiative (ADNI)\"\n",
      " \"Alzheimer's Disease Neuroimaging Initiative (ADNI)\"]\n"
     ]
    }
   ],
   "source": [
    "pub_dataset_titles = train_df[train_df[\"Id\"] == pub_id].dataset_title.values\n",
    "\n",
    "print(\"Nr. of sections in this publication: {}\".format(pub_df[\"section_title\"].count()))\n",
    "print(\"Datasets in this publication: {}\".format(pub_dataset_titles))"
   ]
  },
  {
   "cell_type": "code",
   "execution_count": 21,
   "metadata": {
    "execution": {
     "iopub.execute_input": "2021-06-13T15:43:58.244382Z",
     "iopub.status.busy": "2021-06-13T15:43:58.243324Z",
     "iopub.status.idle": "2021-06-13T15:43:58.257275Z",
     "shell.execute_reply": "2021-06-13T15:43:58.257746Z",
     "shell.execute_reply.started": "2021-06-12T18:08:17.201359Z"
    },
    "papermill": {
     "duration": 0.093805,
     "end_time": "2021-06-13T15:43:58.257966",
     "exception": false,
     "start_time": "2021-06-13T15:43:58.164161",
     "status": "completed"
    },
    "tags": []
   },
   "outputs": [
    {
     "data": {
      "text/html": [
       "<div>\n",
       "<style scoped>\n",
       "    .dataframe tbody tr th:only-of-type {\n",
       "        vertical-align: middle;\n",
       "    }\n",
       "\n",
       "    .dataframe tbody tr th {\n",
       "        vertical-align: top;\n",
       "    }\n",
       "\n",
       "    .dataframe thead th {\n",
       "        text-align: right;\n",
       "    }\n",
       "</style>\n",
       "<table border=\"1\" class=\"dataframe\">\n",
       "  <thead>\n",
       "    <tr style=\"text-align: right;\">\n",
       "      <th></th>\n",
       "      <th>section_title</th>\n",
       "      <th>text</th>\n",
       "      <th>lowercase_text</th>\n",
       "    </tr>\n",
       "  </thead>\n",
       "  <tbody>\n",
       "    <tr>\n",
       "      <th>0</th>\n",
       "      <td>Abstract</td>\n",
       "      <td>Neuroimaging centers and pharmaceutical compan...</td>\n",
       "      <td>neuroimaging centers and pharmaceutical compan...</td>\n",
       "    </tr>\n",
       "    <tr>\n",
       "      <th>1</th>\n",
       "      <td>Introduction</td>\n",
       "      <td>Alzheimer's disease (AD) is a pathological con...</td>\n",
       "      <td>alzheimer's disease (ad) is a pathological con...</td>\n",
       "    </tr>\n",
       "    <tr>\n",
       "      <th>2</th>\n",
       "      <td>Materials and methods</td>\n",
       "      <td></td>\n",
       "      <td></td>\n",
       "    </tr>\n",
       "    <tr>\n",
       "      <th>3</th>\n",
       "      <td>Subjects</td>\n",
       "      <td>Longitudinal brain MRI scans and associated cl...</td>\n",
       "      <td>longitudinal brain mri scans and associated cl...</td>\n",
       "    </tr>\n",
       "    <tr>\n",
       "      <th>4</th>\n",
       "      <td>MRI acquisition and image correction</td>\n",
       "      <td>All subjects were scanned with a standardized ...</td>\n",
       "      <td>all subjects were scanned with a standardized ...</td>\n",
       "    </tr>\n",
       "  </tbody>\n",
       "</table>\n",
       "</div>"
      ],
      "text/plain": [
       "                          section_title  \\\n",
       "0                              Abstract   \n",
       "1                          Introduction   \n",
       "2                 Materials and methods   \n",
       "3                              Subjects   \n",
       "4  MRI acquisition and image correction   \n",
       "\n",
       "                                                text  \\\n",
       "0  Neuroimaging centers and pharmaceutical compan...   \n",
       "1  Alzheimer's disease (AD) is a pathological con...   \n",
       "2                                                      \n",
       "3  Longitudinal brain MRI scans and associated cl...   \n",
       "4  All subjects were scanned with a standardized ...   \n",
       "\n",
       "                                      lowercase_text  \n",
       "0  neuroimaging centers and pharmaceutical compan...  \n",
       "1  alzheimer's disease (ad) is a pathological con...  \n",
       "2                                                     \n",
       "3  longitudinal brain mri scans and associated cl...  \n",
       "4  all subjects were scanned with a standardized ...  "
      ]
     },
     "execution_count": 21,
     "metadata": {},
     "output_type": "execute_result"
    }
   ],
   "source": [
    "# Find sentence(s) containing dataset name\n",
    "pub_df['lowercase_text'] = pub_df[\"text\"].str.lower()\n",
    "\n",
    "pub_df.head()"
   ]
  },
  {
   "cell_type": "code",
   "execution_count": 22,
   "metadata": {
    "execution": {
     "iopub.execute_input": "2021-06-13T15:43:58.411992Z",
     "iopub.status.busy": "2021-06-13T15:43:58.410711Z",
     "iopub.status.idle": "2021-06-13T15:43:58.418074Z",
     "shell.execute_reply": "2021-06-13T15:43:58.418628Z",
     "shell.execute_reply.started": "2021-06-12T18:08:17.224588Z"
    },
    "papermill": {
     "duration": 0.086605,
     "end_time": "2021-06-13T15:43:58.418823",
     "exception": false,
     "start_time": "2021-06-13T15:43:58.332218",
     "status": "completed"
    },
    "tags": []
   },
   "outputs": [
    {
     "name": "stdout",
     "output_type": "stream",
     "text": [
      "[\"alzheimer's disease neuroimaging initiative (adni)\"\n",
      " \"alzheimer's disease neuroimaging initiative (adni)\"]\n"
     ]
    }
   ],
   "source": [
    "clean_datasets = np.array([])\n",
    "\n",
    "for dataset in pub_dataset_titles:\n",
    "    clean_datasets = np.append(clean_datasets, dataset.lower())\n",
    "\n",
    "print(clean_datasets)"
   ]
  },
  {
   "cell_type": "code",
   "execution_count": 23,
   "metadata": {
    "execution": {
     "iopub.execute_input": "2021-06-13T15:43:58.575955Z",
     "iopub.status.busy": "2021-06-13T15:43:58.575239Z",
     "iopub.status.idle": "2021-06-13T15:43:58.578790Z",
     "shell.execute_reply": "2021-06-13T15:43:58.578280Z",
     "shell.execute_reply.started": "2021-06-12T18:08:17.241372Z"
    },
    "papermill": {
     "duration": 0.084722,
     "end_time": "2021-06-13T15:43:58.578974",
     "exception": false,
     "start_time": "2021-06-13T15:43:58.494252",
     "status": "completed"
    },
    "tags": []
   },
   "outputs": [],
   "source": [
    "def extract_ds_sentence(text, dataset_title):\n",
    "    escaped_ds_title = re.escape(dataset_title)\n",
    "    return re.findall(r\"([^.]*?\"+re.escape(escaped_ds_title)+\"[^.]*\\.)\",text)"
   ]
  },
  {
   "cell_type": "markdown",
   "metadata": {
    "papermill": {
     "duration": 0.07498,
     "end_time": "2021-06-13T15:43:58.728608",
     "exception": false,
     "start_time": "2021-06-13T15:43:58.653628",
     "status": "completed"
    },
    "tags": []
   },
   "source": [
    "## Cleaning the data"
   ]
  },
  {
   "cell_type": "code",
   "execution_count": 24,
   "metadata": {
    "execution": {
     "iopub.execute_input": "2021-06-13T15:43:58.886740Z",
     "iopub.status.busy": "2021-06-13T15:43:58.886031Z",
     "iopub.status.idle": "2021-06-13T15:43:58.895979Z",
     "shell.execute_reply": "2021-06-13T15:43:58.895323Z",
     "shell.execute_reply.started": "2021-06-12T18:08:17.256036Z"
    },
    "papermill": {
     "duration": 0.092287,
     "end_time": "2021-06-13T15:43:58.896130",
     "exception": false,
     "start_time": "2021-06-13T15:43:58.803843",
     "status": "completed"
    },
    "tags": []
   },
   "outputs": [
    {
     "name": "stdout",
     "output_type": "stream",
     "text": [
      "<class 'numpy.ndarray'>\n"
     ]
    },
    {
     "data": {
      "text/plain": [
       "array(['d0fa7568-7d8e-4db9-870f-f9c6f668c17b',\n",
       "       '2f26f645-3dec-485d-b68d-f013c9e05e60',\n",
       "       'c5d5cd2c-59de-4f29-bbb1-6a88c7b52f29',\n",
       "       '5c9a3bc9-41ba-4574-ad71-e25c1442c8af',\n",
       "       'c754dec7-c5a3-4337-9892-c02158475064',\n",
       "       '81b5f874-9b42-4d4f-8c50-b4bab24f8aed',\n",
       "       'f35fdfa6-a3f9-4ef3-a858-c8e2efcd2349',\n",
       "       '1b21f60a-4022-4b19-95ce-6fd7157d4aa9',\n",
       "       'e5a4c6af-0854-4f7e-b088-06f03c18a01a',\n",
       "       '4e18b1c7-e195-46e2-af0f-78757259f0c6'], dtype=object)"
      ]
     },
     "execution_count": 24,
     "metadata": {},
     "output_type": "execute_result"
    }
   ],
   "source": [
    "all_IDs = train_df['Id'].unique()\n",
    "\n",
    "print(type(all_IDs))\n",
    "all_IDs_test = all_IDs[:5000]\n",
    "all_IDs_test[:10]"
   ]
  },
  {
   "cell_type": "code",
   "execution_count": 25,
   "metadata": {
    "execution": {
     "iopub.execute_input": "2021-06-13T15:43:59.060284Z",
     "iopub.status.busy": "2021-06-13T15:43:59.059541Z",
     "iopub.status.idle": "2021-06-13T15:43:59.063036Z",
     "shell.execute_reply": "2021-06-13T15:43:59.062509Z",
     "shell.execute_reply.started": "2021-06-12T18:08:17.277992Z"
    },
    "papermill": {
     "duration": 0.091098,
     "end_time": "2021-06-13T15:43:59.063191",
     "exception": false,
     "start_time": "2021-06-13T15:43:58.972093",
     "status": "completed"
    },
    "tags": []
   },
   "outputs": [],
   "source": [
    "def slice_sentence(pub_id): \n",
    "    final_df = pd.DataFrame()\n",
    "    path_to_pub = os.path.join(train_files_path, (pub_id+'.json'))\n",
    "\n",
    "    sentences_col = np.array([])\n",
    "    labels_col = np.array([])\n",
    "    sections_col = np.array([])\n",
    "\n",
    "    with open(path_to_pub, 'r') as f:  \n",
    "        pub_df = pd.read_json(f)\n",
    "\n",
    "    for index,row in pub_df.iterrows():\n",
    "        sentences_in_section = re.findall(r\"[A-Z].*?[\\.!?]\\s?(?=[A-Z]|$)\",row[\"text\"])\n",
    "    \n",
    "        for sentence in sentences_in_section:\n",
    "            for label in train_df[train_df['Id'] == pub_id].dataset_label:\n",
    "                if label in sentence:\n",
    "                    sentences_col = np.append(sentences_col,sentence)\n",
    "                    labels_col = np.append(labels_col,label)\n",
    "                    sections_col = np.append(sections_col,row[\"section_title\"])\n",
    "    \n",
    "    final_df[\"Section\"] = sections_col\n",
    "    final_df[\"Text\"] = sentences_col\n",
    "    final_df[\"Label\"] = labels_col\n",
    "    final_df[\"Id\"] = pub_id\n",
    "    \n",
    "    return final_df"
   ]
  },
  {
   "cell_type": "code",
   "execution_count": 26,
   "metadata": {
    "execution": {
     "iopub.execute_input": "2021-06-13T15:43:59.226812Z",
     "iopub.status.busy": "2021-06-13T15:43:59.226096Z",
     "iopub.status.idle": "2021-06-13T15:43:59.228489Z",
     "shell.execute_reply": "2021-06-13T15:43:59.228994Z",
     "shell.execute_reply.started": "2021-06-12T18:08:17.289026Z"
    },
    "papermill": {
     "duration": 0.089283,
     "end_time": "2021-06-13T15:43:59.229210",
     "exception": false,
     "start_time": "2021-06-13T15:43:59.139927",
     "status": "completed"
    },
    "tags": []
   },
   "outputs": [],
   "source": [
    "def slice_section(pub_id): \n",
    "    final_df = pd.DataFrame()\n",
    "    path_to_pub = os.path.join(train_files_path, (pub_id+'.json'))\n",
    "\n",
    "    text_col = np.array([])\n",
    "    labels_col = np.array([])\n",
    "    sections_col = np.array([])\n",
    "\n",
    "    with open(path_to_pub, 'r') as f:  \n",
    "        pub_df = pd.read_json(f)\n",
    "\n",
    "    for index,row in pub_df.iterrows():\n",
    "        for label in train_df[train_df['Id'] == pub_id].dataset_label:\n",
    "            if label in row['text']:\n",
    "                labels_col = np.append(labels_col,label)\n",
    "                sections_col = np.append(sections_col,row[\"section_title\"])\n",
    "                text_col = np.append(text_col,row[\"text\"])\n",
    "            \n",
    "    \n",
    "    final_df[\"Section\"] = sections_col\n",
    "    final_df[\"Text\"] = text_col\n",
    "    final_df[\"Label\"] = labels_col\n",
    "    final_df[\"Id\"] = pub_id\n",
    "    \n",
    "    return final_df"
   ]
  },
  {
   "cell_type": "code",
   "execution_count": 27,
   "metadata": {
    "execution": {
     "iopub.execute_input": "2021-06-13T15:43:59.385377Z",
     "iopub.status.busy": "2021-06-13T15:43:59.384614Z",
     "iopub.status.idle": "2021-06-13T15:43:59.493110Z",
     "shell.execute_reply": "2021-06-13T15:43:59.493655Z",
     "shell.execute_reply.started": "2021-06-12T18:08:17.314217Z"
    },
    "papermill": {
     "duration": 0.188469,
     "end_time": "2021-06-13T15:43:59.493837",
     "exception": false,
     "start_time": "2021-06-13T15:43:59.305368",
     "status": "completed"
    },
    "tags": []
   },
   "outputs": [
    {
     "data": {
      "text/html": [
       "<div>\n",
       "<style scoped>\n",
       "    .dataframe tbody tr th:only-of-type {\n",
       "        vertical-align: middle;\n",
       "    }\n",
       "\n",
       "    .dataframe tbody tr th {\n",
       "        vertical-align: top;\n",
       "    }\n",
       "\n",
       "    .dataframe thead th {\n",
       "        text-align: right;\n",
       "    }\n",
       "</style>\n",
       "<table border=\"1\" class=\"dataframe\">\n",
       "  <thead>\n",
       "    <tr style=\"text-align: right;\">\n",
       "      <th></th>\n",
       "      <th>Section</th>\n",
       "      <th>Text</th>\n",
       "      <th>Label</th>\n",
       "      <th>Id</th>\n",
       "    </tr>\n",
       "  </thead>\n",
       "  <tbody>\n",
       "    <tr>\n",
       "      <th>0</th>\n",
       "      <td>Abstract</td>\n",
       "      <td>This study examines two important and related ...</td>\n",
       "      <td>National Education Longitudinal Study</td>\n",
       "      <td>e977a870-0067-4221-8423-5ff349510222</td>\n",
       "    </tr>\n",
       "    <tr>\n",
       "      <th>1</th>\n",
       "      <td>Abstract</td>\n",
       "      <td>This study examines two important and related ...</td>\n",
       "      <td>Education Longitudinal Study</td>\n",
       "      <td>e977a870-0067-4221-8423-5ff349510222</td>\n",
       "    </tr>\n",
       "    <tr>\n",
       "      <th>2</th>\n",
       "      <td>Introduction</td>\n",
       "      <td>When then-Harvard President Lawrence Summers p...</td>\n",
       "      <td>National Education Longitudinal Study</td>\n",
       "      <td>e977a870-0067-4221-8423-5ff349510222</td>\n",
       "    </tr>\n",
       "    <tr>\n",
       "      <th>3</th>\n",
       "      <td>Introduction</td>\n",
       "      <td>When then-Harvard President Lawrence Summers p...</td>\n",
       "      <td>Education Longitudinal Study</td>\n",
       "      <td>e977a870-0067-4221-8423-5ff349510222</td>\n",
       "    </tr>\n",
       "    <tr>\n",
       "      <th>4</th>\n",
       "      <td>Pathways to a STEM Bachelor Degree</td>\n",
       "      <td>To decompose the persisting gender gap in STEM...</td>\n",
       "      <td>National Education Longitudinal Study</td>\n",
       "      <td>e977a870-0067-4221-8423-5ff349510222</td>\n",
       "    </tr>\n",
       "    <tr>\n",
       "      <th>5</th>\n",
       "      <td>Pathways to a STEM Bachelor Degree</td>\n",
       "      <td>To decompose the persisting gender gap in STEM...</td>\n",
       "      <td>Education Longitudinal Study</td>\n",
       "      <td>e977a870-0067-4221-8423-5ff349510222</td>\n",
       "    </tr>\n",
       "    <tr>\n",
       "      <th>6</th>\n",
       "      <td>The Role of High School for the Gender Gap in ...</td>\n",
       "      <td>The last section demonstrated our first centra...</td>\n",
       "      <td>National Education Longitudinal Study</td>\n",
       "      <td>e977a870-0067-4221-8423-5ff349510222</td>\n",
       "    </tr>\n",
       "    <tr>\n",
       "      <th>7</th>\n",
       "      <td>The Role of High School for the Gender Gap in ...</td>\n",
       "      <td>The last section demonstrated our first centra...</td>\n",
       "      <td>Education Longitudinal Study</td>\n",
       "      <td>e977a870-0067-4221-8423-5ff349510222</td>\n",
       "    </tr>\n",
       "    <tr>\n",
       "      <th>8</th>\n",
       "      <td>Conclusion</td>\n",
       "      <td>Despite the striking reversal of the gender ga...</td>\n",
       "      <td>National Education Longitudinal Study</td>\n",
       "      <td>e977a870-0067-4221-8423-5ff349510222</td>\n",
       "    </tr>\n",
       "    <tr>\n",
       "      <th>9</th>\n",
       "      <td>Conclusion</td>\n",
       "      <td>Despite the striking reversal of the gender ga...</td>\n",
       "      <td>Education Longitudinal Study</td>\n",
       "      <td>e977a870-0067-4221-8423-5ff349510222</td>\n",
       "    </tr>\n",
       "    <tr>\n",
       "      <th>10</th>\n",
       "      <td>Appendix A Samples, Variables, and Missing Data</td>\n",
       "      <td>The analyses presented in this paper are based...</td>\n",
       "      <td>National Education Longitudinal Study</td>\n",
       "      <td>e977a870-0067-4221-8423-5ff349510222</td>\n",
       "    </tr>\n",
       "    <tr>\n",
       "      <th>11</th>\n",
       "      <td>Appendix A Samples, Variables, and Missing Data</td>\n",
       "      <td>The analyses presented in this paper are based...</td>\n",
       "      <td>Education Longitudinal Study</td>\n",
       "      <td>e977a870-0067-4221-8423-5ff349510222</td>\n",
       "    </tr>\n",
       "  </tbody>\n",
       "</table>\n",
       "</div>"
      ],
      "text/plain": [
       "                                              Section  \\\n",
       "0                                            Abstract   \n",
       "1                                            Abstract   \n",
       "2                                        Introduction   \n",
       "3                                        Introduction   \n",
       "4                  Pathways to a STEM Bachelor Degree   \n",
       "5                  Pathways to a STEM Bachelor Degree   \n",
       "6   The Role of High School for the Gender Gap in ...   \n",
       "7   The Role of High School for the Gender Gap in ...   \n",
       "8                                          Conclusion   \n",
       "9                                          Conclusion   \n",
       "10    Appendix A Samples, Variables, and Missing Data   \n",
       "11    Appendix A Samples, Variables, and Missing Data   \n",
       "\n",
       "                                                 Text  \\\n",
       "0   This study examines two important and related ...   \n",
       "1   This study examines two important and related ...   \n",
       "2   When then-Harvard President Lawrence Summers p...   \n",
       "3   When then-Harvard President Lawrence Summers p...   \n",
       "4   To decompose the persisting gender gap in STEM...   \n",
       "5   To decompose the persisting gender gap in STEM...   \n",
       "6   The last section demonstrated our first centra...   \n",
       "7   The last section demonstrated our first centra...   \n",
       "8   Despite the striking reversal of the gender ga...   \n",
       "9   Despite the striking reversal of the gender ga...   \n",
       "10  The analyses presented in this paper are based...   \n",
       "11  The analyses presented in this paper are based...   \n",
       "\n",
       "                                    Label  \\\n",
       "0   National Education Longitudinal Study   \n",
       "1            Education Longitudinal Study   \n",
       "2   National Education Longitudinal Study   \n",
       "3            Education Longitudinal Study   \n",
       "4   National Education Longitudinal Study   \n",
       "5            Education Longitudinal Study   \n",
       "6   National Education Longitudinal Study   \n",
       "7            Education Longitudinal Study   \n",
       "8   National Education Longitudinal Study   \n",
       "9            Education Longitudinal Study   \n",
       "10  National Education Longitudinal Study   \n",
       "11           Education Longitudinal Study   \n",
       "\n",
       "                                      Id  \n",
       "0   e977a870-0067-4221-8423-5ff349510222  \n",
       "1   e977a870-0067-4221-8423-5ff349510222  \n",
       "2   e977a870-0067-4221-8423-5ff349510222  \n",
       "3   e977a870-0067-4221-8423-5ff349510222  \n",
       "4   e977a870-0067-4221-8423-5ff349510222  \n",
       "5   e977a870-0067-4221-8423-5ff349510222  \n",
       "6   e977a870-0067-4221-8423-5ff349510222  \n",
       "7   e977a870-0067-4221-8423-5ff349510222  \n",
       "8   e977a870-0067-4221-8423-5ff349510222  \n",
       "9   e977a870-0067-4221-8423-5ff349510222  \n",
       "10  e977a870-0067-4221-8423-5ff349510222  \n",
       "11  e977a870-0067-4221-8423-5ff349510222  "
      ]
     },
     "execution_count": 27,
     "metadata": {},
     "output_type": "execute_result"
    }
   ],
   "source": [
    "slice_section(all_IDs[13])"
   ]
  },
  {
   "cell_type": "code",
   "execution_count": 28,
   "metadata": {
    "execution": {
     "iopub.execute_input": "2021-06-13T15:43:59.651217Z",
     "iopub.status.busy": "2021-06-13T15:43:59.650497Z",
     "iopub.status.idle": "2021-06-13T15:43:59.844722Z",
     "shell.execute_reply": "2021-06-13T15:43:59.845496Z",
     "shell.execute_reply.started": "2021-06-12T18:08:17.445017Z"
    },
    "papermill": {
     "duration": 0.27573,
     "end_time": "2021-06-13T15:43:59.845747",
     "exception": false,
     "start_time": "2021-06-13T15:43:59.570017",
     "status": "completed"
    },
    "tags": []
   },
   "outputs": [
    {
     "name": "stdout",
     "output_type": "stream",
     "text": [
      "This study examines two important and related dimensions of the persisting gender gap in science, technology, engineering, and mathematics (STEM) bachelor degrees: First, the life-course timing of a stable gender gap in STEM orientation, and second, variations in the gender gap across high schools. We build on existing psychological and sociological gender theories to develop a theoretical argument about the development of STEM orientations during adolescence and the potential influence of the local high school environment on the formation of STEM orientations by females and males. Using the National Education Longitudinal Study (NELS), we then decompose the gender gap in STEM bachelor degrees and show that the solidification of the gender gap in STEM orientations is largely a process that occurs during the high school years. Far from being a fixed attribute of adolescent development, however, we find that the size of the gender gap in STEM orientation is quite sensitive to local high school influences; going to school at a high school that is supportive of a positive orientation by females towards math and science can reduce the gender gap in STEM bachelor degrees by 25% or more.\n",
      "National Education Longitudinal Study\n"
     ]
    }
   ],
   "source": [
    "print(slice_section(all_IDs[13])['Text'].values[0])\n",
    "print(slice_section(all_IDs[13])['Label'].values[0])"
   ]
  },
  {
   "cell_type": "code",
   "execution_count": 29,
   "metadata": {
    "execution": {
     "iopub.execute_input": "2021-06-13T15:44:00.010073Z",
     "iopub.status.busy": "2021-06-13T15:44:00.009311Z",
     "iopub.status.idle": "2021-06-13T15:44:00.179644Z",
     "shell.execute_reply": "2021-06-13T15:44:00.178926Z",
     "shell.execute_reply.started": "2021-06-12T18:08:17.629481Z"
    },
    "papermill": {
     "duration": 0.25512,
     "end_time": "2021-06-13T15:44:00.179797",
     "exception": false,
     "start_time": "2021-06-13T15:43:59.924677",
     "status": "completed"
    },
    "tags": []
   },
   "outputs": [
    {
     "data": {
      "text/html": [
       "<div>\n",
       "<style scoped>\n",
       "    .dataframe tbody tr th:only-of-type {\n",
       "        vertical-align: middle;\n",
       "    }\n",
       "\n",
       "    .dataframe tbody tr th {\n",
       "        vertical-align: top;\n",
       "    }\n",
       "\n",
       "    .dataframe thead th {\n",
       "        text-align: right;\n",
       "    }\n",
       "</style>\n",
       "<table border=\"1\" class=\"dataframe\">\n",
       "  <thead>\n",
       "    <tr style=\"text-align: right;\">\n",
       "      <th></th>\n",
       "      <th>Section</th>\n",
       "      <th>Text</th>\n",
       "      <th>Label</th>\n",
       "      <th>Id</th>\n",
       "    </tr>\n",
       "  </thead>\n",
       "  <tbody>\n",
       "    <tr>\n",
       "      <th>0</th>\n",
       "      <td>How Was the Study Conducted?</td>\n",
       "      <td>Data in this report are from the Agricultural ...</td>\n",
       "      <td>Agricultural Resource Management Survey</td>\n",
       "      <td>83c59eeb-d015-4c4e-8d36-cb2cc6dadbe2</td>\n",
       "    </tr>\n",
       "    <tr>\n",
       "      <th>1</th>\n",
       "      <td>How Was the Study Conducted?</td>\n",
       "      <td>Data in this report are from the Agricultural ...</td>\n",
       "      <td>Census of Agriculture</td>\n",
       "      <td>83c59eeb-d015-4c4e-8d36-cb2cc6dadbe2</td>\n",
       "    </tr>\n",
       "    <tr>\n",
       "      <th>2</th>\n",
       "      <td>Farm and Operator Household Data</td>\n",
       "      <td>Farm and operator household data in this repor...</td>\n",
       "      <td>ARMS Farm Financial and Crop Production Practices</td>\n",
       "      <td>83c59eeb-d015-4c4e-8d36-cb2cc6dadbe2</td>\n",
       "    </tr>\n",
       "    <tr>\n",
       "      <th>3</th>\n",
       "      <td>Farm and Operator Household Data</td>\n",
       "      <td>Farm and operator household data in this repor...</td>\n",
       "      <td>Agricultural Resource Management Survey</td>\n",
       "      <td>83c59eeb-d015-4c4e-8d36-cb2cc6dadbe2</td>\n",
       "    </tr>\n",
       "  </tbody>\n",
       "</table>\n",
       "</div>"
      ],
      "text/plain": [
       "                            Section  \\\n",
       "0      How Was the Study Conducted?   \n",
       "1      How Was the Study Conducted?   \n",
       "2  Farm and Operator Household Data   \n",
       "3  Farm and Operator Household Data   \n",
       "\n",
       "                                                Text  \\\n",
       "0  Data in this report are from the Agricultural ...   \n",
       "1  Data in this report are from the Agricultural ...   \n",
       "2  Farm and operator household data in this repor...   \n",
       "3  Farm and operator household data in this repor...   \n",
       "\n",
       "                                               Label  \\\n",
       "0            Agricultural Resource Management Survey   \n",
       "1                              Census of Agriculture   \n",
       "2  ARMS Farm Financial and Crop Production Practices   \n",
       "3            Agricultural Resource Management Survey   \n",
       "\n",
       "                                     Id  \n",
       "0  83c59eeb-d015-4c4e-8d36-cb2cc6dadbe2  \n",
       "1  83c59eeb-d015-4c4e-8d36-cb2cc6dadbe2  \n",
       "2  83c59eeb-d015-4c4e-8d36-cb2cc6dadbe2  \n",
       "3  83c59eeb-d015-4c4e-8d36-cb2cc6dadbe2  "
      ]
     },
     "execution_count": 29,
     "metadata": {},
     "output_type": "execute_result"
    }
   ],
   "source": [
    "slice_section(\"83c59eeb-d015-4c4e-8d36-cb2cc6dadbe2\")"
   ]
  },
  {
   "cell_type": "code",
   "execution_count": 30,
   "metadata": {
    "execution": {
     "iopub.execute_input": "2021-06-13T15:44:00.340260Z",
     "iopub.status.busy": "2021-06-13T15:44:00.339543Z",
     "iopub.status.idle": "2021-06-13T15:44:00.342803Z",
     "shell.execute_reply": "2021-06-13T15:44:00.342273Z",
     "shell.execute_reply.started": "2021-06-12T18:08:17.774712Z"
    },
    "papermill": {
     "duration": 0.085552,
     "end_time": "2021-06-13T15:44:00.342981",
     "exception": false,
     "start_time": "2021-06-13T15:44:00.257429",
     "status": "completed"
    },
    "tags": []
   },
   "outputs": [],
   "source": [
    "total_contents = np.array([])"
   ]
  },
  {
   "cell_type": "code",
   "execution_count": 31,
   "metadata": {
    "execution": {
     "iopub.execute_input": "2021-06-13T15:44:00.506414Z",
     "iopub.status.busy": "2021-06-13T15:44:00.505486Z",
     "iopub.status.idle": "2021-06-13T15:44:00.508942Z",
     "shell.execute_reply": "2021-06-13T15:44:00.508218Z",
     "shell.execute_reply.started": "2021-06-12T18:08:17.780214Z"
    },
    "papermill": {
     "duration": 0.089622,
     "end_time": "2021-06-13T15:44:00.509098",
     "exception": false,
     "start_time": "2021-06-13T15:44:00.419476",
     "status": "completed"
    },
    "tags": []
   },
   "outputs": [],
   "source": [
    "if create_text_ds:\n",
    "    # Remove file if already exists\n",
    "    if os.path.exists(CSV_PATH):\n",
    "        os.remove(CSV_PATH)\n",
    "\n",
    "    print(\"Starting text slicing\")\n",
    "\n",
    "    for i,filename in enumerate(tqdm(all_IDs, desc='Slicing text')):  \n",
    "        file_df = slice_section(filename)\n",
    "\n",
    "        if i==0: file_df.to_csv(CSV_PATH, mode='a', index=False, header=True)\n",
    "        else: file_df.to_csv(CSV_PATH, mode='a', index=False, header=False)\n",
    "\n",
    "        # comment when using all data\n",
    "#         if i==500: break"
   ]
  },
  {
   "cell_type": "code",
   "execution_count": 32,
   "metadata": {
    "execution": {
     "iopub.execute_input": "2021-06-13T15:44:00.670318Z",
     "iopub.status.busy": "2021-06-13T15:44:00.669637Z",
     "iopub.status.idle": "2021-06-13T15:44:03.424925Z",
     "shell.execute_reply": "2021-06-13T15:44:03.424163Z",
     "shell.execute_reply.started": "2021-06-12T20:56:12.542538Z"
    },
    "papermill": {
     "duration": 2.837428,
     "end_time": "2021-06-13T15:44:03.425117",
     "exception": false,
     "start_time": "2021-06-13T15:44:00.587689",
     "status": "completed"
    },
    "tags": []
   },
   "outputs": [
    {
     "name": "stdout",
     "output_type": "stream",
     "text": [
      "(33496, 4)\n"
     ]
    },
    {
     "data": {
      "text/html": [
       "<div>\n",
       "<style scoped>\n",
       "    .dataframe tbody tr th:only-of-type {\n",
       "        vertical-align: middle;\n",
       "    }\n",
       "\n",
       "    .dataframe tbody tr th {\n",
       "        vertical-align: top;\n",
       "    }\n",
       "\n",
       "    .dataframe thead th {\n",
       "        text-align: right;\n",
       "    }\n",
       "</style>\n",
       "<table border=\"1\" class=\"dataframe\">\n",
       "  <thead>\n",
       "    <tr style=\"text-align: right;\">\n",
       "      <th></th>\n",
       "      <th>Section</th>\n",
       "      <th>Text</th>\n",
       "      <th>Label</th>\n",
       "      <th>Id</th>\n",
       "    </tr>\n",
       "  </thead>\n",
       "  <tbody>\n",
       "    <tr>\n",
       "      <th>0</th>\n",
       "      <td>What is this study about?</td>\n",
       "      <td>This study used data from the National Educati...</td>\n",
       "      <td>National Education Longitudinal Study</td>\n",
       "      <td>d0fa7568-7d8e-4db9-870f-f9c6f668c17b</td>\n",
       "    </tr>\n",
       "    <tr>\n",
       "      <th>1</th>\n",
       "      <td>What is this study about?</td>\n",
       "      <td>This study used data from the National Educati...</td>\n",
       "      <td>Education Longitudinal Study</td>\n",
       "      <td>d0fa7568-7d8e-4db9-870f-f9c6f668c17b</td>\n",
       "    </tr>\n",
       "    <tr>\n",
       "      <th>2</th>\n",
       "      <td>Degree attainment</td>\n",
       "      <td>Any college degree attainment The study author...</td>\n",
       "      <td>National Education Longitudinal Study</td>\n",
       "      <td>d0fa7568-7d8e-4db9-870f-f9c6f668c17b</td>\n",
       "    </tr>\n",
       "    <tr>\n",
       "      <th>3</th>\n",
       "      <td>Degree attainment</td>\n",
       "      <td>Any college degree attainment The study author...</td>\n",
       "      <td>Education Longitudinal Study</td>\n",
       "      <td>d0fa7568-7d8e-4db9-870f-f9c6f668c17b</td>\n",
       "    </tr>\n",
       "    <tr>\n",
       "      <th>4</th>\n",
       "      <td>Bachelor's degree attainment</td>\n",
       "      <td>The study author collected information on bach...</td>\n",
       "      <td>National Education Longitudinal Study</td>\n",
       "      <td>d0fa7568-7d8e-4db9-870f-f9c6f668c17b</td>\n",
       "    </tr>\n",
       "    <tr>\n",
       "      <th>5</th>\n",
       "      <td>Bachelor's degree attainment</td>\n",
       "      <td>The study author collected information on bach...</td>\n",
       "      <td>Education Longitudinal Study</td>\n",
       "      <td>d0fa7568-7d8e-4db9-870f-f9c6f668c17b</td>\n",
       "    </tr>\n",
       "    <tr>\n",
       "      <th>6</th>\n",
       "      <td>November 2004</td>\n",
       "      <td>Dropping out of high school is not necessarily...</td>\n",
       "      <td>National Education Longitudinal Study</td>\n",
       "      <td>2f26f645-3dec-485d-b68d-f013c9e05e60</td>\n",
       "    </tr>\n",
       "    <tr>\n",
       "      <th>7</th>\n",
       "      <td>November 2004</td>\n",
       "      <td>Dropping out of high school is not necessarily...</td>\n",
       "      <td>Education Longitudinal Study</td>\n",
       "      <td>2f26f645-3dec-485d-b68d-f013c9e05e60</td>\n",
       "    </tr>\n",
       "    <tr>\n",
       "      <th>8</th>\n",
       "      <td>Defining Dropouts</td>\n",
       "      <td>There are a number of ways to define dropouts....</td>\n",
       "      <td>National Education Longitudinal Study</td>\n",
       "      <td>2f26f645-3dec-485d-b68d-f013c9e05e60</td>\n",
       "    </tr>\n",
       "    <tr>\n",
       "      <th>9</th>\n",
       "      <td>Defining Dropouts</td>\n",
       "      <td>There are a number of ways to define dropouts....</td>\n",
       "      <td>Education Longitudinal Study</td>\n",
       "      <td>2f26f645-3dec-485d-b68d-f013c9e05e60</td>\n",
       "    </tr>\n",
       "  </tbody>\n",
       "</table>\n",
       "</div>"
      ],
      "text/plain": [
       "                        Section  \\\n",
       "0     What is this study about?   \n",
       "1     What is this study about?   \n",
       "2             Degree attainment   \n",
       "3             Degree attainment   \n",
       "4  Bachelor's degree attainment   \n",
       "5  Bachelor's degree attainment   \n",
       "6                 November 2004   \n",
       "7                 November 2004   \n",
       "8             Defining Dropouts   \n",
       "9             Defining Dropouts   \n",
       "\n",
       "                                                Text  \\\n",
       "0  This study used data from the National Educati...   \n",
       "1  This study used data from the National Educati...   \n",
       "2  Any college degree attainment The study author...   \n",
       "3  Any college degree attainment The study author...   \n",
       "4  The study author collected information on bach...   \n",
       "5  The study author collected information on bach...   \n",
       "6  Dropping out of high school is not necessarily...   \n",
       "7  Dropping out of high school is not necessarily...   \n",
       "8  There are a number of ways to define dropouts....   \n",
       "9  There are a number of ways to define dropouts....   \n",
       "\n",
       "                                   Label                                    Id  \n",
       "0  National Education Longitudinal Study  d0fa7568-7d8e-4db9-870f-f9c6f668c17b  \n",
       "1           Education Longitudinal Study  d0fa7568-7d8e-4db9-870f-f9c6f668c17b  \n",
       "2  National Education Longitudinal Study  d0fa7568-7d8e-4db9-870f-f9c6f668c17b  \n",
       "3           Education Longitudinal Study  d0fa7568-7d8e-4db9-870f-f9c6f668c17b  \n",
       "4  National Education Longitudinal Study  d0fa7568-7d8e-4db9-870f-f9c6f668c17b  \n",
       "5           Education Longitudinal Study  d0fa7568-7d8e-4db9-870f-f9c6f668c17b  \n",
       "6  National Education Longitudinal Study  2f26f645-3dec-485d-b68d-f013c9e05e60  \n",
       "7           Education Longitudinal Study  2f26f645-3dec-485d-b68d-f013c9e05e60  \n",
       "8  National Education Longitudinal Study  2f26f645-3dec-485d-b68d-f013c9e05e60  \n",
       "9           Education Longitudinal Study  2f26f645-3dec-485d-b68d-f013c9e05e60  "
      ]
     },
     "execution_count": 32,
     "metadata": {},
     "output_type": "execute_result"
    }
   ],
   "source": [
    "clean_df = pd.read_csv(CSV_PATH)\n",
    "\n",
    "print(clean_df.shape)\n",
    "clean_df.head(10)"
   ]
  },
  {
   "cell_type": "code",
   "execution_count": 33,
   "metadata": {
    "execution": {
     "iopub.execute_input": "2021-06-13T15:44:03.592228Z",
     "iopub.status.busy": "2021-06-13T15:44:03.591464Z",
     "iopub.status.idle": "2021-06-13T15:44:03.595783Z",
     "shell.execute_reply": "2021-06-13T15:44:03.595154Z",
     "shell.execute_reply.started": "2021-06-12T20:56:15.44679Z"
    },
    "papermill": {
     "duration": 0.089864,
     "end_time": "2021-06-13T15:44:03.595960",
     "exception": false,
     "start_time": "2021-06-13T15:44:03.506096",
     "status": "completed"
    },
    "tags": []
   },
   "outputs": [
    {
     "name": "stdout",
     "output_type": "stream",
     "text": [
      "This study used data from the National Education Longitudinal Study (NELS:88) to examine the effects of dual enrollment programs for high school students on college degree attainment. The study also reported whether the impacts of dual enrollment programs were different for first generation college students versus students whose parents had attended at least some college. In addition, a supplemental analysis reports on the impact of different amounts of dual enrollment course-taking and college degree attainment.\n",
      "Dual enrollment programs offer college-level learning experiences for high school students. The programs offer college courses and/or the opportunity to earn college credits for students while still in high school.\n",
      "The intervention group in the study was comprised of NELS participants who attended a postsecondary school and who participated in a dual enrollment program while in high school (n = 880). The study author used propensity score matching methods to create a comparison group of NELS participants who also attended a postsecondary school but who did not participate in a dual enrollment program in high school (n = 7,920).\n",
      "National Education Longitudinal Study\n"
     ]
    }
   ],
   "source": [
    "print(clean_df['Text'].values[0])\n",
    "print(clean_df['Label'].values[0])"
   ]
  },
  {
   "cell_type": "code",
   "execution_count": 34,
   "metadata": {
    "execution": {
     "iopub.execute_input": "2021-06-13T15:44:03.760169Z",
     "iopub.status.busy": "2021-06-13T15:44:03.759481Z",
     "iopub.status.idle": "2021-06-13T15:44:03.762142Z",
     "shell.execute_reply": "2021-06-13T15:44:03.761494Z",
     "shell.execute_reply.started": "2021-06-12T20:56:15.456341Z"
    },
    "papermill": {
     "duration": 0.087091,
     "end_time": "2021-06-13T15:44:03.762303",
     "exception": false,
     "start_time": "2021-06-13T15:44:03.675212",
     "status": "completed"
    },
    "tags": []
   },
   "outputs": [],
   "source": [
    "def clean_text(txt):\n",
    "    return re.sub('[^A-Za-z0-9]+', ' ', str(txt).lower())"
   ]
  },
  {
   "cell_type": "code",
   "execution_count": 35,
   "metadata": {
    "execution": {
     "iopub.execute_input": "2021-06-13T15:44:03.927966Z",
     "iopub.status.busy": "2021-06-13T15:44:03.927210Z",
     "iopub.status.idle": "2021-06-13T15:44:03.930470Z",
     "shell.execute_reply": "2021-06-13T15:44:03.929750Z",
     "shell.execute_reply.started": "2021-06-12T20:56:15.470232Z"
    },
    "papermill": {
     "duration": 0.089073,
     "end_time": "2021-06-13T15:44:03.930637",
     "exception": false,
     "start_time": "2021-06-13T15:44:03.841564",
     "status": "completed"
    },
    "tags": []
   },
   "outputs": [],
   "source": [
    "# def find_word_in_text(text, word):\n",
    "#     matches = []\n",
    "#     if text.find(word) != -1: # When substring is found\n",
    "#         pattern = re.compile(r\"\\b(\\w*\"+re.escape(word)+r\"\\w*)\\b\")\n",
    "        \n",
    "#         for match in pattern.finditer(text):\n",
    "#             matches.append((match.start(),match.end()))\n",
    "            \n",
    "                           \n",
    "#     return matches"
   ]
  },
  {
   "cell_type": "code",
   "execution_count": 36,
   "metadata": {
    "execution": {
     "iopub.execute_input": "2021-06-13T15:44:04.101319Z",
     "iopub.status.busy": "2021-06-13T15:44:04.100493Z",
     "iopub.status.idle": "2021-06-13T15:44:04.103966Z",
     "shell.execute_reply": "2021-06-13T15:44:04.103418Z",
     "shell.execute_reply.started": "2021-06-12T20:56:15.482404Z"
    },
    "papermill": {
     "duration": 0.091286,
     "end_time": "2021-06-13T15:44:04.104132",
     "exception": false,
     "start_time": "2021-06-13T15:44:04.012846",
     "status": "completed"
    },
    "tags": []
   },
   "outputs": [],
   "source": [
    "word = \"national education longitudinal study\" \n",
    "text = \"this study used data from. the national education longitudinal studys nels 88 to examine the effects of dual enrollment. programs for high school students on college degree attainment the study also reported whether the impacts of dual enrollment programs were different for first generation college students versus students whose parents had attended at. least national education longitudinal study some college in addition a supplemental analysis reports on the impact of different amounts of dual enrollment course taking and college degree attainment dual enrollment programs offer college level learning experiences for high school students the programs offer college courses and or the opportunity to earn college credits for students while still in high school the intervention group in the study was comprised of nels participants who attended a postsecondary school and who participated in a dual enrollment. program while in high school n 880 the study. author used propensity score mat\""
   ]
  },
  {
   "cell_type": "code",
   "execution_count": 37,
   "metadata": {
    "execution": {
     "iopub.execute_input": "2021-06-13T15:44:04.277568Z",
     "iopub.status.busy": "2021-06-13T15:44:04.276726Z",
     "iopub.status.idle": "2021-06-13T15:44:04.280527Z",
     "shell.execute_reply": "2021-06-13T15:44:04.279942Z",
     "shell.execute_reply.started": "2021-06-12T20:56:15.494344Z"
    },
    "papermill": {
     "duration": 0.096163,
     "end_time": "2021-06-13T15:44:04.280737",
     "exception": false,
     "start_time": "2021-06-13T15:44:04.184574",
     "status": "completed"
    },
    "tags": []
   },
   "outputs": [],
   "source": [
    "def cut_sentences(text, word, nr_of_sentences):\n",
    "    full_matches = []\n",
    "    full_texts = []\n",
    "    \n",
    "    tokens = nltk.sent_tokenize(text)\n",
    "\n",
    "    for i,t in enumerate(tokens):\n",
    "        matches = []\n",
    "        nr = nr_of_sentences\n",
    "        start_sentence = i\n",
    "        end_sentence = i\n",
    "        if t.find(word) != -1: # When substring is found               \n",
    "            start = True\n",
    "            end = False\n",
    "\n",
    "            while nr > -1:\n",
    "                if start:\n",
    "                    if start_sentence != 0:\n",
    "                        start_sentence = start_sentence - 1\n",
    "\n",
    "                    start = False\n",
    "                    end = True\n",
    "                    \n",
    "                if end:\n",
    "                    if end_sentence != len(tokens):\n",
    "                        end_sentence = end_sentence + 1\n",
    "                        \n",
    "                    start = True\n",
    "                    end = False\n",
    "            \n",
    "                nr = nr - 1\n",
    "                \n",
    "            text = tokens[start_sentence:end_sentence]\n",
    "\n",
    "            text = ' '.join(text)\n",
    "        \n",
    "            pattern = re.compile(r\"\\b(\\S*\"+re.escape(word)+r\"\\S*)\")\n",
    "    \n",
    "            for match in pattern.finditer(text):\n",
    "                matches.append((match.start(),match.end(),\"DATASET\"))\n",
    "                \n",
    "            full_matches.append(matches)\n",
    "            full_texts.append(text)\n",
    "                        \n",
    "    return {\"texts\": full_texts, \"matches\":full_matches}"
   ]
  },
  {
   "cell_type": "code",
   "execution_count": 38,
   "metadata": {
    "execution": {
     "iopub.execute_input": "2021-06-13T15:44:04.445683Z",
     "iopub.status.busy": "2021-06-13T15:44:04.444941Z",
     "iopub.status.idle": "2021-06-13T15:44:04.466693Z",
     "shell.execute_reply": "2021-06-13T15:44:04.465702Z",
     "shell.execute_reply.started": "2021-06-12T20:56:16.007929Z"
    },
    "papermill": {
     "duration": 0.107683,
     "end_time": "2021-06-13T15:44:04.467027",
     "exception": false,
     "start_time": "2021-06-13T15:44:04.359344",
     "status": "completed"
    },
    "tags": []
   },
   "outputs": [
    {
     "name": "stdout",
     "output_type": "stream",
     "text": [
      "this study used data from. the national education longitudinal studys nels 88 to examine the effects of dual enrollment. programs for high school students on college degree attainment the study also reported whether the impacts of dual enrollment programs were different for first generation college students versus students whose parents had attended at. least national education longitudinal study some college in addition a supplemental analysis reports on the impact of different amounts of dual enrollment course taking and college degree attainment dual enrollment programs offer college level learning experiences for high school students the programs offer college courses and or the opportunity to earn college credits for students while still in high school the intervention group in the study was comprised of nels participants who attended a postsecondary school and who participated in a dual enrollment. program while in high school n 880 the study. author used propensity score mat\n",
      "this study used data from. the national education longitudinal studys nels 88 to examine the effects of dual enrollment. programs for high school students on college degree attainment the study also reported whether the impacts of dual enrollment programs were different for first generation college students versus students whose parents had attended at. least national education longitudinal study some college in addition a supplemental analysis reports on the impact of different amounts of dual enrollment course taking and college degree attainment dual enrollment programs offer college level learning experiences for high school students the programs offer college courses and or the opportunity to earn college credits for students while still in high school the intervention group in the study was comprised of nels participants who attended a postsecondary school and who participated in a dual enrollment. program while in high school n 880 the study. author used propensity score mat\n",
      "[(31, 69, 'DATASET'), (362, 399, 'DATASET')]\n",
      "[(31, 69, 'DATASET'), (362, 399, 'DATASET')]\n"
     ]
    }
   ],
   "source": [
    "example = cut_sentences(text,word,5)\n",
    "\n",
    "for text in example['texts']:\n",
    "    print(text)\n",
    "    \n",
    "for match in example['matches']:\n",
    "    print(match)"
   ]
  },
  {
   "cell_type": "code",
   "execution_count": 39,
   "metadata": {
    "execution": {
     "iopub.execute_input": "2021-06-13T15:44:04.638960Z",
     "iopub.status.busy": "2021-06-13T15:44:04.638256Z",
     "iopub.status.idle": "2021-06-13T15:52:44.992451Z",
     "shell.execute_reply": "2021-06-13T15:52:44.991606Z",
     "shell.execute_reply.started": "2021-06-12T20:56:16.610928Z"
    },
    "papermill": {
     "duration": 520.444521,
     "end_time": "2021-06-13T15:52:44.992667",
     "exception": false,
     "start_time": "2021-06-13T15:44:04.548146",
     "status": "completed"
    },
    "tags": []
   },
   "outputs": [
    {
     "name": "stderr",
     "output_type": "stream",
     "text": [
      "33496it [08:40, 64.37it/s]\n"
     ]
    }
   ],
   "source": [
    "i = 0\n",
    "\n",
    "train_df = pd.DataFrame(columns=clean_df.columns)\n",
    "\n",
    "for idxs, row in tqdm(clean_df.iterrows()):\n",
    "    temp_df = pd.DataFrame(columns=clean_df.columns)\n",
    "    \n",
    "    cuts = cut_sentences(row['Text'], row['Label'], SENTENCES_TO_EXTRACT)\n",
    "    \n",
    "    temp_df['Text'] = cuts['texts']\n",
    "    temp_df['dataset_index'] = cuts['matches']\n",
    "    \n",
    "    temp_df['Id'] = row['Id']\n",
    "    temp_df['Section'] = row['Section']\n",
    "    temp_df['Label'] = row['Label']\n",
    "    \n",
    "    train_df = train_df.append(temp_df)\n",
    "    \n",
    "#     if i == 1:\n",
    "#         break;\n",
    "        \n",
    "#     i = i+1"
   ]
  },
  {
   "cell_type": "code",
   "execution_count": 40,
   "metadata": {
    "execution": {
     "iopub.execute_input": "2021-06-13T15:52:47.323336Z",
     "iopub.status.busy": "2021-06-13T15:52:47.322624Z",
     "iopub.status.idle": "2021-06-13T15:52:47.326235Z",
     "shell.execute_reply": "2021-06-13T15:52:47.326925Z",
     "shell.execute_reply.started": "2021-06-12T21:03:28.575404Z"
    },
    "papermill": {
     "duration": 1.178795,
     "end_time": "2021-06-13T15:52:47.327141",
     "exception": false,
     "start_time": "2021-06-13T15:52:46.148346",
     "status": "completed"
    },
    "tags": []
   },
   "outputs": [
    {
     "data": {
      "text/html": [
       "<div>\n",
       "<style scoped>\n",
       "    .dataframe tbody tr th:only-of-type {\n",
       "        vertical-align: middle;\n",
       "    }\n",
       "\n",
       "    .dataframe tbody tr th {\n",
       "        vertical-align: top;\n",
       "    }\n",
       "\n",
       "    .dataframe thead th {\n",
       "        text-align: right;\n",
       "    }\n",
       "</style>\n",
       "<table border=\"1\" class=\"dataframe\">\n",
       "  <thead>\n",
       "    <tr style=\"text-align: right;\">\n",
       "      <th></th>\n",
       "      <th>Section</th>\n",
       "      <th>Text</th>\n",
       "      <th>Label</th>\n",
       "      <th>Id</th>\n",
       "      <th>dataset_index</th>\n",
       "    </tr>\n",
       "  </thead>\n",
       "  <tbody>\n",
       "    <tr>\n",
       "      <th>0</th>\n",
       "      <td>What is this study about?</td>\n",
       "      <td>This study used data from the National Educati...</td>\n",
       "      <td>National Education Longitudinal Study</td>\n",
       "      <td>d0fa7568-7d8e-4db9-870f-f9c6f668c17b</td>\n",
       "      <td>[(30, 67, DATASET)]</td>\n",
       "    </tr>\n",
       "    <tr>\n",
       "      <th>0</th>\n",
       "      <td>What is this study about?</td>\n",
       "      <td>This study used data from the National Educati...</td>\n",
       "      <td>Education Longitudinal Study</td>\n",
       "      <td>d0fa7568-7d8e-4db9-870f-f9c6f668c17b</td>\n",
       "      <td>[(39, 67, DATASET)]</td>\n",
       "    </tr>\n",
       "    <tr>\n",
       "      <th>0</th>\n",
       "      <td>Degree attainment</td>\n",
       "      <td>Any college degree attainment The study author...</td>\n",
       "      <td>National Education Longitudinal Study</td>\n",
       "      <td>d0fa7568-7d8e-4db9-870f-f9c6f668c17b</td>\n",
       "      <td>[(131, 168, DATASET)]</td>\n",
       "    </tr>\n",
       "    <tr>\n",
       "      <th>0</th>\n",
       "      <td>Degree attainment</td>\n",
       "      <td>Any college degree attainment The study author...</td>\n",
       "      <td>Education Longitudinal Study</td>\n",
       "      <td>d0fa7568-7d8e-4db9-870f-f9c6f668c17b</td>\n",
       "      <td>[(140, 168, DATASET)]</td>\n",
       "    </tr>\n",
       "    <tr>\n",
       "      <th>0</th>\n",
       "      <td>Bachelor's degree attainment</td>\n",
       "      <td>The study author collected information on bach...</td>\n",
       "      <td>National Education Longitudinal Study</td>\n",
       "      <td>d0fa7568-7d8e-4db9-870f-f9c6f668c17b</td>\n",
       "      <td>[(104, 141, DATASET)]</td>\n",
       "    </tr>\n",
       "  </tbody>\n",
       "</table>\n",
       "</div>"
      ],
      "text/plain": [
       "                        Section  \\\n",
       "0     What is this study about?   \n",
       "0     What is this study about?   \n",
       "0             Degree attainment   \n",
       "0             Degree attainment   \n",
       "0  Bachelor's degree attainment   \n",
       "\n",
       "                                                Text  \\\n",
       "0  This study used data from the National Educati...   \n",
       "0  This study used data from the National Educati...   \n",
       "0  Any college degree attainment The study author...   \n",
       "0  Any college degree attainment The study author...   \n",
       "0  The study author collected information on bach...   \n",
       "\n",
       "                                   Label  \\\n",
       "0  National Education Longitudinal Study   \n",
       "0           Education Longitudinal Study   \n",
       "0  National Education Longitudinal Study   \n",
       "0           Education Longitudinal Study   \n",
       "0  National Education Longitudinal Study   \n",
       "\n",
       "                                     Id          dataset_index  \n",
       "0  d0fa7568-7d8e-4db9-870f-f9c6f668c17b    [(30, 67, DATASET)]  \n",
       "0  d0fa7568-7d8e-4db9-870f-f9c6f668c17b    [(39, 67, DATASET)]  \n",
       "0  d0fa7568-7d8e-4db9-870f-f9c6f668c17b  [(131, 168, DATASET)]  \n",
       "0  d0fa7568-7d8e-4db9-870f-f9c6f668c17b  [(140, 168, DATASET)]  \n",
       "0  d0fa7568-7d8e-4db9-870f-f9c6f668c17b  [(104, 141, DATASET)]  "
      ]
     },
     "execution_count": 40,
     "metadata": {},
     "output_type": "execute_result"
    }
   ],
   "source": [
    "train_df.head()"
   ]
  },
  {
   "cell_type": "code",
   "execution_count": 41,
   "metadata": {
    "execution": {
     "iopub.execute_input": "2021-06-13T15:52:49.697573Z",
     "iopub.status.busy": "2021-06-13T15:52:49.696946Z",
     "iopub.status.idle": "2021-06-13T15:52:49.763273Z",
     "shell.execute_reply": "2021-06-13T15:52:49.763741Z",
     "shell.execute_reply.started": "2021-06-12T21:04:02.341084Z"
    },
    "papermill": {
     "duration": 1.281672,
     "end_time": "2021-06-13T15:52:49.763957",
     "exception": false,
     "start_time": "2021-06-13T15:52:48.482285",
     "status": "completed"
    },
    "tags": []
   },
   "outputs": [],
   "source": [
    "# train_df = train_df.explode('dataset_index')\n",
    "# train_df = train_df.drop_duplicates()\n",
    "train_df = train_df.dropna()"
   ]
  },
  {
   "cell_type": "code",
   "execution_count": 42,
   "metadata": {
    "execution": {
     "iopub.execute_input": "2021-06-13T15:52:52.131731Z",
     "iopub.status.busy": "2021-06-13T15:52:52.130728Z",
     "iopub.status.idle": "2021-06-13T15:52:52.159393Z",
     "shell.execute_reply": "2021-06-13T15:52:52.160060Z",
     "shell.execute_reply.started": "2021-06-12T21:04:08.331444Z"
    },
    "papermill": {
     "duration": 1.194152,
     "end_time": "2021-06-13T15:52:52.160327",
     "exception": false,
     "start_time": "2021-06-13T15:52:50.966175",
     "status": "completed"
    },
    "tags": []
   },
   "outputs": [
    {
     "name": "stdout",
     "output_type": "stream",
     "text": [
      "(51351, 5)\n"
     ]
    },
    {
     "data": {
      "text/html": [
       "<div>\n",
       "<style scoped>\n",
       "    .dataframe tbody tr th:only-of-type {\n",
       "        vertical-align: middle;\n",
       "    }\n",
       "\n",
       "    .dataframe tbody tr th {\n",
       "        vertical-align: top;\n",
       "    }\n",
       "\n",
       "    .dataframe thead th {\n",
       "        text-align: right;\n",
       "    }\n",
       "</style>\n",
       "<table border=\"1\" class=\"dataframe\">\n",
       "  <thead>\n",
       "    <tr style=\"text-align: right;\">\n",
       "      <th></th>\n",
       "      <th>Section</th>\n",
       "      <th>Text</th>\n",
       "      <th>Label</th>\n",
       "      <th>Id</th>\n",
       "      <th>dataset_index</th>\n",
       "    </tr>\n",
       "  </thead>\n",
       "  <tbody>\n",
       "    <tr>\n",
       "      <th>0</th>\n",
       "      <td>What is this study about?</td>\n",
       "      <td>This study used data from the National Educati...</td>\n",
       "      <td>National Education Longitudinal Study</td>\n",
       "      <td>d0fa7568-7d8e-4db9-870f-f9c6f668c17b</td>\n",
       "      <td>[(30, 67, DATASET)]</td>\n",
       "    </tr>\n",
       "    <tr>\n",
       "      <th>1</th>\n",
       "      <td>What is this study about?</td>\n",
       "      <td>This study used data from the National Educati...</td>\n",
       "      <td>Education Longitudinal Study</td>\n",
       "      <td>d0fa7568-7d8e-4db9-870f-f9c6f668c17b</td>\n",
       "      <td>[(39, 67, DATASET)]</td>\n",
       "    </tr>\n",
       "    <tr>\n",
       "      <th>2</th>\n",
       "      <td>Degree attainment</td>\n",
       "      <td>Any college degree attainment The study author...</td>\n",
       "      <td>National Education Longitudinal Study</td>\n",
       "      <td>d0fa7568-7d8e-4db9-870f-f9c6f668c17b</td>\n",
       "      <td>[(131, 168, DATASET)]</td>\n",
       "    </tr>\n",
       "    <tr>\n",
       "      <th>3</th>\n",
       "      <td>Degree attainment</td>\n",
       "      <td>Any college degree attainment The study author...</td>\n",
       "      <td>Education Longitudinal Study</td>\n",
       "      <td>d0fa7568-7d8e-4db9-870f-f9c6f668c17b</td>\n",
       "      <td>[(140, 168, DATASET)]</td>\n",
       "    </tr>\n",
       "    <tr>\n",
       "      <th>4</th>\n",
       "      <td>Bachelor's degree attainment</td>\n",
       "      <td>The study author collected information on bach...</td>\n",
       "      <td>National Education Longitudinal Study</td>\n",
       "      <td>d0fa7568-7d8e-4db9-870f-f9c6f668c17b</td>\n",
       "      <td>[(104, 141, DATASET)]</td>\n",
       "    </tr>\n",
       "  </tbody>\n",
       "</table>\n",
       "</div>"
      ],
      "text/plain": [
       "                        Section  \\\n",
       "0     What is this study about?   \n",
       "1     What is this study about?   \n",
       "2             Degree attainment   \n",
       "3             Degree attainment   \n",
       "4  Bachelor's degree attainment   \n",
       "\n",
       "                                                Text  \\\n",
       "0  This study used data from the National Educati...   \n",
       "1  This study used data from the National Educati...   \n",
       "2  Any college degree attainment The study author...   \n",
       "3  Any college degree attainment The study author...   \n",
       "4  The study author collected information on bach...   \n",
       "\n",
       "                                   Label  \\\n",
       "0  National Education Longitudinal Study   \n",
       "1           Education Longitudinal Study   \n",
       "2  National Education Longitudinal Study   \n",
       "3           Education Longitudinal Study   \n",
       "4  National Education Longitudinal Study   \n",
       "\n",
       "                                     Id          dataset_index  \n",
       "0  d0fa7568-7d8e-4db9-870f-f9c6f668c17b    [(30, 67, DATASET)]  \n",
       "1  d0fa7568-7d8e-4db9-870f-f9c6f668c17b    [(39, 67, DATASET)]  \n",
       "2  d0fa7568-7d8e-4db9-870f-f9c6f668c17b  [(131, 168, DATASET)]  \n",
       "3  d0fa7568-7d8e-4db9-870f-f9c6f668c17b  [(140, 168, DATASET)]  \n",
       "4  d0fa7568-7d8e-4db9-870f-f9c6f668c17b  [(104, 141, DATASET)]  "
      ]
     },
     "execution_count": 42,
     "metadata": {},
     "output_type": "execute_result"
    }
   ],
   "source": [
    "train_df = train_df.reset_index(drop=True)\n",
    "print(train_df.shape)\n",
    "\n",
    "train_df.head()"
   ]
  },
  {
   "cell_type": "code",
   "execution_count": 43,
   "metadata": {
    "execution": {
     "iopub.execute_input": "2021-06-13T15:52:54.509070Z",
     "iopub.status.busy": "2021-06-13T15:52:54.508248Z",
     "iopub.status.idle": "2021-06-13T15:52:54.511604Z",
     "shell.execute_reply": "2021-06-13T15:52:54.512100Z",
     "shell.execute_reply.started": "2021-06-12T21:04:14.647926Z"
    },
    "papermill": {
     "duration": 1.182174,
     "end_time": "2021-06-13T15:52:54.512299",
     "exception": false,
     "start_time": "2021-06-13T15:52:53.330125",
     "status": "completed"
    },
    "tags": []
   },
   "outputs": [
    {
     "data": {
      "text/html": [
       "<div>\n",
       "<style scoped>\n",
       "    .dataframe tbody tr th:only-of-type {\n",
       "        vertical-align: middle;\n",
       "    }\n",
       "\n",
       "    .dataframe tbody tr th {\n",
       "        vertical-align: top;\n",
       "    }\n",
       "\n",
       "    .dataframe thead th {\n",
       "        text-align: right;\n",
       "    }\n",
       "</style>\n",
       "<table border=\"1\" class=\"dataframe\">\n",
       "  <thead>\n",
       "    <tr style=\"text-align: right;\">\n",
       "      <th></th>\n",
       "      <th>index</th>\n",
       "      <th>Label</th>\n",
       "    </tr>\n",
       "  </thead>\n",
       "  <tbody>\n",
       "    <tr>\n",
       "      <th>0</th>\n",
       "      <td>ADNI</td>\n",
       "      <td>28533</td>\n",
       "    </tr>\n",
       "    <tr>\n",
       "      <th>1</th>\n",
       "      <td>Alzheimer's Disease Neuroimaging Initiative (A...</td>\n",
       "      <td>2807</td>\n",
       "    </tr>\n",
       "    <tr>\n",
       "      <th>2</th>\n",
       "      <td>Early Childhood Longitudinal Study</td>\n",
       "      <td>1845</td>\n",
       "    </tr>\n",
       "    <tr>\n",
       "      <th>3</th>\n",
       "      <td>Baltimore Longitudinal Study of Aging</td>\n",
       "      <td>1412</td>\n",
       "    </tr>\n",
       "    <tr>\n",
       "      <th>4</th>\n",
       "      <td>Trends in International Mathematics and Scienc...</td>\n",
       "      <td>1387</td>\n",
       "    </tr>\n",
       "  </tbody>\n",
       "</table>\n",
       "</div>"
      ],
      "text/plain": [
       "                                               index  Label\n",
       "0                                               ADNI  28533\n",
       "1  Alzheimer's Disease Neuroimaging Initiative (A...   2807\n",
       "2                 Early Childhood Longitudinal Study   1845\n",
       "3              Baltimore Longitudinal Study of Aging   1412\n",
       "4  Trends in International Mathematics and Scienc...   1387"
      ]
     },
     "execution_count": 43,
     "metadata": {},
     "output_type": "execute_result"
    }
   ],
   "source": [
    "df_group = pd.DataFrame(train_df['Label'].value_counts())\n",
    "df_group = df_group.reset_index()\n",
    "df_group = df_group.sort_values(by=\"Label\", ascending=False)\n",
    "\n",
    "df_group.head()"
   ]
  },
  {
   "cell_type": "code",
   "execution_count": 44,
   "metadata": {
    "execution": {
     "iopub.execute_input": "2021-06-13T15:52:56.860506Z",
     "iopub.status.busy": "2021-06-13T15:52:56.859756Z",
     "iopub.status.idle": "2021-06-13T15:52:56.866956Z",
     "shell.execute_reply": "2021-06-13T15:52:56.867743Z",
     "shell.execute_reply.started": "2021-06-12T21:04:16.859978Z"
    },
    "papermill": {
     "duration": 1.171779,
     "end_time": "2021-06-13T15:52:56.868019",
     "exception": false,
     "start_time": "2021-06-13T15:52:55.696240",
     "status": "completed"
    },
    "tags": []
   },
   "outputs": [
    {
     "name": "stdout",
     "output_type": "stream",
     "text": [
      "Dataset with highest number of labels: ADNI\n"
     ]
    }
   ],
   "source": [
    "print(\"Dataset with highest number of labels: {}\".format(df_group.values[0][0]))"
   ]
  },
  {
   "cell_type": "code",
   "execution_count": 45,
   "metadata": {
    "execution": {
     "iopub.execute_input": "2021-06-13T15:52:59.233826Z",
     "iopub.status.busy": "2021-06-13T15:52:59.233139Z",
     "iopub.status.idle": "2021-06-13T15:52:59.239834Z",
     "shell.execute_reply": "2021-06-13T15:52:59.240924Z",
     "shell.execute_reply.started": "2021-06-12T21:04:18.673005Z"
    },
    "papermill": {
     "duration": 1.168097,
     "end_time": "2021-06-13T15:52:59.241201",
     "exception": false,
     "start_time": "2021-06-13T15:52:58.073104",
     "status": "completed"
    },
    "tags": []
   },
   "outputs": [
    {
     "name": "stdout",
     "output_type": "stream",
     "text": [
      "Removing 22826.4 labels\n"
     ]
    }
   ],
   "source": [
    "print(\"Removing {} labels\".format(df_group.values[0][1] * DROP_FRAC))"
   ]
  },
  {
   "cell_type": "code",
   "execution_count": 46,
   "metadata": {
    "execution": {
     "iopub.execute_input": "2021-06-13T15:53:01.573684Z",
     "iopub.status.busy": "2021-06-13T15:53:01.573030Z",
     "iopub.status.idle": "2021-06-13T15:53:01.590430Z",
     "shell.execute_reply": "2021-06-13T15:53:01.589866Z",
     "shell.execute_reply.started": "2021-06-12T21:04:20.896411Z"
    },
    "papermill": {
     "duration": 1.181335,
     "end_time": "2021-06-13T15:53:01.590591",
     "exception": false,
     "start_time": "2021-06-13T15:53:00.409256",
     "status": "completed"
    },
    "tags": []
   },
   "outputs": [],
   "source": [
    "# Remove some of the highest occuring values to prevent memoryerror during training\n",
    "indices = train_df.index[train_df['Label'] == df_group.values[0][0]]\n",
    "\n",
    "train_df.drop(indices[:int(len(indices) * DROP_FRAC)], inplace=True)"
   ]
  },
  {
   "cell_type": "code",
   "execution_count": 47,
   "metadata": {
    "execution": {
     "iopub.execute_input": "2021-06-13T15:53:04.040713Z",
     "iopub.status.busy": "2021-06-13T15:53:04.012710Z",
     "iopub.status.idle": "2021-06-13T15:53:09.752991Z",
     "shell.execute_reply": "2021-06-13T15:53:09.752453Z",
     "shell.execute_reply.started": "2021-06-12T21:04:24.824898Z"
    },
    "papermill": {
     "duration": 7.005765,
     "end_time": "2021-06-13T15:53:09.753150",
     "exception": false,
     "start_time": "2021-06-13T15:53:02.747385",
     "status": "completed"
    },
    "tags": []
   },
   "outputs": [
    {
     "name": "stdout",
     "output_type": "stream",
     "text": [
      "Removing row with length 65199 using limit 35106.60703738082\n",
      "Removed 1 rows\n"
     ]
    }
   ],
   "source": [
    "# Remove sentences that are too large for the model to train\n",
    "mean = np.array([])\n",
    "count = 0\n",
    "mean_limit = 100\n",
    "\n",
    "for idx, rows in train_df.iterrows():\n",
    "    mean = np.append(mean, len(rows['Text'].split()))\n",
    "    \n",
    "    if len(rows['Text'].split()) > (mean.mean() * mean_limit):\n",
    "        print(\"Removing row with length {} using limit {}\".format(len(rows['Text'].split()), (mean.mean() * mean_limit)))\n",
    "        train_df.drop(idx, inplace=True)\n",
    "        count = count + 1\n",
    "\n",
    "print(\"Removed {} rows\".format(count))"
   ]
  },
  {
   "cell_type": "code",
   "execution_count": 48,
   "metadata": {
    "execution": {
     "iopub.execute_input": "2021-06-13T15:53:12.110109Z",
     "iopub.status.busy": "2021-06-13T15:53:12.109450Z",
     "iopub.status.idle": "2021-06-13T15:53:12.112719Z",
     "shell.execute_reply": "2021-06-13T15:53:12.113270Z",
     "shell.execute_reply.started": "2021-06-12T21:04:36.869974Z"
    },
    "papermill": {
     "duration": 1.159343,
     "end_time": "2021-06-13T15:53:12.113451",
     "exception": false,
     "start_time": "2021-06-13T15:53:10.954108",
     "status": "completed"
    },
    "tags": []
   },
   "outputs": [
    {
     "name": "stdout",
     "output_type": "stream",
     "text": [
      "31\n",
      "69\n",
      "362\n",
      "399\n"
     ]
    }
   ],
   "source": [
    "pattern = re.compile(r\"\\b(\\w*\"+re.escape(word)+r\"\\w*)\\b\")\n",
    "\n",
    "for match in pattern.finditer(text):\n",
    "    print(match.start())\n",
    "    print(match.end())"
   ]
  },
  {
   "cell_type": "code",
   "execution_count": 49,
   "metadata": {
    "execution": {
     "iopub.execute_input": "2021-06-13T15:53:14.462810Z",
     "iopub.status.busy": "2021-06-13T15:53:14.457556Z",
     "iopub.status.idle": "2021-06-13T15:53:16.847161Z",
     "shell.execute_reply": "2021-06-13T15:53:16.846391Z",
     "shell.execute_reply.started": "2021-06-12T21:04:38.177702Z"
    },
    "papermill": {
     "duration": 3.580302,
     "end_time": "2021-06-13T15:53:16.847388",
     "exception": false,
     "start_time": "2021-06-13T15:53:13.267086",
     "status": "completed"
    },
    "tags": []
   },
   "outputs": [
    {
     "name": "stdout",
     "output_type": "stream",
     "text": [
      "Found 0 empty indexes\n"
     ]
    }
   ],
   "source": [
    "missing_indexes = 0\n",
    "\n",
    "for idxs, rows in train_df.iterrows():\n",
    "    for i in rows['dataset_index']:\n",
    "        if i == (0, 0, \"DATASET\"):\n",
    "            missing_indexes = missing_indexes + 1\n",
    "            \n",
    "print(\"Found \"+str(missing_indexes)+\" empty indexes\")"
   ]
  },
  {
   "cell_type": "code",
   "execution_count": 50,
   "metadata": {
    "execution": {
     "iopub.execute_input": "2021-06-13T15:53:19.224869Z",
     "iopub.status.busy": "2021-06-13T15:53:19.223439Z",
     "iopub.status.idle": "2021-06-13T15:53:19.245889Z",
     "shell.execute_reply": "2021-06-13T15:53:19.244960Z",
     "shell.execute_reply.started": "2021-06-12T21:04:44.295263Z"
    },
    "papermill": {
     "duration": 1.227783,
     "end_time": "2021-06-13T15:53:19.246086",
     "exception": false,
     "start_time": "2021-06-13T15:53:18.018303",
     "status": "completed"
    },
    "tags": []
   },
   "outputs": [
    {
     "name": "stdout",
     "output_type": "stream",
     "text": [
      "Found 16 single dataset labels\n"
     ]
    },
    {
     "data": {
      "text/html": [
       "<div>\n",
       "<style scoped>\n",
       "    .dataframe tbody tr th:only-of-type {\n",
       "        vertical-align: middle;\n",
       "    }\n",
       "\n",
       "    .dataframe tbody tr th {\n",
       "        vertical-align: top;\n",
       "    }\n",
       "\n",
       "    .dataframe thead th {\n",
       "        text-align: right;\n",
       "    }\n",
       "</style>\n",
       "<table border=\"1\" class=\"dataframe\">\n",
       "  <thead>\n",
       "    <tr style=\"text-align: right;\">\n",
       "      <th></th>\n",
       "      <th>dataset_index</th>\n",
       "    </tr>\n",
       "    <tr>\n",
       "      <th>Label</th>\n",
       "      <th></th>\n",
       "    </tr>\n",
       "  </thead>\n",
       "  <tbody>\n",
       "    <tr>\n",
       "      <th>2019-nCoV complete genome sequences</th>\n",
       "      <td>1</td>\n",
       "    </tr>\n",
       "    <tr>\n",
       "      <th>Advanced National Seismic System Comprehensive Catalog</th>\n",
       "      <td>1</td>\n",
       "    </tr>\n",
       "    <tr>\n",
       "      <th>Complexity Science Hub COVID-19 Control Strategies List</th>\n",
       "      <td>1</td>\n",
       "    </tr>\n",
       "    <tr>\n",
       "      <th>Complexity Science Hub COVID-19 Control Strategies List (CCCSL)</th>\n",
       "      <td>1</td>\n",
       "    </tr>\n",
       "    <tr>\n",
       "      <th>NCSES Survey of Doctorate Recipients</th>\n",
       "      <td>1</td>\n",
       "    </tr>\n",
       "  </tbody>\n",
       "</table>\n",
       "</div>"
      ],
      "text/plain": [
       "                                                    dataset_index\n",
       "Label                                                            \n",
       "2019-nCoV complete genome sequences                             1\n",
       "Advanced National Seismic System Comprehensive ...              1\n",
       "Complexity Science Hub COVID-19 Control Strateg...              1\n",
       "Complexity Science Hub COVID-19 Control Strateg...              1\n",
       "NCSES Survey of Doctorate Recipients                            1"
      ]
     },
     "execution_count": 50,
     "metadata": {},
     "output_type": "execute_result"
    }
   ],
   "source": [
    "df = train_df.groupby('Label')['dataset_index'].count().to_frame()\n",
    "df = df[df['dataset_index'] == 1]\n",
    "\n",
    "print(\"Found {} single dataset labels\".format(len(df['dataset_index'].values)))\n",
    "\n",
    "single_labels = df.index.values\n",
    "\n",
    "df.head()"
   ]
  },
  {
   "cell_type": "code",
   "execution_count": 51,
   "metadata": {
    "execution": {
     "iopub.execute_input": "2021-06-13T15:53:21.607663Z",
     "iopub.status.busy": "2021-06-13T15:53:21.606686Z",
     "iopub.status.idle": "2021-06-13T15:53:21.610489Z",
     "shell.execute_reply": "2021-06-13T15:53:21.609962Z",
     "shell.execute_reply.started": "2021-06-12T21:04:46.256462Z"
    },
    "papermill": {
     "duration": 1.213327,
     "end_time": "2021-06-13T15:53:21.610645",
     "exception": false,
     "start_time": "2021-06-13T15:53:20.397318",
     "status": "completed"
    },
    "tags": []
   },
   "outputs": [],
   "source": [
    "def duplicate_single_labels(row):\n",
    "    if row['Label'] in single_labels:\n",
    "        row2 = row.copy()\n",
    "        # make edits to row2\n",
    "        return pd.concat([row, row2], axis=1)\n",
    "    return row"
   ]
  },
  {
   "cell_type": "code",
   "execution_count": 52,
   "metadata": {
    "execution": {
     "iopub.execute_input": "2021-06-13T15:53:23.999197Z",
     "iopub.status.busy": "2021-06-13T15:53:23.983593Z",
     "iopub.status.idle": "2021-06-13T15:53:39.861958Z",
     "shell.execute_reply": "2021-06-13T15:53:39.862647Z",
     "shell.execute_reply.started": "2021-06-12T21:04:47.733752Z"
    },
    "papermill": {
     "duration": 17.0441,
     "end_time": "2021-06-13T15:53:39.862876",
     "exception": false,
     "start_time": "2021-06-13T15:53:22.818776",
     "status": "completed"
    },
    "tags": []
   },
   "outputs": [
    {
     "name": "stdout",
     "output_type": "stream",
     "text": [
      "(28540, 5)\n"
     ]
    },
    {
     "data": {
      "text/html": [
       "<div>\n",
       "<style scoped>\n",
       "    .dataframe tbody tr th:only-of-type {\n",
       "        vertical-align: middle;\n",
       "    }\n",
       "\n",
       "    .dataframe tbody tr th {\n",
       "        vertical-align: top;\n",
       "    }\n",
       "\n",
       "    .dataframe thead th {\n",
       "        text-align: right;\n",
       "    }\n",
       "</style>\n",
       "<table border=\"1\" class=\"dataframe\">\n",
       "  <thead>\n",
       "    <tr style=\"text-align: right;\">\n",
       "      <th></th>\n",
       "      <th>Section</th>\n",
       "      <th>Text</th>\n",
       "      <th>Label</th>\n",
       "      <th>Id</th>\n",
       "      <th>dataset_index</th>\n",
       "    </tr>\n",
       "  </thead>\n",
       "  <tbody>\n",
       "    <tr>\n",
       "      <th>0</th>\n",
       "      <td>What is this study about?</td>\n",
       "      <td>This study used data from the National Educati...</td>\n",
       "      <td>National Education Longitudinal Study</td>\n",
       "      <td>d0fa7568-7d8e-4db9-870f-f9c6f668c17b</td>\n",
       "      <td>[(30, 67, DATASET)]</td>\n",
       "    </tr>\n",
       "    <tr>\n",
       "      <th>1</th>\n",
       "      <td>What is this study about?</td>\n",
       "      <td>This study used data from the National Educati...</td>\n",
       "      <td>Education Longitudinal Study</td>\n",
       "      <td>d0fa7568-7d8e-4db9-870f-f9c6f668c17b</td>\n",
       "      <td>[(39, 67, DATASET)]</td>\n",
       "    </tr>\n",
       "    <tr>\n",
       "      <th>2</th>\n",
       "      <td>Degree attainment</td>\n",
       "      <td>Any college degree attainment The study author...</td>\n",
       "      <td>National Education Longitudinal Study</td>\n",
       "      <td>d0fa7568-7d8e-4db9-870f-f9c6f668c17b</td>\n",
       "      <td>[(131, 168, DATASET)]</td>\n",
       "    </tr>\n",
       "    <tr>\n",
       "      <th>3</th>\n",
       "      <td>Degree attainment</td>\n",
       "      <td>Any college degree attainment The study author...</td>\n",
       "      <td>Education Longitudinal Study</td>\n",
       "      <td>d0fa7568-7d8e-4db9-870f-f9c6f668c17b</td>\n",
       "      <td>[(140, 168, DATASET)]</td>\n",
       "    </tr>\n",
       "    <tr>\n",
       "      <th>4</th>\n",
       "      <td>Bachelor's degree attainment</td>\n",
       "      <td>The study author collected information on bach...</td>\n",
       "      <td>National Education Longitudinal Study</td>\n",
       "      <td>d0fa7568-7d8e-4db9-870f-f9c6f668c17b</td>\n",
       "      <td>[(104, 141, DATASET)]</td>\n",
       "    </tr>\n",
       "  </tbody>\n",
       "</table>\n",
       "</div>"
      ],
      "text/plain": [
       "                        Section  \\\n",
       "0     What is this study about?   \n",
       "1     What is this study about?   \n",
       "2             Degree attainment   \n",
       "3             Degree attainment   \n",
       "4  Bachelor's degree attainment   \n",
       "\n",
       "                                                Text  \\\n",
       "0  This study used data from the National Educati...   \n",
       "1  This study used data from the National Educati...   \n",
       "2  Any college degree attainment The study author...   \n",
       "3  Any college degree attainment The study author...   \n",
       "4  The study author collected information on bach...   \n",
       "\n",
       "                                   Label  \\\n",
       "0  National Education Longitudinal Study   \n",
       "1           Education Longitudinal Study   \n",
       "2  National Education Longitudinal Study   \n",
       "3           Education Longitudinal Study   \n",
       "4  National Education Longitudinal Study   \n",
       "\n",
       "                                     Id          dataset_index  \n",
       "0  d0fa7568-7d8e-4db9-870f-f9c6f668c17b    [(30, 67, DATASET)]  \n",
       "1  d0fa7568-7d8e-4db9-870f-f9c6f668c17b    [(39, 67, DATASET)]  \n",
       "2  d0fa7568-7d8e-4db9-870f-f9c6f668c17b  [(131, 168, DATASET)]  \n",
       "3  d0fa7568-7d8e-4db9-870f-f9c6f668c17b  [(140, 168, DATASET)]  \n",
       "4  d0fa7568-7d8e-4db9-870f-f9c6f668c17b  [(104, 141, DATASET)]  "
      ]
     },
     "execution_count": 52,
     "metadata": {},
     "output_type": "execute_result"
    }
   ],
   "source": [
    "train_df = pd.concat([duplicate_single_labels(row) for _, row in train_df.iterrows()], ignore_index=True, axis=1).T\n",
    "print(train_df.shape)\n",
    "\n",
    "train_df.head()"
   ]
  },
  {
   "cell_type": "code",
   "execution_count": 53,
   "metadata": {
    "execution": {
     "iopub.execute_input": "2021-06-13T15:53:42.183765Z",
     "iopub.status.busy": "2021-06-13T15:53:42.182977Z",
     "iopub.status.idle": "2021-06-13T15:53:42.186064Z",
     "shell.execute_reply": "2021-06-13T15:53:42.186587Z",
     "shell.execute_reply.started": "2021-06-12T21:05:12.665295Z"
    },
    "papermill": {
     "duration": 1.166767,
     "end_time": "2021-06-13T15:53:42.186764",
     "exception": false,
     "start_time": "2021-06-13T15:53:41.019997",
     "status": "completed"
    },
    "tags": []
   },
   "outputs": [
    {
     "data": {
      "text/plain": [
       "(30, 67, 'DATASET')"
      ]
     },
     "execution_count": 53,
     "metadata": {},
     "output_type": "execute_result"
    }
   ],
   "source": [
    "train_df['dataset_index'].values[0][0]"
   ]
  },
  {
   "cell_type": "code",
   "execution_count": 54,
   "metadata": {
    "execution": {
     "iopub.execute_input": "2021-06-13T15:53:44.575267Z",
     "iopub.status.busy": "2021-06-13T15:53:44.574553Z",
     "iopub.status.idle": "2021-06-13T15:53:47.883090Z",
     "shell.execute_reply": "2021-06-13T15:53:47.882525Z",
     "shell.execute_reply.started": "2021-06-12T21:05:20.976401Z"
    },
    "papermill": {
     "duration": 4.527969,
     "end_time": "2021-06-13T15:53:47.883244",
     "exception": false,
     "start_time": "2021-06-13T15:53:43.355275",
     "status": "completed"
    },
    "tags": []
   },
   "outputs": [
    {
     "name": "stderr",
     "output_type": "stream",
     "text": [
      "28540it [00:03, 8652.28it/s]\n"
     ]
    }
   ],
   "source": [
    "# This code checks whether the dataset label is actually present in the text given the generated dataset indices\n",
    "# If this is not the case, an assertion error will be raised and the text will not further be processed\n",
    "for idx, row in tqdm(train_df.iterrows()):\n",
    "    for i in row['dataset_index']:\n",
    "        assert row['Text'].count(row['Label'],\n",
    "                                 i[0],\n",
    "                                 i[1]) != 0\n",
    "        assert len(row['dataset_index']) != 0"
   ]
  },
  {
   "cell_type": "code",
   "execution_count": 55,
   "metadata": {
    "execution": {
     "iopub.execute_input": "2021-06-13T15:53:50.226292Z",
     "iopub.status.busy": "2021-06-13T15:53:50.225594Z",
     "iopub.status.idle": "2021-06-13T15:53:50.241614Z",
     "shell.execute_reply": "2021-06-13T15:53:50.241002Z",
     "shell.execute_reply.started": "2021-06-12T21:05:28.630226Z"
    },
    "papermill": {
     "duration": 1.185997,
     "end_time": "2021-06-13T15:53:50.241785",
     "exception": false,
     "start_time": "2021-06-13T15:53:49.055788",
     "status": "completed"
    },
    "tags": []
   },
   "outputs": [],
   "source": [
    "train_df = train_df.sample(frac=1, random_state=42) # Shuffle the dataset\n",
    "train_df = train_df.reset_index(drop=True)"
   ]
  },
  {
   "cell_type": "code",
   "execution_count": 56,
   "metadata": {
    "execution": {
     "iopub.execute_input": "2021-06-13T15:53:52.629586Z",
     "iopub.status.busy": "2021-06-13T15:53:52.628854Z",
     "iopub.status.idle": "2021-06-13T15:53:52.633694Z",
     "shell.execute_reply": "2021-06-13T15:53:52.633067Z",
     "shell.execute_reply.started": "2021-06-12T21:05:30.481854Z"
    },
    "papermill": {
     "duration": 1.183692,
     "end_time": "2021-06-13T15:53:52.633849",
     "exception": false,
     "start_time": "2021-06-13T15:53:51.450157",
     "status": "completed"
    },
    "tags": []
   },
   "outputs": [
    {
     "data": {
      "text/plain": [
       "(28540, 5)"
      ]
     },
     "execution_count": 56,
     "metadata": {},
     "output_type": "execute_result"
    }
   ],
   "source": [
    "train_df.shape"
   ]
  },
  {
   "cell_type": "code",
   "execution_count": 57,
   "metadata": {
    "execution": {
     "iopub.execute_input": "2021-06-13T15:53:55.093217Z",
     "iopub.status.busy": "2021-06-13T15:53:55.092519Z",
     "iopub.status.idle": "2021-06-13T15:53:55.098114Z",
     "shell.execute_reply": "2021-06-13T15:53:55.097299Z",
     "shell.execute_reply.started": "2021-06-12T21:05:32.965667Z"
    },
    "papermill": {
     "duration": 1.239022,
     "end_time": "2021-06-13T15:53:55.098304",
     "exception": false,
     "start_time": "2021-06-13T15:53:53.859282",
     "status": "completed"
    },
    "tags": []
   },
   "outputs": [
    {
     "data": {
      "text/html": [
       "<div>\n",
       "<style scoped>\n",
       "    .dataframe tbody tr th:only-of-type {\n",
       "        vertical-align: middle;\n",
       "    }\n",
       "\n",
       "    .dataframe tbody tr th {\n",
       "        vertical-align: top;\n",
       "    }\n",
       "\n",
       "    .dataframe thead th {\n",
       "        text-align: right;\n",
       "    }\n",
       "</style>\n",
       "<table border=\"1\" class=\"dataframe\">\n",
       "  <thead>\n",
       "    <tr style=\"text-align: right;\">\n",
       "      <th></th>\n",
       "      <th>Section</th>\n",
       "      <th>Text</th>\n",
       "      <th>Label</th>\n",
       "      <th>Id</th>\n",
       "      <th>dataset_index</th>\n",
       "    </tr>\n",
       "  </thead>\n",
       "  <tbody>\n",
       "    <tr>\n",
       "      <th>0</th>\n",
       "      <td>Methods</td>\n",
       "      <td>There are two major steps in the proposed fram...</td>\n",
       "      <td>ADNI</td>\n",
       "      <td>1942cd27-331b-4719-a565-a217737f2e2a</td>\n",
       "      <td>[(507, 512, DATASET), (547, 551, DATASET), (67...</td>\n",
       "    </tr>\n",
       "    <tr>\n",
       "      <th>1</th>\n",
       "      <td>INTRODUCTION</td>\n",
       "      <td>Sec technical notes in Appendix C for ratcs of...</td>\n",
       "      <td>Survey of Earned Doctorates</td>\n",
       "      <td>de02e6ae-22c3-4700-861e-cb0f201707aa</td>\n",
       "      <td>[(705, 733, DATASET), (1167, 1195, DATASET), (...</td>\n",
       "    </tr>\n",
       "    <tr>\n",
       "      <th>2</th>\n",
       "      <td>INTRODUCTION</td>\n",
       "      <td>This manual provides guidance and documentatio...</td>\n",
       "      <td>Early Childhood Longitudinal Study</td>\n",
       "      <td>ed375b03-c096-4329-be2a-a451bc72596f</td>\n",
       "      <td>[(126, 161, DATASET), (318, 353, DATASET)]</td>\n",
       "    </tr>\n",
       "    <tr>\n",
       "      <th>3</th>\n",
       "      <td>Consortiums</td>\n",
       "      <td>ac.uk/arrayexpress/. Both of these sites hold ...</td>\n",
       "      <td>ADNI</td>\n",
       "      <td>0f41cec0-610f-486c-bac4-75d1b2942d1d</td>\n",
       "      <td>[(1681, 1685, DATASET), (1687, 1719, DATASET),...</td>\n",
       "    </tr>\n",
       "    <tr>\n",
       "      <th>4</th>\n",
       "      <td>Data and Empirical Discontinuities</td>\n",
       "      <td>Similarly, CEOs and other executives at firms ...</td>\n",
       "      <td>National Science Foundation Survey of Industri...</td>\n",
       "      <td>a3317c23-3c27-490a-b326-0575521d6682</td>\n",
       "      <td>[(1692, 1765, DATASET)]</td>\n",
       "    </tr>\n",
       "  </tbody>\n",
       "</table>\n",
       "</div>"
      ],
      "text/plain": [
       "                              Section  \\\n",
       "0                             Methods   \n",
       "1                        INTRODUCTION   \n",
       "2                        INTRODUCTION   \n",
       "3                         Consortiums   \n",
       "4  Data and Empirical Discontinuities   \n",
       "\n",
       "                                                Text  \\\n",
       "0  There are two major steps in the proposed fram...   \n",
       "1  Sec technical notes in Appendix C for ratcs of...   \n",
       "2  This manual provides guidance and documentatio...   \n",
       "3  ac.uk/arrayexpress/. Both of these sites hold ...   \n",
       "4  Similarly, CEOs and other executives at firms ...   \n",
       "\n",
       "                                               Label  \\\n",
       "0                                               ADNI   \n",
       "1                        Survey of Earned Doctorates   \n",
       "2                 Early Childhood Longitudinal Study   \n",
       "3                                               ADNI   \n",
       "4  National Science Foundation Survey of Industri...   \n",
       "\n",
       "                                     Id  \\\n",
       "0  1942cd27-331b-4719-a565-a217737f2e2a   \n",
       "1  de02e6ae-22c3-4700-861e-cb0f201707aa   \n",
       "2  ed375b03-c096-4329-be2a-a451bc72596f   \n",
       "3  0f41cec0-610f-486c-bac4-75d1b2942d1d   \n",
       "4  a3317c23-3c27-490a-b326-0575521d6682   \n",
       "\n",
       "                                       dataset_index  \n",
       "0  [(507, 512, DATASET), (547, 551, DATASET), (67...  \n",
       "1  [(705, 733, DATASET), (1167, 1195, DATASET), (...  \n",
       "2         [(126, 161, DATASET), (318, 353, DATASET)]  \n",
       "3  [(1681, 1685, DATASET), (1687, 1719, DATASET),...  \n",
       "4                            [(1692, 1765, DATASET)]  "
      ]
     },
     "execution_count": 57,
     "metadata": {},
     "output_type": "execute_result"
    }
   ],
   "source": [
    "train_df.head()"
   ]
  },
  {
   "cell_type": "code",
   "execution_count": 58,
   "metadata": {
    "execution": {
     "iopub.execute_input": "2021-06-13T15:53:57.536336Z",
     "iopub.status.busy": "2021-06-13T15:53:57.535678Z",
     "iopub.status.idle": "2021-06-13T15:53:57.538885Z",
     "shell.execute_reply": "2021-06-13T15:53:57.538371Z",
     "shell.execute_reply.started": "2021-06-12T21:05:35.071756Z"
    },
    "papermill": {
     "duration": 1.193126,
     "end_time": "2021-06-13T15:53:57.539049",
     "exception": false,
     "start_time": "2021-06-13T15:53:56.345923",
     "status": "completed"
    },
    "tags": []
   },
   "outputs": [],
   "source": [
    "y = train_df['Label'].to_frame()\n",
    "X = train_df"
   ]
  },
  {
   "cell_type": "code",
   "execution_count": 59,
   "metadata": {
    "execution": {
     "iopub.execute_input": "2021-06-13T15:53:59.901598Z",
     "iopub.status.busy": "2021-06-13T15:53:59.900626Z",
     "iopub.status.idle": "2021-06-13T15:53:59.906608Z",
     "shell.execute_reply": "2021-06-13T15:53:59.905941Z",
     "shell.execute_reply.started": "2021-06-12T21:05:35.72287Z"
    },
    "papermill": {
     "duration": 1.198729,
     "end_time": "2021-06-13T15:53:59.906764",
     "exception": false,
     "start_time": "2021-06-13T15:53:58.708035",
     "status": "completed"
    },
    "tags": []
   },
   "outputs": [
    {
     "data": {
      "text/html": [
       "<div>\n",
       "<style scoped>\n",
       "    .dataframe tbody tr th:only-of-type {\n",
       "        vertical-align: middle;\n",
       "    }\n",
       "\n",
       "    .dataframe tbody tr th {\n",
       "        vertical-align: top;\n",
       "    }\n",
       "\n",
       "    .dataframe thead th {\n",
       "        text-align: right;\n",
       "    }\n",
       "</style>\n",
       "<table border=\"1\" class=\"dataframe\">\n",
       "  <thead>\n",
       "    <tr style=\"text-align: right;\">\n",
       "      <th></th>\n",
       "      <th>Section</th>\n",
       "      <th>Text</th>\n",
       "      <th>Label</th>\n",
       "      <th>Id</th>\n",
       "      <th>dataset_index</th>\n",
       "    </tr>\n",
       "  </thead>\n",
       "  <tbody>\n",
       "    <tr>\n",
       "      <th>0</th>\n",
       "      <td>Methods</td>\n",
       "      <td>There are two major steps in the proposed fram...</td>\n",
       "      <td>ADNI</td>\n",
       "      <td>1942cd27-331b-4719-a565-a217737f2e2a</td>\n",
       "      <td>[(507, 512, DATASET), (547, 551, DATASET), (67...</td>\n",
       "    </tr>\n",
       "    <tr>\n",
       "      <th>1</th>\n",
       "      <td>INTRODUCTION</td>\n",
       "      <td>Sec technical notes in Appendix C for ratcs of...</td>\n",
       "      <td>Survey of Earned Doctorates</td>\n",
       "      <td>de02e6ae-22c3-4700-861e-cb0f201707aa</td>\n",
       "      <td>[(705, 733, DATASET), (1167, 1195, DATASET), (...</td>\n",
       "    </tr>\n",
       "    <tr>\n",
       "      <th>2</th>\n",
       "      <td>INTRODUCTION</td>\n",
       "      <td>This manual provides guidance and documentatio...</td>\n",
       "      <td>Early Childhood Longitudinal Study</td>\n",
       "      <td>ed375b03-c096-4329-be2a-a451bc72596f</td>\n",
       "      <td>[(126, 161, DATASET), (318, 353, DATASET)]</td>\n",
       "    </tr>\n",
       "    <tr>\n",
       "      <th>3</th>\n",
       "      <td>Consortiums</td>\n",
       "      <td>ac.uk/arrayexpress/. Both of these sites hold ...</td>\n",
       "      <td>ADNI</td>\n",
       "      <td>0f41cec0-610f-486c-bac4-75d1b2942d1d</td>\n",
       "      <td>[(1681, 1685, DATASET), (1687, 1719, DATASET),...</td>\n",
       "    </tr>\n",
       "    <tr>\n",
       "      <th>4</th>\n",
       "      <td>Data and Empirical Discontinuities</td>\n",
       "      <td>Similarly, CEOs and other executives at firms ...</td>\n",
       "      <td>National Science Foundation Survey of Industri...</td>\n",
       "      <td>a3317c23-3c27-490a-b326-0575521d6682</td>\n",
       "      <td>[(1692, 1765, DATASET)]</td>\n",
       "    </tr>\n",
       "  </tbody>\n",
       "</table>\n",
       "</div>"
      ],
      "text/plain": [
       "                              Section  \\\n",
       "0                             Methods   \n",
       "1                        INTRODUCTION   \n",
       "2                        INTRODUCTION   \n",
       "3                         Consortiums   \n",
       "4  Data and Empirical Discontinuities   \n",
       "\n",
       "                                                Text  \\\n",
       "0  There are two major steps in the proposed fram...   \n",
       "1  Sec technical notes in Appendix C for ratcs of...   \n",
       "2  This manual provides guidance and documentatio...   \n",
       "3  ac.uk/arrayexpress/. Both of these sites hold ...   \n",
       "4  Similarly, CEOs and other executives at firms ...   \n",
       "\n",
       "                                               Label  \\\n",
       "0                                               ADNI   \n",
       "1                        Survey of Earned Doctorates   \n",
       "2                 Early Childhood Longitudinal Study   \n",
       "3                                               ADNI   \n",
       "4  National Science Foundation Survey of Industri...   \n",
       "\n",
       "                                     Id  \\\n",
       "0  1942cd27-331b-4719-a565-a217737f2e2a   \n",
       "1  de02e6ae-22c3-4700-861e-cb0f201707aa   \n",
       "2  ed375b03-c096-4329-be2a-a451bc72596f   \n",
       "3  0f41cec0-610f-486c-bac4-75d1b2942d1d   \n",
       "4  a3317c23-3c27-490a-b326-0575521d6682   \n",
       "\n",
       "                                       dataset_index  \n",
       "0  [(507, 512, DATASET), (547, 551, DATASET), (67...  \n",
       "1  [(705, 733, DATASET), (1167, 1195, DATASET), (...  \n",
       "2         [(126, 161, DATASET), (318, 353, DATASET)]  \n",
       "3  [(1681, 1685, DATASET), (1687, 1719, DATASET),...  \n",
       "4                            [(1692, 1765, DATASET)]  "
      ]
     },
     "execution_count": 59,
     "metadata": {},
     "output_type": "execute_result"
    }
   ],
   "source": [
    "X.head()"
   ]
  },
  {
   "cell_type": "code",
   "execution_count": 60,
   "metadata": {
    "execution": {
     "iopub.execute_input": "2021-06-13T15:54:02.351099Z",
     "iopub.status.busy": "2021-06-13T15:54:02.349986Z",
     "iopub.status.idle": "2021-06-13T15:54:02.355142Z",
     "shell.execute_reply": "2021-06-13T15:54:02.355974Z",
     "shell.execute_reply.started": "2021-06-12T21:05:37.588422Z"
    },
    "papermill": {
     "duration": 1.247512,
     "end_time": "2021-06-13T15:54:02.356203",
     "exception": false,
     "start_time": "2021-06-13T15:54:01.108691",
     "status": "completed"
    },
    "tags": []
   },
   "outputs": [
    {
     "data": {
      "text/html": [
       "<div>\n",
       "<style scoped>\n",
       "    .dataframe tbody tr th:only-of-type {\n",
       "        vertical-align: middle;\n",
       "    }\n",
       "\n",
       "    .dataframe tbody tr th {\n",
       "        vertical-align: top;\n",
       "    }\n",
       "\n",
       "    .dataframe thead th {\n",
       "        text-align: right;\n",
       "    }\n",
       "</style>\n",
       "<table border=\"1\" class=\"dataframe\">\n",
       "  <thead>\n",
       "    <tr style=\"text-align: right;\">\n",
       "      <th></th>\n",
       "      <th>Label</th>\n",
       "    </tr>\n",
       "  </thead>\n",
       "  <tbody>\n",
       "    <tr>\n",
       "      <th>0</th>\n",
       "      <td>ADNI</td>\n",
       "    </tr>\n",
       "    <tr>\n",
       "      <th>1</th>\n",
       "      <td>Survey of Earned Doctorates</td>\n",
       "    </tr>\n",
       "    <tr>\n",
       "      <th>2</th>\n",
       "      <td>Early Childhood Longitudinal Study</td>\n",
       "    </tr>\n",
       "    <tr>\n",
       "      <th>3</th>\n",
       "      <td>ADNI</td>\n",
       "    </tr>\n",
       "    <tr>\n",
       "      <th>4</th>\n",
       "      <td>National Science Foundation Survey of Industri...</td>\n",
       "    </tr>\n",
       "  </tbody>\n",
       "</table>\n",
       "</div>"
      ],
      "text/plain": [
       "                                               Label\n",
       "0                                               ADNI\n",
       "1                        Survey of Earned Doctorates\n",
       "2                 Early Childhood Longitudinal Study\n",
       "3                                               ADNI\n",
       "4  National Science Foundation Survey of Industri..."
      ]
     },
     "execution_count": 60,
     "metadata": {},
     "output_type": "execute_result"
    }
   ],
   "source": [
    "y.head()"
   ]
  },
  {
   "cell_type": "code",
   "execution_count": 61,
   "metadata": {
    "execution": {
     "iopub.execute_input": "2021-06-13T15:54:04.844483Z",
     "iopub.status.busy": "2021-06-13T15:54:04.839157Z",
     "iopub.status.idle": "2021-06-13T15:54:05.112090Z",
     "shell.execute_reply": "2021-06-13T15:54:05.111353Z",
     "shell.execute_reply.started": "2021-06-12T21:05:39.072021Z"
    },
    "papermill": {
     "duration": 1.497929,
     "end_time": "2021-06-13T15:54:05.112255",
     "exception": false,
     "start_time": "2021-06-13T15:54:03.614326",
     "status": "completed"
    },
    "tags": []
   },
   "outputs": [
    {
     "name": "stdout",
     "output_type": "stream",
     "text": [
      "Train and validation set generated\n"
     ]
    }
   ],
   "source": [
    "train, validation = train_test_split(X, train_size=TRAIN_SPLIT, random_state=42, stratify=y)\n",
    "print(\"Train and validation set generated\")"
   ]
  },
  {
   "cell_type": "code",
   "execution_count": 62,
   "metadata": {
    "execution": {
     "iopub.execute_input": "2021-06-13T15:54:07.527743Z",
     "iopub.status.busy": "2021-06-13T15:54:07.508352Z",
     "iopub.status.idle": "2021-06-13T15:54:07.534347Z",
     "shell.execute_reply": "2021-06-13T15:54:07.534827Z",
     "shell.execute_reply.started": "2021-06-12T21:05:54.355542Z"
    },
    "papermill": {
     "duration": 1.204774,
     "end_time": "2021-06-13T15:54:07.535045",
     "exception": false,
     "start_time": "2021-06-13T15:54:06.330271",
     "status": "completed"
    },
    "tags": []
   },
   "outputs": [
    {
     "name": "stdout",
     "output_type": "stream",
     "text": [
      "(25686, 5)\n"
     ]
    },
    {
     "data": {
      "text/html": [
       "<div>\n",
       "<style scoped>\n",
       "    .dataframe tbody tr th:only-of-type {\n",
       "        vertical-align: middle;\n",
       "    }\n",
       "\n",
       "    .dataframe tbody tr th {\n",
       "        vertical-align: top;\n",
       "    }\n",
       "\n",
       "    .dataframe thead th {\n",
       "        text-align: right;\n",
       "    }\n",
       "</style>\n",
       "<table border=\"1\" class=\"dataframe\">\n",
       "  <thead>\n",
       "    <tr style=\"text-align: right;\">\n",
       "      <th></th>\n",
       "      <th>Section</th>\n",
       "      <th>Text</th>\n",
       "      <th>Label</th>\n",
       "      <th>Id</th>\n",
       "      <th>dataset_index</th>\n",
       "    </tr>\n",
       "  </thead>\n",
       "  <tbody>\n",
       "    <tr>\n",
       "      <th>0</th>\n",
       "      <td>Results of the Cochrane review</td>\n",
       "      <td>The highly heterogeneous [\\n18 F]FDG PET sensi...</td>\n",
       "      <td>ADNI</td>\n",
       "      <td>75c5eff6-27c1-4fd3-9d35-68e48799e6cd</td>\n",
       "      <td>[(1986, 1990, DATASET), (2267, 2271, DATASET)]</td>\n",
       "    </tr>\n",
       "    <tr>\n",
       "      <th>1</th>\n",
       "      <td>Cognitive abilities</td>\n",
       "      <td>Prior content knowledge Since students possess...</td>\n",
       "      <td>Trends in International Mathematics and Scienc...</td>\n",
       "      <td>d24cb86b-bfe6-4f58-8e5d-0187f8e5681d</td>\n",
       "      <td>[(1270, 1323, DATASET)]</td>\n",
       "    </tr>\n",
       "    <tr>\n",
       "      <th>2</th>\n",
       "      <td>Overview</td>\n",
       "      <td>The Baccalaureate and Beyond Longitudinal Stud...</td>\n",
       "      <td>Baccalaureate and Beyond Longitudinal Study</td>\n",
       "      <td>c7f1f747-bc8e-4de6-a993-9ef9f54bdbf7</td>\n",
       "      <td>[(4, 47, DATASET), (1013, 1056, DATASET), (116...</td>\n",
       "    </tr>\n",
       "    <tr>\n",
       "      <th>3</th>\n",
       "      <td>Fourth-Grade Stratification</td>\n",
       "      <td>The following tables show the total number and...</td>\n",
       "      <td>Trends in International Mathematics and Scienc...</td>\n",
       "      <td>85de886e-eb37-4402-b219-386686cfc493</td>\n",
       "      <td>[(759, 812, DATASET)]</td>\n",
       "    </tr>\n",
       "    <tr>\n",
       "      <th>4</th>\n",
       "      <td>Introduction</td>\n",
       "      <td>ey have used the OASIS dataset for experiment,...</td>\n",
       "      <td>ADNI</td>\n",
       "      <td>878d4d2e-020a-48f8-854f-81894819c770</td>\n",
       "      <td>[(1468, 1472, DATASET), (1775, 1779, DATASET)]</td>\n",
       "    </tr>\n",
       "  </tbody>\n",
       "</table>\n",
       "</div>"
      ],
      "text/plain": [
       "                          Section  \\\n",
       "0  Results of the Cochrane review   \n",
       "1             Cognitive abilities   \n",
       "2                        Overview   \n",
       "3     Fourth-Grade Stratification   \n",
       "4                    Introduction   \n",
       "\n",
       "                                                Text  \\\n",
       "0  The highly heterogeneous [\\n18 F]FDG PET sensi...   \n",
       "1  Prior content knowledge Since students possess...   \n",
       "2  The Baccalaureate and Beyond Longitudinal Stud...   \n",
       "3  The following tables show the total number and...   \n",
       "4  ey have used the OASIS dataset for experiment,...   \n",
       "\n",
       "                                               Label  \\\n",
       "0                                               ADNI   \n",
       "1  Trends in International Mathematics and Scienc...   \n",
       "2        Baccalaureate and Beyond Longitudinal Study   \n",
       "3  Trends in International Mathematics and Scienc...   \n",
       "4                                               ADNI   \n",
       "\n",
       "                                     Id  \\\n",
       "0  75c5eff6-27c1-4fd3-9d35-68e48799e6cd   \n",
       "1  d24cb86b-bfe6-4f58-8e5d-0187f8e5681d   \n",
       "2  c7f1f747-bc8e-4de6-a993-9ef9f54bdbf7   \n",
       "3  85de886e-eb37-4402-b219-386686cfc493   \n",
       "4  878d4d2e-020a-48f8-854f-81894819c770   \n",
       "\n",
       "                                       dataset_index  \n",
       "0     [(1986, 1990, DATASET), (2267, 2271, DATASET)]  \n",
       "1                            [(1270, 1323, DATASET)]  \n",
       "2  [(4, 47, DATASET), (1013, 1056, DATASET), (116...  \n",
       "3                              [(759, 812, DATASET)]  \n",
       "4     [(1468, 1472, DATASET), (1775, 1779, DATASET)]  "
      ]
     },
     "execution_count": 62,
     "metadata": {},
     "output_type": "execute_result"
    }
   ],
   "source": [
    "train = train.reset_index(drop=True)\n",
    "\n",
    "print(train.shape)\n",
    "train.head()"
   ]
  },
  {
   "cell_type": "code",
   "execution_count": 63,
   "metadata": {
    "execution": {
     "iopub.execute_input": "2021-06-13T15:54:09.917024Z",
     "iopub.status.busy": "2021-06-13T15:54:09.916278Z",
     "iopub.status.idle": "2021-06-13T15:54:09.921764Z",
     "shell.execute_reply": "2021-06-13T15:54:09.921274Z",
     "shell.execute_reply.started": "2021-06-12T21:05:58.923753Z"
    },
    "papermill": {
     "duration": 1.199342,
     "end_time": "2021-06-13T15:54:09.921931",
     "exception": false,
     "start_time": "2021-06-13T15:54:08.722589",
     "status": "completed"
    },
    "tags": []
   },
   "outputs": [
    {
     "name": "stdout",
     "output_type": "stream",
     "text": [
      "(2854, 5)\n"
     ]
    },
    {
     "data": {
      "text/html": [
       "<div>\n",
       "<style scoped>\n",
       "    .dataframe tbody tr th:only-of-type {\n",
       "        vertical-align: middle;\n",
       "    }\n",
       "\n",
       "    .dataframe tbody tr th {\n",
       "        vertical-align: top;\n",
       "    }\n",
       "\n",
       "    .dataframe thead th {\n",
       "        text-align: right;\n",
       "    }\n",
       "</style>\n",
       "<table border=\"1\" class=\"dataframe\">\n",
       "  <thead>\n",
       "    <tr style=\"text-align: right;\">\n",
       "      <th></th>\n",
       "      <th>Section</th>\n",
       "      <th>Text</th>\n",
       "      <th>Label</th>\n",
       "      <th>Id</th>\n",
       "      <th>dataset_index</th>\n",
       "    </tr>\n",
       "  </thead>\n",
       "  <tbody>\n",
       "    <tr>\n",
       "      <th>0</th>\n",
       "      <td>Abstract</td>\n",
       "      <td>A rterial stiffness is an age-related trait th...</td>\n",
       "      <td>Baltimore Longitudinal Study of Aging</td>\n",
       "      <td>58147ea8-c5c7-4283-bb27-c01830c3af13</td>\n",
       "      <td>[(1309, 1346, DATASET), (2525, 2563, DATASET)]</td>\n",
       "    </tr>\n",
       "    <tr>\n",
       "      <th>1</th>\n",
       "      <td>Introduction</td>\n",
       "      <td>(2012 Jedynak et al. ( , 2015 proposed a param...</td>\n",
       "      <td>Alzheimer's Disease Neuroimaging Initiative (A...</td>\n",
       "      <td>1c35d627-8b39-41d2-b3e0-77c92483d8a8</td>\n",
       "      <td>[(1925, 1975, DATASET)]</td>\n",
       "    </tr>\n",
       "    <tr>\n",
       "      <th>2</th>\n",
       "      <td>Impact of Intensification Rate on TC Intensity...</td>\n",
       "      <td>[11] How do the changes in intensification rat...</td>\n",
       "      <td>IBTrACS</td>\n",
       "      <td>5716fd22-6c6c-4587-a673-281a33456749</td>\n",
       "      <td>[(334, 341, DATASET)]</td>\n",
       "    </tr>\n",
       "    <tr>\n",
       "      <th>3</th>\n",
       "      <td>Introduction</td>\n",
       "      <td>Sponsored by the National Center for Education...</td>\n",
       "      <td>Early Childhood Longitudinal Study</td>\n",
       "      <td>3be437b7-2576-4b2f-ae22-d158cf97edfe</td>\n",
       "      <td>[(59, 93, DATASET)]</td>\n",
       "    </tr>\n",
       "    <tr>\n",
       "      <th>4</th>\n",
       "      <td>Introduction</td>\n",
       "      <td>(2010) , we developed a novel surface mapping ...</td>\n",
       "      <td>Alzheimer's Disease Neuroimaging Initiative (A...</td>\n",
       "      <td>6b460753-749f-45bc-9996-dd8a950107ce</td>\n",
       "      <td>[(1787, 1837, DATASET)]</td>\n",
       "    </tr>\n",
       "  </tbody>\n",
       "</table>\n",
       "</div>"
      ],
      "text/plain": [
       "                                             Section  \\\n",
       "0                                           Abstract   \n",
       "1                                       Introduction   \n",
       "2  Impact of Intensification Rate on TC Intensity...   \n",
       "3                                       Introduction   \n",
       "4                                       Introduction   \n",
       "\n",
       "                                                Text  \\\n",
       "0  A rterial stiffness is an age-related trait th...   \n",
       "1  (2012 Jedynak et al. ( , 2015 proposed a param...   \n",
       "2  [11] How do the changes in intensification rat...   \n",
       "3  Sponsored by the National Center for Education...   \n",
       "4  (2010) , we developed a novel surface mapping ...   \n",
       "\n",
       "                                               Label  \\\n",
       "0              Baltimore Longitudinal Study of Aging   \n",
       "1  Alzheimer's Disease Neuroimaging Initiative (A...   \n",
       "2                                            IBTrACS   \n",
       "3                 Early Childhood Longitudinal Study   \n",
       "4  Alzheimer's Disease Neuroimaging Initiative (A...   \n",
       "\n",
       "                                     Id  \\\n",
       "0  58147ea8-c5c7-4283-bb27-c01830c3af13   \n",
       "1  1c35d627-8b39-41d2-b3e0-77c92483d8a8   \n",
       "2  5716fd22-6c6c-4587-a673-281a33456749   \n",
       "3  3be437b7-2576-4b2f-ae22-d158cf97edfe   \n",
       "4  6b460753-749f-45bc-9996-dd8a950107ce   \n",
       "\n",
       "                                    dataset_index  \n",
       "0  [(1309, 1346, DATASET), (2525, 2563, DATASET)]  \n",
       "1                         [(1925, 1975, DATASET)]  \n",
       "2                           [(334, 341, DATASET)]  \n",
       "3                             [(59, 93, DATASET)]  \n",
       "4                         [(1787, 1837, DATASET)]  "
      ]
     },
     "execution_count": 63,
     "metadata": {},
     "output_type": "execute_result"
    }
   ],
   "source": [
    "validation = validation.reset_index(drop=True)\n",
    "\n",
    "print(validation.shape)\n",
    "validation.head()"
   ]
  },
  {
   "cell_type": "code",
   "execution_count": 64,
   "metadata": {
    "execution": {
     "iopub.execute_input": "2021-06-13T15:54:12.378452Z",
     "iopub.status.busy": "2021-06-13T15:54:12.369068Z",
     "iopub.status.idle": "2021-06-13T15:54:12.383438Z",
     "shell.execute_reply": "2021-06-13T15:54:12.383930Z",
     "shell.execute_reply.started": "2021-06-12T21:06:01.010413Z"
    },
    "papermill": {
     "duration": 1.279218,
     "end_time": "2021-06-13T15:54:12.384133",
     "exception": false,
     "start_time": "2021-06-13T15:54:11.104915",
     "status": "completed"
    },
    "tags": []
   },
   "outputs": [
    {
     "data": {
      "text/html": [
       "<div>\n",
       "<style scoped>\n",
       "    .dataframe tbody tr th:only-of-type {\n",
       "        vertical-align: middle;\n",
       "    }\n",
       "\n",
       "    .dataframe tbody tr th {\n",
       "        vertical-align: top;\n",
       "    }\n",
       "\n",
       "    .dataframe thead th {\n",
       "        text-align: right;\n",
       "    }\n",
       "</style>\n",
       "<table border=\"1\" class=\"dataframe\">\n",
       "  <thead>\n",
       "    <tr style=\"text-align: right;\">\n",
       "      <th></th>\n",
       "      <th>index</th>\n",
       "      <th>Label</th>\n",
       "    </tr>\n",
       "  </thead>\n",
       "  <tbody>\n",
       "    <tr>\n",
       "      <th>0</th>\n",
       "      <td>ADNI</td>\n",
       "      <td>0.199914</td>\n",
       "    </tr>\n",
       "    <tr>\n",
       "      <th>1</th>\n",
       "      <td>Alzheimer's Disease Neuroimaging Initiative (A...</td>\n",
       "      <td>0.098342</td>\n",
       "    </tr>\n",
       "    <tr>\n",
       "      <th>2</th>\n",
       "      <td>Early Childhood Longitudinal Study</td>\n",
       "      <td>0.064627</td>\n",
       "    </tr>\n",
       "    <tr>\n",
       "      <th>3</th>\n",
       "      <td>Baltimore Longitudinal Study of Aging</td>\n",
       "      <td>0.049482</td>\n",
       "    </tr>\n",
       "    <tr>\n",
       "      <th>4</th>\n",
       "      <td>Trends in International Mathematics and Scienc...</td>\n",
       "      <td>0.048587</td>\n",
       "    </tr>\n",
       "  </tbody>\n",
       "</table>\n",
       "</div>"
      ],
      "text/plain": [
       "                                               index     Label\n",
       "0                                               ADNI  0.199914\n",
       "1  Alzheimer's Disease Neuroimaging Initiative (A...  0.098342\n",
       "2                 Early Childhood Longitudinal Study  0.064627\n",
       "3              Baltimore Longitudinal Study of Aging  0.049482\n",
       "4  Trends in International Mathematics and Scienc...  0.048587"
      ]
     },
     "execution_count": 64,
     "metadata": {},
     "output_type": "execute_result"
    }
   ],
   "source": [
    "grouped_train = pd.DataFrame(train['Label'].value_counts(normalize=True))\n",
    "grouped_train = grouped_train.reset_index()\n",
    "grouped_train = grouped_train.sort_values(by=\"Label\", ascending=False)\n",
    "\n",
    "grouped_train = grouped_train.iloc[0:25]\n",
    "\n",
    "grouped_train.head()"
   ]
  },
  {
   "cell_type": "code",
   "execution_count": 65,
   "metadata": {
    "execution": {
     "iopub.execute_input": "2021-06-13T15:54:14.764109Z",
     "iopub.status.busy": "2021-06-13T15:54:14.763086Z",
     "iopub.status.idle": "2021-06-13T15:54:14.768218Z",
     "shell.execute_reply": "2021-06-13T15:54:14.767685Z",
     "shell.execute_reply.started": "2021-06-12T21:06:03.49027Z"
    },
    "papermill": {
     "duration": 1.194841,
     "end_time": "2021-06-13T15:54:14.768373",
     "exception": false,
     "start_time": "2021-06-13T15:54:13.573532",
     "status": "completed"
    },
    "tags": []
   },
   "outputs": [
    {
     "data": {
      "text/html": [
       "<div>\n",
       "<style scoped>\n",
       "    .dataframe tbody tr th:only-of-type {\n",
       "        vertical-align: middle;\n",
       "    }\n",
       "\n",
       "    .dataframe tbody tr th {\n",
       "        vertical-align: top;\n",
       "    }\n",
       "\n",
       "    .dataframe thead th {\n",
       "        text-align: right;\n",
       "    }\n",
       "</style>\n",
       "<table border=\"1\" class=\"dataframe\">\n",
       "  <thead>\n",
       "    <tr style=\"text-align: right;\">\n",
       "      <th></th>\n",
       "      <th>index</th>\n",
       "      <th>Label</th>\n",
       "    </tr>\n",
       "  </thead>\n",
       "  <tbody>\n",
       "    <tr>\n",
       "      <th>0</th>\n",
       "      <td>ADNI</td>\n",
       "      <td>0.200070</td>\n",
       "    </tr>\n",
       "    <tr>\n",
       "      <th>1</th>\n",
       "      <td>Alzheimer's Disease Neuroimaging Initiative (A...</td>\n",
       "      <td>0.098458</td>\n",
       "    </tr>\n",
       "    <tr>\n",
       "      <th>2</th>\n",
       "      <td>Early Childhood Longitudinal Study</td>\n",
       "      <td>0.064821</td>\n",
       "    </tr>\n",
       "    <tr>\n",
       "      <th>3</th>\n",
       "      <td>Baltimore Longitudinal Study of Aging</td>\n",
       "      <td>0.049404</td>\n",
       "    </tr>\n",
       "    <tr>\n",
       "      <th>4</th>\n",
       "      <td>Trends in International Mathematics and Scienc...</td>\n",
       "      <td>0.048704</td>\n",
       "    </tr>\n",
       "    <tr>\n",
       "      <th>5</th>\n",
       "      <td>Education Longitudinal Study</td>\n",
       "      <td>0.043097</td>\n",
       "    </tr>\n",
       "    <tr>\n",
       "      <th>6</th>\n",
       "      <td>Census of Agriculture</td>\n",
       "      <td>0.039944</td>\n",
       "    </tr>\n",
       "    <tr>\n",
       "      <th>7</th>\n",
       "      <td>National Education Longitudinal Study</td>\n",
       "      <td>0.034688</td>\n",
       "    </tr>\n",
       "    <tr>\n",
       "      <th>8</th>\n",
       "      <td>Survey of Earned Doctorates</td>\n",
       "      <td>0.033987</td>\n",
       "    </tr>\n",
       "    <tr>\n",
       "      <th>9</th>\n",
       "      <td>Agricultural Resource Management Survey</td>\n",
       "      <td>0.033287</td>\n",
       "    </tr>\n",
       "    <tr>\n",
       "      <th>10</th>\n",
       "      <td>IBTrACS</td>\n",
       "      <td>0.031184</td>\n",
       "    </tr>\n",
       "    <tr>\n",
       "      <th>11</th>\n",
       "      <td>SLOSH model</td>\n",
       "      <td>0.029783</td>\n",
       "    </tr>\n",
       "    <tr>\n",
       "      <th>12</th>\n",
       "      <td>Beginning Postsecondary Students</td>\n",
       "      <td>0.020673</td>\n",
       "    </tr>\n",
       "    <tr>\n",
       "      <th>13</th>\n",
       "      <td>Survey of Doctorate Recipients</td>\n",
       "      <td>0.018921</td>\n",
       "    </tr>\n",
       "    <tr>\n",
       "      <th>14</th>\n",
       "      <td>Baccalaureate and Beyond</td>\n",
       "      <td>0.018220</td>\n",
       "    </tr>\n",
       "    <tr>\n",
       "      <th>15</th>\n",
       "      <td>North American Breeding Bird Survey</td>\n",
       "      <td>0.016118</td>\n",
       "    </tr>\n",
       "    <tr>\n",
       "      <th>16</th>\n",
       "      <td>Baltimore Longitudinal Study of Aging (BLSA)</td>\n",
       "      <td>0.015067</td>\n",
       "    </tr>\n",
       "    <tr>\n",
       "      <th>17</th>\n",
       "      <td>Beginning Postsecondary Students Longitudinal ...</td>\n",
       "      <td>0.014716</td>\n",
       "    </tr>\n",
       "    <tr>\n",
       "      <th>18</th>\n",
       "      <td>World Ocean Database</td>\n",
       "      <td>0.014366</td>\n",
       "    </tr>\n",
       "    <tr>\n",
       "      <th>19</th>\n",
       "      <td>Common Core of Data</td>\n",
       "      <td>0.012964</td>\n",
       "    </tr>\n",
       "    <tr>\n",
       "      <th>20</th>\n",
       "      <td>SARS-CoV-2 genome sequences</td>\n",
       "      <td>0.010862</td>\n",
       "    </tr>\n",
       "    <tr>\n",
       "      <th>21</th>\n",
       "      <td>Coastal Change Analysis Program</td>\n",
       "      <td>0.010512</td>\n",
       "    </tr>\n",
       "    <tr>\n",
       "      <th>22</th>\n",
       "      <td>Rural-Urban Continuum Codes</td>\n",
       "      <td>0.009460</td>\n",
       "    </tr>\n",
       "    <tr>\n",
       "      <th>23</th>\n",
       "      <td>Baccalaureate and Beyond Longitudinal Study</td>\n",
       "      <td>0.008760</td>\n",
       "    </tr>\n",
       "    <tr>\n",
       "      <th>24</th>\n",
       "      <td>School Survey on Crime and Safety</td>\n",
       "      <td>0.008760</td>\n",
       "    </tr>\n",
       "  </tbody>\n",
       "</table>\n",
       "</div>"
      ],
      "text/plain": [
       "                                                index     Label\n",
       "0                                                ADNI  0.200070\n",
       "1   Alzheimer's Disease Neuroimaging Initiative (A...  0.098458\n",
       "2                  Early Childhood Longitudinal Study  0.064821\n",
       "3               Baltimore Longitudinal Study of Aging  0.049404\n",
       "4   Trends in International Mathematics and Scienc...  0.048704\n",
       "5                        Education Longitudinal Study  0.043097\n",
       "6                               Census of Agriculture  0.039944\n",
       "7               National Education Longitudinal Study  0.034688\n",
       "8                         Survey of Earned Doctorates  0.033987\n",
       "9             Agricultural Resource Management Survey  0.033287\n",
       "10                                            IBTrACS  0.031184\n",
       "11                                        SLOSH model  0.029783\n",
       "12                   Beginning Postsecondary Students  0.020673\n",
       "13                     Survey of Doctorate Recipients  0.018921\n",
       "14                           Baccalaureate and Beyond  0.018220\n",
       "15                North American Breeding Bird Survey  0.016118\n",
       "16       Baltimore Longitudinal Study of Aging (BLSA)  0.015067\n",
       "17  Beginning Postsecondary Students Longitudinal ...  0.014716\n",
       "18                               World Ocean Database  0.014366\n",
       "19                                Common Core of Data  0.012964\n",
       "20                        SARS-CoV-2 genome sequences  0.010862\n",
       "21                    Coastal Change Analysis Program  0.010512\n",
       "22                        Rural-Urban Continuum Codes  0.009460\n",
       "23        Baccalaureate and Beyond Longitudinal Study  0.008760\n",
       "24                  School Survey on Crime and Safety  0.008760"
      ]
     },
     "execution_count": 65,
     "metadata": {},
     "output_type": "execute_result"
    }
   ],
   "source": [
    "grouped_val = pd.DataFrame(validation['Label'].value_counts(normalize=True))\n",
    "grouped_val = grouped_val.reset_index()\n",
    "grouped_val = grouped_val.sort_values(by=\"Label\", ascending=False)\n",
    "\n",
    "grouped_val = grouped_val.iloc[0:25]\n",
    "\n",
    "grouped_val.head(25)"
   ]
  },
  {
   "cell_type": "code",
   "execution_count": 66,
   "metadata": {
    "execution": {
     "iopub.execute_input": "2021-06-13T15:54:17.143605Z",
     "iopub.status.busy": "2021-06-13T15:54:17.142938Z",
     "iopub.status.idle": "2021-06-13T15:54:17.541762Z",
     "shell.execute_reply": "2021-06-13T15:54:17.541257Z",
     "shell.execute_reply.started": "2021-06-12T21:06:05.648193Z"
    },
    "papermill": {
     "duration": 1.599732,
     "end_time": "2021-06-13T15:54:17.541950",
     "exception": false,
     "start_time": "2021-06-13T15:54:15.942218",
     "status": "completed"
    },
    "tags": []
   },
   "outputs": [
    {
     "data": {
      "image/png": "[encoded data removed]",
      "text/plain": [
       "<Figure size 720x360 with 1 Axes>"
      ]
     },
     "metadata": {},
     "output_type": "display_data"
    }
   ],
   "source": [
    "# Numbers of pairs of bars you want\n",
    "N = 25\n",
    "\n",
    "# Position of bars on x-axis\n",
    "ind = np.arange(N)\n",
    "\n",
    "# Figure size\n",
    "plt.figure(figsize=(10,5))\n",
    "\n",
    "# Width of a bar \n",
    "width = 0.3       \n",
    "\n",
    "# Plotting\n",
    "plt.bar(ind, grouped_train['Label'].values, width, label='Train distribution')\n",
    "plt.bar(ind + width, grouped_val['Label'].values, width, label='Validation distribution')\n",
    "\n",
    "plt.xlabel('Dataset name index')\n",
    "plt.ylabel('Number of occurances (normalized)')\n",
    "\n",
    "plt.legend(loc='best')\n",
    "plt.show()"
   ]
  },
  {
   "cell_type": "code",
   "execution_count": 67,
   "metadata": {
    "execution": {
     "iopub.execute_input": "2021-06-13T15:54:19.909262Z",
     "iopub.status.busy": "2021-06-13T15:54:19.908541Z",
     "iopub.status.idle": "2021-06-13T15:54:22.260637Z",
     "shell.execute_reply": "2021-06-13T15:54:22.261207Z",
     "shell.execute_reply.started": "2021-06-12T21:06:08.43526Z"
    },
    "papermill": {
     "duration": 3.535233,
     "end_time": "2021-06-13T15:54:22.261393",
     "exception": false,
     "start_time": "2021-06-13T15:54:18.726160",
     "status": "completed"
    },
    "tags": []
   },
   "outputs": [],
   "source": [
    "train.to_csv(\"./train.csv\")"
   ]
  },
  {
   "cell_type": "code",
   "execution_count": 68,
   "metadata": {
    "execution": {
     "iopub.execute_input": "2021-06-13T15:54:24.707464Z",
     "iopub.status.busy": "2021-06-13T15:54:24.706749Z",
     "iopub.status.idle": "2021-06-13T15:54:24.990362Z",
     "shell.execute_reply": "2021-06-13T15:54:24.989600Z",
     "shell.execute_reply.started": "2021-06-12T21:06:10.368674Z"
    },
    "papermill": {
     "duration": 1.471608,
     "end_time": "2021-06-13T15:54:24.990526",
     "exception": false,
     "start_time": "2021-06-13T15:54:23.518918",
     "status": "completed"
    },
    "tags": []
   },
   "outputs": [],
   "source": [
    "validation.to_csv(\"./validation.csv\")"
   ]
  },
  {
   "cell_type": "code",
   "execution_count": null,
   "metadata": {
    "papermill": {
     "duration": 1.188446,
     "end_time": "2021-06-13T15:54:27.406528",
     "exception": false,
     "start_time": "2021-06-13T15:54:26.218082",
     "status": "completed"
    },
    "tags": []
   },
   "outputs": [],
   "source": []
  },
  {
   "cell_type": "code",
   "execution_count": null,
   "metadata": {
    "papermill": {
     "duration": 1.177158,
     "end_time": "2021-06-13T15:54:29.756103",
     "exception": false,
     "start_time": "2021-06-13T15:54:28.578945",
     "status": "completed"
    },
    "tags": []
   },
   "outputs": [],
   "source": []
  }
 ],
 "metadata": {
  "kernelspec": {
   "display_name": "Python 3",
   "language": "python",
   "name": "python3"
  },
  "language_info": {
   "codemirror_mode": {
    "name": "ipython",
    "version": 3
   },
   "file_extension": ".py",
   "mimetype": "text/x-python",
   "name": "python",
   "nbconvert_exporter": "python",
   "pygments_lexer": "ipython3",
   "version": "3.8.3"
  },
  "papermill": {
   "default_parameters": {},
   "duration": 667.98209,
   "end_time": "2021-06-13T15:54:32.884526",
   "environment_variables": {},
   "exception": null,
   "input_path": "__notebook__.ipynb",
   "output_path": "__notebook__.ipynb",
   "parameters": {},
   "start_time": "2021-06-13T15:43:24.902436",
   "version": "2.3.3"
  }
 },
 "nbformat": 4,
 "nbformat_minor": 5
}
