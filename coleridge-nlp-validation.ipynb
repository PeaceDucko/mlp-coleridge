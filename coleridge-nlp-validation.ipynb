{
 "cells": [
  {
   "cell_type": "code",
   "execution_count": 1,
   "metadata": {
    "execution": {
     "iopub.execute_input": "2021-06-13T20:34:37.968185Z",
     "iopub.status.busy": "2021-06-13T20:34:37.967549Z",
     "iopub.status.idle": "2021-06-13T20:34:38.750693Z",
     "shell.execute_reply": "2021-06-13T20:34:38.751137Z",
     "shell.execute_reply.started": "2021-06-13T20:13:00.830261Z"
    },
    "papermill": {
     "duration": 0.816339,
     "end_time": "2021-06-13T20:34:38.751560",
     "exception": false,
     "start_time": "2021-06-13T20:34:37.935221",
     "status": "completed"
    },
    "tags": []
   },
   "outputs": [
    {
     "data": {
      "text/plain": [
       "['sample_submission.csv', 'train.csv', 'test', 'train']"
      ]
     },
     "execution_count": 1,
     "metadata": {},
     "output_type": "execute_result"
    }
   ],
   "source": [
    "# Start writing code here...\n",
    "import numpy as np \n",
    "import pandas as pd\n",
    "\n",
    "pd.options.mode.chained_assignment = None \n",
    "\n",
    "import os, re\n",
    "import json\n",
    "import matplotlib.pyplot as plt\n",
    "  \n",
    "from IPython.display import display, clear_output\n",
    "    \n",
    "from tqdm import tqdm\n",
    "import string\n",
    "\n",
    "from sklearn.model_selection import train_test_split\n",
    "\n",
    "os.listdir('/kaggle/input/coleridgeinitiative-show-us-the-data/')"
   ]
  },
  {
   "cell_type": "code",
   "execution_count": 2,
   "metadata": {
    "execution": {
     "iopub.execute_input": "2021-06-13T20:34:38.802116Z",
     "iopub.status.busy": "2021-06-13T20:34:38.801618Z",
     "iopub.status.idle": "2021-06-13T20:34:38.943696Z",
     "shell.execute_reply": "2021-06-13T20:34:38.942800Z",
     "shell.execute_reply.started": "2021-06-13T20:20:08.850382Z"
    },
    "papermill": {
     "duration": 0.170404,
     "end_time": "2021-06-13T20:34:38.943850",
     "exception": false,
     "start_time": "2021-06-13T20:34:38.773446",
     "status": "completed"
    },
    "tags": []
   },
   "outputs": [],
   "source": [
    "validation = pd.read_csv(\"../input/colerigde-processed-text/validation.csv\",index_col=0)\n",
    "test_files_path = '../input/coleridgeinitiative-show-us-the-data/test'"
   ]
  },
  {
   "cell_type": "code",
   "execution_count": 3,
   "metadata": {
    "execution": {
     "iopub.execute_input": "2021-06-13T20:34:38.991904Z",
     "iopub.status.busy": "2021-06-13T20:34:38.991196Z",
     "iopub.status.idle": "2021-06-13T20:34:45.076343Z",
     "shell.execute_reply": "2021-06-13T20:34:45.075931Z",
     "shell.execute_reply.started": "2021-06-13T20:13:02.030812Z"
    },
    "papermill": {
     "duration": 6.111206,
     "end_time": "2021-06-13T20:34:45.076479",
     "exception": false,
     "start_time": "2021-06-13T20:34:38.965273",
     "status": "completed"
    },
    "tags": []
   },
   "outputs": [
    {
     "data": {
      "text/plain": [
       "[name: \"/device:CPU:0\"\n",
       " device_type: \"CPU\"\n",
       " memory_limit: 268435456\n",
       " locality {\n",
       " }\n",
       " incarnation: 6255431350680110528,\n",
       " name: \"/device:GPU:0\"\n",
       " device_type: \"GPU\"\n",
       " memory_limit: 15685569792\n",
       " locality {\n",
       "   bus_id: 1\n",
       "   links {\n",
       "   }\n",
       " }\n",
       " incarnation: 3157770517079396094\n",
       " physical_device_desc: \"device: 0, name: Tesla P100-PCIE-16GB, pci bus id: 0000:00:04.0, compute capability: 6.0\"]"
      ]
     },
     "execution_count": 3,
     "metadata": {},
     "output_type": "execute_result"
    }
   ],
   "source": [
    "from tensorflow.python.client import device_lib\n",
    "\n",
    "device_lib.list_local_devices()"
   ]
  },
  {
   "cell_type": "code",
   "execution_count": 4,
   "metadata": {
    "execution": {
     "iopub.execute_input": "2021-06-13T20:34:45.126028Z",
     "iopub.status.busy": "2021-06-13T20:34:45.125531Z",
     "iopub.status.idle": "2021-06-13T20:35:30.341598Z",
     "shell.execute_reply": "2021-06-13T20:35:30.341070Z",
     "shell.execute_reply.started": "2021-06-13T20:13:10.212563Z"
    },
    "papermill": {
     "duration": 45.243241,
     "end_time": "2021-06-13T20:35:30.341729",
     "exception": false,
     "start_time": "2021-06-13T20:34:45.098488",
     "status": "completed"
    },
    "tags": []
   },
   "outputs": [
    {
     "name": "stdout",
     "output_type": "stream",
     "text": [
      "Looking in links: ../input/spacy3\n",
      "Requirement already satisfied: spacy[cuda110] in /opt/conda/lib/python3.7/site-packages (2.3.5)\n",
      "Requirement already satisfied: preshed<3.1.0,>=3.0.2 in /opt/conda/lib/python3.7/site-packages (from spacy[cuda110]) (3.0.5)\n",
      "Requirement already satisfied: plac<1.2.0,>=0.9.6 in /opt/conda/lib/python3.7/site-packages (from spacy[cuda110]) (1.1.3)\n",
      "Requirement already satisfied: requests<3.0.0,>=2.13.0 in /opt/conda/lib/python3.7/site-packages (from spacy[cuda110]) (2.25.1)\n",
      "Requirement already satisfied: catalogue<1.1.0,>=0.0.7 in /opt/conda/lib/python3.7/site-packages (from spacy[cuda110]) (1.0.0)\n",
      "Requirement already satisfied: murmurhash<1.1.0,>=0.28.0 in /opt/conda/lib/python3.7/site-packages (from spacy[cuda110]) (1.0.5)\n",
      "Requirement already satisfied: numpy>=1.15.0 in /opt/conda/lib/python3.7/site-packages (from spacy[cuda110]) (1.19.5)\n",
      "Requirement already satisfied: tqdm<5.0.0,>=4.38.0 in /opt/conda/lib/python3.7/site-packages (from spacy[cuda110]) (4.59.0)\n",
      "Requirement already satisfied: srsly<1.1.0,>=1.0.2 in /opt/conda/lib/python3.7/site-packages (from spacy[cuda110]) (1.0.5)\n",
      "Requirement already satisfied: setuptools in /opt/conda/lib/python3.7/site-packages (from spacy[cuda110]) (49.6.0.post20210108)\n",
      "Requirement already satisfied: wasabi<1.1.0,>=0.4.0 in /opt/conda/lib/python3.7/site-packages (from spacy[cuda110]) (0.8.2)\n",
      "Requirement already satisfied: thinc<7.5.0,>=7.4.1 in /opt/conda/lib/python3.7/site-packages (from spacy[cuda110]) (7.4.5)\n",
      "Requirement already satisfied: cymem<2.1.0,>=2.0.2 in /opt/conda/lib/python3.7/site-packages (from spacy[cuda110]) (2.0.5)\n",
      "Requirement already satisfied: blis<0.8.0,>=0.4.0 in /opt/conda/lib/python3.7/site-packages (from spacy[cuda110]) (0.7.4)\n",
      "Requirement already satisfied: cupy-cuda110>=5.0.0b4 in /opt/conda/lib/python3.7/site-packages (from spacy[cuda110]) (8.6.0)\n",
      "Requirement already satisfied: importlib-metadata>=0.20 in /opt/conda/lib/python3.7/site-packages (from catalogue<1.1.0,>=0.0.7->spacy[cuda110]) (3.4.0)\n",
      "Requirement already satisfied: fastrlock>=0.3 in /opt/conda/lib/python3.7/site-packages (from cupy-cuda110>=5.0.0b4->spacy[cuda110]) (0.6)\n",
      "Requirement already satisfied: zipp>=0.5 in /opt/conda/lib/python3.7/site-packages (from importlib-metadata>=0.20->catalogue<1.1.0,>=0.0.7->spacy[cuda110]) (3.4.1)\n",
      "Requirement already satisfied: typing-extensions>=3.6.4 in /opt/conda/lib/python3.7/site-packages (from importlib-metadata>=0.20->catalogue<1.1.0,>=0.0.7->spacy[cuda110]) (3.7.4.3)\n",
      "Requirement already satisfied: certifi>=2017.4.17 in /opt/conda/lib/python3.7/site-packages (from requests<3.0.0,>=2.13.0->spacy[cuda110]) (2020.12.5)\n",
      "Requirement already satisfied: idna<3,>=2.5 in /opt/conda/lib/python3.7/site-packages (from requests<3.0.0,>=2.13.0->spacy[cuda110]) (2.10)\n",
      "Requirement already satisfied: chardet<5,>=3.0.2 in /opt/conda/lib/python3.7/site-packages (from requests<3.0.0,>=2.13.0->spacy[cuda110]) (4.0.0)\n",
      "Requirement already satisfied: urllib3<1.27,>=1.21.1 in /opt/conda/lib/python3.7/site-packages (from requests<3.0.0,>=2.13.0->spacy[cuda110]) (1.26.4)\n",
      "Looking in links: ../input/spacy3\n",
      "Processing /kaggle/input/spacy3/en_core_web_trf-3.0.0-py3-none-any.whl\n",
      "Processing /kaggle/input/spacy3/spacy-3.0.6-cp37-cp37m-manylinux2014_x86_64.whl\n",
      "Processing /kaggle/input/spacy3/spacy_transformers-1.0.2-py2.py3-none-any.whl\n",
      "Requirement already satisfied: cymem<2.1.0,>=2.0.2 in /opt/conda/lib/python3.7/site-packages (from spacy<3.1.0,>=3.0.0->en_core_web_trf) (2.0.5)\n",
      "Requirement already satisfied: setuptools in /opt/conda/lib/python3.7/site-packages (from spacy<3.1.0,>=3.0.0->en_core_web_trf) (49.6.0.post20210108)\n",
      "Requirement already satisfied: wasabi<1.1.0,>=0.8.1 in /opt/conda/lib/python3.7/site-packages (from spacy<3.1.0,>=3.0.0->en_core_web_trf) (0.8.2)\n",
      "Requirement already satisfied: requests<3.0.0,>=2.13.0 in /opt/conda/lib/python3.7/site-packages (from spacy<3.1.0,>=3.0.0->en_core_web_trf) (2.25.1)\n",
      "Requirement already satisfied: tqdm<5.0.0,>=4.38.0 in /opt/conda/lib/python3.7/site-packages (from spacy<3.1.0,>=3.0.0->en_core_web_trf) (4.59.0)\n",
      "Processing /kaggle/input/spacy3/spacy_legacy-3.0.5-py2.py3-none-any.whl\n",
      "Processing /kaggle/input/spacy3/pydantic-1.7.3-cp37-cp37m-manylinux2014_x86_64.whl\n",
      "Requirement already satisfied: blis<0.8.0,>=0.4.0 in /opt/conda/lib/python3.7/site-packages (from spacy<3.1.0,>=3.0.0->en_core_web_trf) (0.7.4)\n",
      "Processing /kaggle/input/spacy3/catalogue-2.0.3-py3-none-any.whl\n",
      "Requirement already satisfied: numpy>=1.15.0 in /opt/conda/lib/python3.7/site-packages (from spacy<3.1.0,>=3.0.0->en_core_web_trf) (1.19.5)\n",
      "Requirement already satisfied: typing-extensions<4.0.0.0,>=3.7.4 in /opt/conda/lib/python3.7/site-packages (from spacy<3.1.0,>=3.0.0->en_core_web_trf) (3.7.4.3)\n",
      "Processing /kaggle/input/spacy3/thinc-8.0.3-cp37-cp37m-manylinux2014_x86_64.whl\n",
      "Requirement already satisfied: jinja2 in /opt/conda/lib/python3.7/site-packages (from spacy<3.1.0,>=3.0.0->en_core_web_trf) (2.11.3)\n",
      "Requirement already satisfied: packaging>=20.0 in /opt/conda/lib/python3.7/site-packages (from spacy<3.1.0,>=3.0.0->en_core_web_trf) (20.9)\n",
      "Processing /kaggle/input/spacy3/pathy-0.5.2-py3-none-any.whl\n",
      "Requirement already satisfied: murmurhash<1.1.0,>=0.28.0 in /opt/conda/lib/python3.7/site-packages (from spacy<3.1.0,>=3.0.0->en_core_web_trf) (1.0.5)\n",
      "Processing /kaggle/input/spacy3/srsly-2.4.1-cp37-cp37m-manylinux2014_x86_64.whl\n",
      "Processing /kaggle/input/spacy3/typer-0.3.2-py3-none-any.whl\n",
      "Requirement already satisfied: preshed<3.1.0,>=3.0.2 in /opt/conda/lib/python3.7/site-packages (from spacy<3.1.0,>=3.0.0->en_core_web_trf) (3.0.5)\n",
      "Requirement already satisfied: zipp>=0.5 in /opt/conda/lib/python3.7/site-packages (from catalogue<2.1.0,>=2.0.3->spacy<3.1.0,>=3.0.0->en_core_web_trf) (3.4.1)\n",
      "Requirement already satisfied: pyparsing>=2.0.2 in /opt/conda/lib/python3.7/site-packages (from packaging>=20.0->spacy<3.1.0,>=3.0.0->en_core_web_trf) (2.4.7)\n",
      "Processing /kaggle/input/spacy3/smart_open-3.0.0-py3-none-any.whl\n",
      "Requirement already satisfied: urllib3<1.27,>=1.21.1 in /opt/conda/lib/python3.7/site-packages (from requests<3.0.0,>=2.13.0->spacy<3.1.0,>=3.0.0->en_core_web_trf) (1.26.4)\n",
      "Requirement already satisfied: certifi>=2017.4.17 in /opt/conda/lib/python3.7/site-packages (from requests<3.0.0,>=2.13.0->spacy<3.1.0,>=3.0.0->en_core_web_trf) (2020.12.5)\n",
      "Requirement already satisfied: chardet<5,>=3.0.2 in /opt/conda/lib/python3.7/site-packages (from requests<3.0.0,>=2.13.0->spacy<3.1.0,>=3.0.0->en_core_web_trf) (4.0.0)\n",
      "Requirement already satisfied: idna<3,>=2.5 in /opt/conda/lib/python3.7/site-packages (from requests<3.0.0,>=2.13.0->spacy<3.1.0,>=3.0.0->en_core_web_trf) (2.10)\n",
      "Processing /kaggle/input/spacy3/spacy_alignments-0.8.3-cp37-cp37m-manylinux2014_x86_64.whl\n",
      "Requirement already satisfied: torch>=1.5.0 in /opt/conda/lib/python3.7/site-packages (from spacy-transformers<1.1.0,>=1.0.0rc4->en_core_web_trf) (1.7.0)\n",
      "Requirement already satisfied: transformers<4.6.0,>=3.4.0 in /opt/conda/lib/python3.7/site-packages (from spacy-transformers<1.1.0,>=1.0.0rc4->en_core_web_trf) (4.5.1)\n",
      "Requirement already satisfied: future in /opt/conda/lib/python3.7/site-packages (from torch>=1.5.0->spacy-transformers<1.1.0,>=1.0.0rc4->en_core_web_trf) (0.18.2)\n",
      "Requirement already satisfied: dataclasses in /opt/conda/lib/python3.7/site-packages (from torch>=1.5.0->spacy-transformers<1.1.0,>=1.0.0rc4->en_core_web_trf) (0.6)\n",
      "Requirement already satisfied: filelock in /opt/conda/lib/python3.7/site-packages (from transformers<4.6.0,>=3.4.0->spacy-transformers<1.1.0,>=1.0.0rc4->en_core_web_trf) (3.0.12)\n",
      "Requirement already satisfied: regex!=2019.12.17 in /opt/conda/lib/python3.7/site-packages (from transformers<4.6.0,>=3.4.0->spacy-transformers<1.1.0,>=1.0.0rc4->en_core_web_trf) (2021.3.17)\n",
      "Requirement already satisfied: tokenizers<0.11,>=0.10.1 in /opt/conda/lib/python3.7/site-packages (from transformers<4.6.0,>=3.4.0->spacy-transformers<1.1.0,>=1.0.0rc4->en_core_web_trf) (0.10.2)\n",
      "Requirement already satisfied: sacremoses in /opt/conda/lib/python3.7/site-packages (from transformers<4.6.0,>=3.4.0->spacy-transformers<1.1.0,>=1.0.0rc4->en_core_web_trf) (0.0.45)\n",
      "Requirement already satisfied: importlib-metadata in /opt/conda/lib/python3.7/site-packages (from transformers<4.6.0,>=3.4.0->spacy-transformers<1.1.0,>=1.0.0rc4->en_core_web_trf) (3.4.0)\n",
      "Requirement already satisfied: click<7.2.0,>=7.1.1 in /opt/conda/lib/python3.7/site-packages (from typer<0.4.0,>=0.3.0->spacy<3.1.0,>=3.0.0->en_core_web_trf) (7.1.2)\n",
      "Requirement already satisfied: MarkupSafe>=0.23 in /opt/conda/lib/python3.7/site-packages (from jinja2->spacy<3.1.0,>=3.0.0->en_core_web_trf) (1.1.1)\n",
      "Requirement already satisfied: joblib in /opt/conda/lib/python3.7/site-packages (from sacremoses->transformers<4.6.0,>=3.4.0->spacy-transformers<1.1.0,>=1.0.0rc4->en_core_web_trf) (1.0.1)\n",
      "Requirement already satisfied: six in /opt/conda/lib/python3.7/site-packages (from sacremoses->transformers<4.6.0,>=3.4.0->spacy-transformers<1.1.0,>=1.0.0rc4->en_core_web_trf) (1.15.0)\n",
      "Installing collected packages: catalogue, typer, srsly, smart-open, pydantic, thinc, spacy-legacy, pathy, spacy-alignments, spacy, spacy-transformers, en-core-web-trf\n",
      "  Attempting uninstall: catalogue\n",
      "    Found existing installation: catalogue 1.0.0\n",
      "    Uninstalling catalogue-1.0.0:\n",
      "      Successfully uninstalled catalogue-1.0.0\n",
      "  Attempting uninstall: srsly\n",
      "    Found existing installation: srsly 1.0.5\n",
      "    Uninstalling srsly-1.0.5:\n",
      "      Successfully uninstalled srsly-1.0.5\n",
      "  Attempting uninstall: smart-open\n",
      "    Found existing installation: smart-open 5.0.0\n",
      "    Uninstalling smart-open-5.0.0:\n",
      "      Successfully uninstalled smart-open-5.0.0\n",
      "  Attempting uninstall: thinc\n",
      "    Found existing installation: thinc 7.4.5\n",
      "    Uninstalling thinc-7.4.5:\n",
      "      Successfully uninstalled thinc-7.4.5\n",
      "  Attempting uninstall: spacy\n",
      "    Found existing installation: spacy 2.3.5\n",
      "    Uninstalling spacy-2.3.5:\n",
      "      Successfully uninstalled spacy-2.3.5\n",
      "\u001b[31mERROR: pip's dependency resolver does not currently take into account all the packages that are installed. This behaviour is the source of the following dependency conflicts.\n",
      "fastai 2.3.0 requires spacy<3, but you have spacy 3.0.6 which is incompatible.\n",
      "en-core-web-sm 2.3.1 requires spacy<2.4.0,>=2.3.0, but you have spacy 3.0.6 which is incompatible.\n",
      "en-core-web-lg 2.3.1 requires spacy<2.4.0,>=2.3.0, but you have spacy 3.0.6 which is incompatible.\u001b[0m\n",
      "Successfully installed catalogue-2.0.3 en-core-web-trf-3.0.0 pathy-0.5.2 pydantic-1.7.3 smart-open-3.0.0 spacy-3.0.6 spacy-alignments-0.8.3 spacy-legacy-3.0.5 spacy-transformers-1.0.2 srsly-2.4.1 thinc-8.0.3 typer-0.3.2\n",
      "Looking in links: ../input/spacy3\n",
      "Requirement already satisfied: spacy_transformers in /opt/conda/lib/python3.7/site-packages (1.0.2)\n",
      "Requirement already satisfied: srsly<3.0.0,>=2.4.0 in /opt/conda/lib/python3.7/site-packages (from spacy_transformers) (2.4.1)\n",
      "Requirement already satisfied: torch>=1.5.0 in /opt/conda/lib/python3.7/site-packages (from spacy_transformers) (1.7.0)\n",
      "Requirement already satisfied: spacy<3.1.0,>=3.0.0 in /opt/conda/lib/python3.7/site-packages (from spacy_transformers) (3.0.6)\n",
      "Requirement already satisfied: transformers<4.6.0,>=3.4.0 in /opt/conda/lib/python3.7/site-packages (from spacy_transformers) (4.5.1)\n",
      "Requirement already satisfied: spacy-alignments<1.0.0,>=0.7.2 in /opt/conda/lib/python3.7/site-packages (from spacy_transformers) (0.8.3)\n",
      "Requirement already satisfied: wasabi<1.1.0,>=0.8.1 in /opt/conda/lib/python3.7/site-packages (from spacy<3.1.0,>=3.0.0->spacy_transformers) (0.8.2)\n",
      "Requirement already satisfied: preshed<3.1.0,>=3.0.2 in /opt/conda/lib/python3.7/site-packages (from spacy<3.1.0,>=3.0.0->spacy_transformers) (3.0.5)\n",
      "Requirement already satisfied: setuptools in /opt/conda/lib/python3.7/site-packages (from spacy<3.1.0,>=3.0.0->spacy_transformers) (49.6.0.post20210108)\n",
      "Requirement already satisfied: requests<3.0.0,>=2.13.0 in /opt/conda/lib/python3.7/site-packages (from spacy<3.1.0,>=3.0.0->spacy_transformers) (2.25.1)\n",
      "Requirement already satisfied: jinja2 in /opt/conda/lib/python3.7/site-packages (from spacy<3.1.0,>=3.0.0->spacy_transformers) (2.11.3)\n",
      "Requirement already satisfied: spacy-legacy<3.1.0,>=3.0.4 in /opt/conda/lib/python3.7/site-packages (from spacy<3.1.0,>=3.0.0->spacy_transformers) (3.0.5)\n",
      "Requirement already satisfied: pathy>=0.3.5 in /opt/conda/lib/python3.7/site-packages (from spacy<3.1.0,>=3.0.0->spacy_transformers) (0.5.2)\n",
      "Requirement already satisfied: typer<0.4.0,>=0.3.0 in /opt/conda/lib/python3.7/site-packages (from spacy<3.1.0,>=3.0.0->spacy_transformers) (0.3.2)\n",
      "Requirement already satisfied: tqdm<5.0.0,>=4.38.0 in /opt/conda/lib/python3.7/site-packages (from spacy<3.1.0,>=3.0.0->spacy_transformers) (4.59.0)\n",
      "Requirement already satisfied: typing-extensions<4.0.0.0,>=3.7.4 in /opt/conda/lib/python3.7/site-packages (from spacy<3.1.0,>=3.0.0->spacy_transformers) (3.7.4.3)\n",
      "Requirement already satisfied: catalogue<2.1.0,>=2.0.3 in /opt/conda/lib/python3.7/site-packages (from spacy<3.1.0,>=3.0.0->spacy_transformers) (2.0.3)\n",
      "Requirement already satisfied: numpy>=1.15.0 in /opt/conda/lib/python3.7/site-packages (from spacy<3.1.0,>=3.0.0->spacy_transformers) (1.19.5)\n",
      "Requirement already satisfied: pydantic<1.8.0,>=1.7.1 in /opt/conda/lib/python3.7/site-packages (from spacy<3.1.0,>=3.0.0->spacy_transformers) (1.7.3)\n",
      "Requirement already satisfied: cymem<2.1.0,>=2.0.2 in /opt/conda/lib/python3.7/site-packages (from spacy<3.1.0,>=3.0.0->spacy_transformers) (2.0.5)\n",
      "Requirement already satisfied: murmurhash<1.1.0,>=0.28.0 in /opt/conda/lib/python3.7/site-packages (from spacy<3.1.0,>=3.0.0->spacy_transformers) (1.0.5)\n",
      "Requirement already satisfied: thinc<8.1.0,>=8.0.3 in /opt/conda/lib/python3.7/site-packages (from spacy<3.1.0,>=3.0.0->spacy_transformers) (8.0.3)\n",
      "Requirement already satisfied: packaging>=20.0 in /opt/conda/lib/python3.7/site-packages (from spacy<3.1.0,>=3.0.0->spacy_transformers) (20.9)\n",
      "Requirement already satisfied: blis<0.8.0,>=0.4.0 in /opt/conda/lib/python3.7/site-packages (from spacy<3.1.0,>=3.0.0->spacy_transformers) (0.7.4)\n",
      "Requirement already satisfied: zipp>=0.5 in /opt/conda/lib/python3.7/site-packages (from catalogue<2.1.0,>=2.0.3->spacy<3.1.0,>=3.0.0->spacy_transformers) (3.4.1)\n",
      "Requirement already satisfied: pyparsing>=2.0.2 in /opt/conda/lib/python3.7/site-packages (from packaging>=20.0->spacy<3.1.0,>=3.0.0->spacy_transformers) (2.4.7)\n",
      "Requirement already satisfied: smart-open<4.0.0,>=2.2.0 in /opt/conda/lib/python3.7/site-packages (from pathy>=0.3.5->spacy<3.1.0,>=3.0.0->spacy_transformers) (3.0.0)\n",
      "Requirement already satisfied: idna<3,>=2.5 in /opt/conda/lib/python3.7/site-packages (from requests<3.0.0,>=2.13.0->spacy<3.1.0,>=3.0.0->spacy_transformers) (2.10)\n",
      "Requirement already satisfied: chardet<5,>=3.0.2 in /opt/conda/lib/python3.7/site-packages (from requests<3.0.0,>=2.13.0->spacy<3.1.0,>=3.0.0->spacy_transformers) (4.0.0)\n",
      "Requirement already satisfied: urllib3<1.27,>=1.21.1 in /opt/conda/lib/python3.7/site-packages (from requests<3.0.0,>=2.13.0->spacy<3.1.0,>=3.0.0->spacy_transformers) (1.26.4)\n",
      "Requirement already satisfied: certifi>=2017.4.17 in /opt/conda/lib/python3.7/site-packages (from requests<3.0.0,>=2.13.0->spacy<3.1.0,>=3.0.0->spacy_transformers) (2020.12.5)\n",
      "Requirement already satisfied: future in /opt/conda/lib/python3.7/site-packages (from torch>=1.5.0->spacy_transformers) (0.18.2)\n",
      "Requirement already satisfied: dataclasses in /opt/conda/lib/python3.7/site-packages (from torch>=1.5.0->spacy_transformers) (0.6)\n",
      "Requirement already satisfied: filelock in /opt/conda/lib/python3.7/site-packages (from transformers<4.6.0,>=3.4.0->spacy_transformers) (3.0.12)\n",
      "Requirement already satisfied: sacremoses in /opt/conda/lib/python3.7/site-packages (from transformers<4.6.0,>=3.4.0->spacy_transformers) (0.0.45)\n",
      "Requirement already satisfied: importlib-metadata in /opt/conda/lib/python3.7/site-packages (from transformers<4.6.0,>=3.4.0->spacy_transformers) (3.4.0)\n",
      "Requirement already satisfied: regex!=2019.12.17 in /opt/conda/lib/python3.7/site-packages (from transformers<4.6.0,>=3.4.0->spacy_transformers) (2021.3.17)\n",
      "Requirement already satisfied: tokenizers<0.11,>=0.10.1 in /opt/conda/lib/python3.7/site-packages (from transformers<4.6.0,>=3.4.0->spacy_transformers) (0.10.2)\n",
      "Requirement already satisfied: click<7.2.0,>=7.1.1 in /opt/conda/lib/python3.7/site-packages (from typer<0.4.0,>=0.3.0->spacy<3.1.0,>=3.0.0->spacy_transformers) (7.1.2)\n",
      "Requirement already satisfied: MarkupSafe>=0.23 in /opt/conda/lib/python3.7/site-packages (from jinja2->spacy<3.1.0,>=3.0.0->spacy_transformers) (1.1.1)\n",
      "Requirement already satisfied: six in /opt/conda/lib/python3.7/site-packages (from sacremoses->transformers<4.6.0,>=3.4.0->spacy_transformers) (1.15.0)\n",
      "Requirement already satisfied: joblib in /opt/conda/lib/python3.7/site-packages (from sacremoses->transformers<4.6.0,>=3.4.0->spacy_transformers) (1.0.1)\n"
     ]
    }
   ],
   "source": [
    "!pip install --no-index --find-links \"../input/spacy3\" spacy[cuda110]\n",
    "!pip install --no-index --find-links \"../input/spacy3\" en_core_web_trf\n",
    "!pip install --no-index --find-links \"../input/spacy3\" spacy_transformers"
   ]
  },
  {
   "cell_type": "code",
   "execution_count": 5,
   "metadata": {
    "execution": {
     "iopub.execute_input": "2021-06-13T20:35:30.412078Z",
     "iopub.status.busy": "2021-06-13T20:35:30.410993Z",
     "iopub.status.idle": "2021-06-13T20:35:34.997508Z",
     "shell.execute_reply": "2021-06-13T20:35:34.996845Z",
     "shell.execute_reply.started": "2021-06-13T20:14:04.203524Z"
    },
    "papermill": {
     "duration": 4.622642,
     "end_time": "2021-06-13T20:35:34.997651",
     "exception": false,
     "start_time": "2021-06-13T20:35:30.375009",
     "status": "completed"
    },
    "tags": []
   },
   "outputs": [],
   "source": [
    "import spacy\n",
    "from spacy.tokens import DocBin"
   ]
  },
  {
   "cell_type": "code",
   "execution_count": 6,
   "metadata": {
    "execution": {
     "iopub.execute_input": "2021-06-13T20:35:35.071691Z",
     "iopub.status.busy": "2021-06-13T20:35:35.070901Z",
     "iopub.status.idle": "2021-06-13T20:35:35.073552Z",
     "shell.execute_reply": "2021-06-13T20:35:35.073939Z",
     "shell.execute_reply.started": "2021-06-13T20:14:11.136279Z"
    },
    "papermill": {
     "duration": 0.043234,
     "end_time": "2021-06-13T20:35:35.074063",
     "exception": false,
     "start_time": "2021-06-13T20:35:35.030829",
     "status": "completed"
    },
    "tags": []
   },
   "outputs": [
    {
     "name": "stdout",
     "output_type": "stream",
     "text": [
      "3.0.6\n"
     ]
    }
   ],
   "source": [
    "print(spacy.__version__)"
   ]
  },
  {
   "cell_type": "code",
   "execution_count": 7,
   "metadata": {
    "execution": {
     "iopub.execute_input": "2021-06-13T20:35:35.147096Z",
     "iopub.status.busy": "2021-06-13T20:35:35.146333Z",
     "iopub.status.idle": "2021-06-13T20:35:49.482706Z",
     "shell.execute_reply": "2021-06-13T20:35:49.482209Z",
     "shell.execute_reply.started": "2021-06-13T20:14:11.149313Z"
    },
    "papermill": {
     "duration": 14.375823,
     "end_time": "2021-06-13T20:35:49.482847",
     "exception": false,
     "start_time": "2021-06-13T20:35:35.107024",
     "status": "completed"
    },
    "tags": []
   },
   "outputs": [],
   "source": [
    "# Load the best model\n",
    "try:\n",
    "    spacy.require_gpu()\n",
    "except:\n",
    "    print(\"GPU not found\")\n",
    "    \n",
    "nlp = spacy.load(R\"../input/coledridge-challenge-models/model-best\")"
   ]
  },
  {
   "cell_type": "code",
   "execution_count": 8,
   "metadata": {
    "execution": {
     "iopub.execute_input": "2021-06-13T20:35:49.559378Z",
     "iopub.status.busy": "2021-06-13T20:35:49.558749Z",
     "iopub.status.idle": "2021-06-13T20:35:51.668433Z",
     "shell.execute_reply": "2021-06-13T20:35:51.668846Z",
     "shell.execute_reply.started": "2021-06-13T20:20:12.714586Z"
    },
    "papermill": {
     "duration": 2.152857,
     "end_time": "2021-06-13T20:35:51.668992",
     "exception": false,
     "start_time": "2021-06-13T20:35:49.516135",
     "status": "completed"
    },
    "tags": []
   },
   "outputs": [
    {
     "name": "stdout",
     "output_type": "stream",
     "text": [
      "Entities [('genome sequences of SARS-CoV-2', 'DATASET')]\n"
     ]
    }
   ],
   "source": [
    "# Testing the model\n",
    "doc = nlp('The supply of PCR reagents, trained lab personnel and the availability of laboratories with sufficient biocontainment levels are major challenges of SARS-CoV-2 detection in developing countries, such as Indonesia (Younes et al., 2020) . Therefore, it is not surprising that the tested people per week is still lower than the World Health Organization (WHO) standard (World Health Organization, 2020b) . Recently, SARS-CoV-2 with the D614G mutation became the most frequently detected globally, including South East Asia region (Korber et al., 2020; Nguyen et al., 2020) . Interestingly, SARS-CoV-2 with the G614 variant had significantly higher infectious titers than the original D614 virus, and COVID-19 patients with the G614 variant had a higher viral load than patients without the mutation (Korber et al., 2020) . A recent study showed that the SARS-CoV-2 with the G614 variant revealed increased infectivity, competitive fitness, and transmission than the wild-type D614 virus in human airway epithelial cells and hamster (Hou et al., 2020) . However, this mutation was not associated with the severity of COVID-19 (Korber et al., 2020; Nguyen et al., 2020) . Here, we aimed:\\n(1) to report full-length genome sequences of SARS-CoV-2 collected from four COVID-19 patients in the Special Region of Yogyakarta and Central Java provinces, Indonesia;\\n(2) to compare the clade distribution of full-length genome sequences from Indonesia (n = 60) from March to September 2020; and (3) to perform phylogenetic analysis of SARS-CoV-2 complete genomes from different countries, including Indonesia.') # input sample text\n",
    "print(\"Entities\", [(ent.text, ent.label_) for ent in doc.ents])"
   ]
  },
  {
   "cell_type": "code",
   "execution_count": 9,
   "metadata": {
    "execution": {
     "iopub.execute_input": "2021-06-13T20:35:51.740755Z",
     "iopub.status.busy": "2021-06-13T20:35:51.739561Z",
     "iopub.status.idle": "2021-06-13T20:35:51.743375Z",
     "shell.execute_reply": "2021-06-13T20:35:51.743762Z",
     "shell.execute_reply.started": "2021-06-13T20:20:12.947288Z"
    },
    "papermill": {
     "duration": 0.041778,
     "end_time": "2021-06-13T20:35:51.743878",
     "exception": false,
     "start_time": "2021-06-13T20:35:51.702100",
     "status": "completed"
    },
    "tags": []
   },
   "outputs": [
    {
     "data": {
      "text/html": [
       "<span class=\"tex2jax_ignore\"><div class=\"entities\" style=\"line-height: 2.5; direction: ltr\">The supply of PCR reagents, trained lab personnel and the availability of laboratories with sufficient biocontainment levels are major challenges of SARS-CoV-2 detection in developing countries, such as Indonesia (Younes et al., 2020) . Therefore, it is not surprising that the tested people per week is still lower than the World Health Organization (WHO) standard (World Health Organization, 2020b) . Recently, SARS-CoV-2 with the D614G mutation became the most frequently detected globally, including South East Asia region (Korber et al., 2020; Nguyen et al., 2020) . Interestingly, SARS-CoV-2 with the G614 variant had significantly higher infectious titers than the original D614 virus, and COVID-19 patients with the G614 variant had a higher viral load than patients without the mutation (Korber et al., 2020) . A recent study showed that the SARS-CoV-2 with the G614 variant revealed increased infectivity, competitive fitness, and transmission than the wild-type D614 virus in human airway epithelial cells and hamster (Hou et al., 2020) . However, this mutation was not associated with the severity of COVID-19 (Korber et al., 2020; Nguyen et al., 2020) . Here, we aimed:</br>(1) to report full-length \n",
       "<mark class=\"entity\" style=\"background: #ddd; padding: 0.45em 0.6em; margin: 0 0.25em; line-height: 1; border-radius: 0.35em;\">\n",
       "    genome sequences of SARS-CoV-2\n",
       "    <span style=\"font-size: 0.8em; font-weight: bold; line-height: 1; border-radius: 0.35em; vertical-align: middle; margin-left: 0.5rem\">DATASET</span>\n",
       "</mark>\n",
       " collected from four COVID-19 patients in the Special Region of Yogyakarta and Central Java provinces, Indonesia;</br>(2) to compare the clade distribution of full-length genome sequences from Indonesia (n = 60) from March to September 2020; and (3) to perform phylogenetic analysis of SARS-CoV-2 complete genomes from different countries, including Indonesia.</div></span>"
      ],
      "text/plain": [
       "<IPython.core.display.HTML object>"
      ]
     },
     "metadata": {},
     "output_type": "display_data"
    }
   ],
   "source": [
    "spacy.displacy.render(doc, style=\"ent\", jupyter=True) # display in Jupyter"
   ]
  },
  {
   "cell_type": "code",
   "execution_count": 10,
   "metadata": {
    "execution": {
     "iopub.execute_input": "2021-06-13T20:35:51.819571Z",
     "iopub.status.busy": "2021-06-13T20:35:51.819025Z",
     "iopub.status.idle": "2021-06-13T20:35:51.828150Z",
     "shell.execute_reply": "2021-06-13T20:35:51.827733Z",
     "shell.execute_reply.started": "2021-06-13T20:20:13.588311Z"
    },
    "papermill": {
     "duration": 0.051197,
     "end_time": "2021-06-13T20:35:51.828249",
     "exception": false,
     "start_time": "2021-06-13T20:35:51.777052",
     "status": "completed"
    },
    "tags": []
   },
   "outputs": [
    {
     "data": {
      "text/html": [
       "<div>\n",
       "<style scoped>\n",
       "    .dataframe tbody tr th:only-of-type {\n",
       "        vertical-align: middle;\n",
       "    }\n",
       "\n",
       "    .dataframe tbody tr th {\n",
       "        vertical-align: top;\n",
       "    }\n",
       "\n",
       "    .dataframe thead th {\n",
       "        text-align: right;\n",
       "    }\n",
       "</style>\n",
       "<table border=\"1\" class=\"dataframe\">\n",
       "  <thead>\n",
       "    <tr style=\"text-align: right;\">\n",
       "      <th></th>\n",
       "      <th>Section</th>\n",
       "      <th>Text</th>\n",
       "      <th>Label</th>\n",
       "      <th>Id</th>\n",
       "      <th>dataset_index</th>\n",
       "    </tr>\n",
       "  </thead>\n",
       "  <tbody>\n",
       "    <tr>\n",
       "      <th>0</th>\n",
       "      <td>Abstract</td>\n",
       "      <td>A rterial stiffness is an age-related trait th...</td>\n",
       "      <td>Baltimore Longitudinal Study of Aging</td>\n",
       "      <td>58147ea8-c5c7-4283-bb27-c01830c3af13</td>\n",
       "      <td>[(1309, 1346, 'DATASET'), (2525, 2563, 'DATASE...</td>\n",
       "    </tr>\n",
       "    <tr>\n",
       "      <th>1</th>\n",
       "      <td>Introduction</td>\n",
       "      <td>(2012 Jedynak et al. ( , 2015 proposed a param...</td>\n",
       "      <td>Alzheimer's Disease Neuroimaging Initiative (A...</td>\n",
       "      <td>1c35d627-8b39-41d2-b3e0-77c92483d8a8</td>\n",
       "      <td>[(1925, 1975, 'DATASET')]</td>\n",
       "    </tr>\n",
       "    <tr>\n",
       "      <th>2</th>\n",
       "      <td>Impact of Intensification Rate on TC Intensity...</td>\n",
       "      <td>[11] How do the changes in intensification rat...</td>\n",
       "      <td>IBTrACS</td>\n",
       "      <td>5716fd22-6c6c-4587-a673-281a33456749</td>\n",
       "      <td>[(334, 341, 'DATASET')]</td>\n",
       "    </tr>\n",
       "    <tr>\n",
       "      <th>3</th>\n",
       "      <td>Introduction</td>\n",
       "      <td>Sponsored by the National Center for Education...</td>\n",
       "      <td>Early Childhood Longitudinal Study</td>\n",
       "      <td>3be437b7-2576-4b2f-ae22-d158cf97edfe</td>\n",
       "      <td>[(59, 93, 'DATASET')]</td>\n",
       "    </tr>\n",
       "    <tr>\n",
       "      <th>4</th>\n",
       "      <td>Introduction</td>\n",
       "      <td>(2010) , we developed a novel surface mapping ...</td>\n",
       "      <td>Alzheimer's Disease Neuroimaging Initiative (A...</td>\n",
       "      <td>6b460753-749f-45bc-9996-dd8a950107ce</td>\n",
       "      <td>[(1787, 1837, 'DATASET')]</td>\n",
       "    </tr>\n",
       "  </tbody>\n",
       "</table>\n",
       "</div>"
      ],
      "text/plain": [
       "                                             Section  \\\n",
       "0                                           Abstract   \n",
       "1                                       Introduction   \n",
       "2  Impact of Intensification Rate on TC Intensity...   \n",
       "3                                       Introduction   \n",
       "4                                       Introduction   \n",
       "\n",
       "                                                Text  \\\n",
       "0  A rterial stiffness is an age-related trait th...   \n",
       "1  (2012 Jedynak et al. ( , 2015 proposed a param...   \n",
       "2  [11] How do the changes in intensification rat...   \n",
       "3  Sponsored by the National Center for Education...   \n",
       "4  (2010) , we developed a novel surface mapping ...   \n",
       "\n",
       "                                               Label  \\\n",
       "0              Baltimore Longitudinal Study of Aging   \n",
       "1  Alzheimer's Disease Neuroimaging Initiative (A...   \n",
       "2                                            IBTrACS   \n",
       "3                 Early Childhood Longitudinal Study   \n",
       "4  Alzheimer's Disease Neuroimaging Initiative (A...   \n",
       "\n",
       "                                     Id  \\\n",
       "0  58147ea8-c5c7-4283-bb27-c01830c3af13   \n",
       "1  1c35d627-8b39-41d2-b3e0-77c92483d8a8   \n",
       "2  5716fd22-6c6c-4587-a673-281a33456749   \n",
       "3  3be437b7-2576-4b2f-ae22-d158cf97edfe   \n",
       "4  6b460753-749f-45bc-9996-dd8a950107ce   \n",
       "\n",
       "                                       dataset_index  \n",
       "0  [(1309, 1346, 'DATASET'), (2525, 2563, 'DATASE...  \n",
       "1                          [(1925, 1975, 'DATASET')]  \n",
       "2                            [(334, 341, 'DATASET')]  \n",
       "3                              [(59, 93, 'DATASET')]  \n",
       "4                          [(1787, 1837, 'DATASET')]  "
      ]
     },
     "execution_count": 10,
     "metadata": {},
     "output_type": "execute_result"
    }
   ],
   "source": [
    "validation.head()"
   ]
  },
  {
   "cell_type": "code",
   "execution_count": 11,
   "metadata": {
    "execution": {
     "iopub.execute_input": "2021-06-13T20:35:51.901270Z",
     "iopub.status.busy": "2021-06-13T20:35:51.900472Z",
     "iopub.status.idle": "2021-06-13T20:35:51.925893Z",
     "shell.execute_reply": "2021-06-13T20:35:51.926279Z",
     "shell.execute_reply.started": "2021-06-13T20:20:14.099651Z"
    },
    "papermill": {
     "duration": 0.064327,
     "end_time": "2021-06-13T20:35:51.926438",
     "exception": false,
     "start_time": "2021-06-13T20:35:51.862111",
     "status": "completed"
    },
    "tags": []
   },
   "outputs": [
    {
     "name": "stdout",
     "output_type": "stream",
     "text": [
      "Entities [('beginning postsecondary student', 'DATASET')]\n"
     ]
    }
   ],
   "source": [
    "# Testing the model\n",
    "doc = nlp(\"investigated the differences in college access and choice among students of different racialethnic groups using the national educational longitudinal study nels8892 and the beginning postsecondary student longitudinal study bps9092\") # input sample text\n",
    "print(\"Entities\", [(ent.text, ent.label_) for ent in doc.ents])"
   ]
  },
  {
   "cell_type": "code",
   "execution_count": 12,
   "metadata": {
    "execution": {
     "iopub.execute_input": "2021-06-13T20:35:51.998583Z",
     "iopub.status.busy": "2021-06-13T20:35:51.998064Z",
     "iopub.status.idle": "2021-06-13T20:35:52.003254Z",
     "shell.execute_reply": "2021-06-13T20:35:52.003649Z",
     "shell.execute_reply.started": "2021-06-13T20:20:14.531491Z"
    },
    "papermill": {
     "duration": 0.043469,
     "end_time": "2021-06-13T20:35:52.003771",
     "exception": false,
     "start_time": "2021-06-13T20:35:51.960302",
     "status": "completed"
    },
    "tags": []
   },
   "outputs": [
    {
     "data": {
      "text/html": [
       "<span class=\"tex2jax_ignore\"><div class=\"entities\" style=\"line-height: 2.5; direction: ltr\">investigated the differences in college access and choice among students of different racialethnic groups using the national educational longitudinal study nels8892 and the \n",
       "<mark class=\"entity\" style=\"background: #ddd; padding: 0.45em 0.6em; margin: 0 0.25em; line-height: 1; border-radius: 0.35em;\">\n",
       "    beginning postsecondary student\n",
       "    <span style=\"font-size: 0.8em; font-weight: bold; line-height: 1; border-radius: 0.35em; vertical-align: middle; margin-left: 0.5rem\">DATASET</span>\n",
       "</mark>\n",
       " longitudinal study bps9092</div></span>"
      ],
      "text/plain": [
       "<IPython.core.display.HTML object>"
      ]
     },
     "metadata": {},
     "output_type": "display_data"
    }
   ],
   "source": [
    "spacy.displacy.render(doc, style=\"ent\", jupyter=True) # display in Jupyter"
   ]
  },
  {
   "cell_type": "code",
   "execution_count": 13,
   "metadata": {
    "execution": {
     "iopub.execute_input": "2021-06-13T20:35:52.078044Z",
     "iopub.status.busy": "2021-06-13T20:35:52.077573Z",
     "iopub.status.idle": "2021-06-13T20:35:52.089311Z",
     "shell.execute_reply": "2021-06-13T20:35:52.089759Z",
     "shell.execute_reply.started": "2021-06-13T20:20:22.700493Z"
    },
    "papermill": {
     "duration": 0.05157,
     "end_time": "2021-06-13T20:35:52.089898",
     "exception": false,
     "start_time": "2021-06-13T20:35:52.038328",
     "status": "completed"
    },
    "tags": []
   },
   "outputs": [
    {
     "data": {
      "text/html": [
       "<div>\n",
       "<style scoped>\n",
       "    .dataframe tbody tr th:only-of-type {\n",
       "        vertical-align: middle;\n",
       "    }\n",
       "\n",
       "    .dataframe tbody tr th {\n",
       "        vertical-align: top;\n",
       "    }\n",
       "\n",
       "    .dataframe thead th {\n",
       "        text-align: right;\n",
       "    }\n",
       "</style>\n",
       "<table border=\"1\" class=\"dataframe\">\n",
       "  <thead>\n",
       "    <tr style=\"text-align: right;\">\n",
       "      <th></th>\n",
       "      <th>Id</th>\n",
       "      <th>PredictionString</th>\n",
       "    </tr>\n",
       "  </thead>\n",
       "  <tbody>\n",
       "    <tr>\n",
       "      <th>0</th>\n",
       "      <td>2100032a-7c33-4bff-97ef-690822c43466</td>\n",
       "      <td>NaN</td>\n",
       "    </tr>\n",
       "    <tr>\n",
       "      <th>1</th>\n",
       "      <td>2f392438-e215-4169-bebf-21ac4ff253e1</td>\n",
       "      <td>NaN</td>\n",
       "    </tr>\n",
       "    <tr>\n",
       "      <th>2</th>\n",
       "      <td>3f316b38-1a24-45a9-8d8c-4e05a42257c6</td>\n",
       "      <td>NaN</td>\n",
       "    </tr>\n",
       "    <tr>\n",
       "      <th>3</th>\n",
       "      <td>8e6996b4-ca08-4c0b-bed2-aaf07a4c6a60</td>\n",
       "      <td>NaN</td>\n",
       "    </tr>\n",
       "  </tbody>\n",
       "</table>\n",
       "</div>"
      ],
      "text/plain": [
       "                                     Id  PredictionString\n",
       "0  2100032a-7c33-4bff-97ef-690822c43466               NaN\n",
       "1  2f392438-e215-4169-bebf-21ac4ff253e1               NaN\n",
       "2  3f316b38-1a24-45a9-8d8c-4e05a42257c6               NaN\n",
       "3  8e6996b4-ca08-4c0b-bed2-aaf07a4c6a60               NaN"
      ]
     },
     "execution_count": 13,
     "metadata": {},
     "output_type": "execute_result"
    }
   ],
   "source": [
    "submission = pd.read_csv('../input/coleridgeinitiative-show-us-the-data/sample_submission.csv')\n",
    "\n",
    "submission.head()"
   ]
  },
  {
   "cell_type": "markdown",
   "metadata": {
    "papermill": {
     "duration": 0.036474,
     "end_time": "2021-06-13T20:35:52.165294",
     "exception": false,
     "start_time": "2021-06-13T20:35:52.128820",
     "status": "completed"
    },
    "tags": []
   },
   "source": [
    "### Validate model"
   ]
  },
  {
   "cell_type": "code",
   "execution_count": 14,
   "metadata": {
    "execution": {
     "iopub.execute_input": "2021-06-13T20:35:52.240572Z",
     "iopub.status.busy": "2021-06-13T20:35:52.239869Z",
     "iopub.status.idle": "2021-06-13T20:35:52.242136Z",
     "shell.execute_reply": "2021-06-13T20:35:52.242576Z",
     "shell.execute_reply.started": "2021-06-13T20:20:23.390674Z"
    },
    "papermill": {
     "duration": 0.041731,
     "end_time": "2021-06-13T20:35:52.242697",
     "exception": false,
     "start_time": "2021-06-13T20:35:52.200966",
     "status": "completed"
    },
    "tags": []
   },
   "outputs": [],
   "source": [
    "def clean_text(txt):\n",
    "    return re.sub('[^A-Za-z0-9]+', ' ', str(txt).lower())"
   ]
  },
  {
   "cell_type": "code",
   "execution_count": 15,
   "metadata": {
    "execution": {
     "iopub.execute_input": "2021-06-13T20:35:52.317863Z",
     "iopub.status.busy": "2021-06-13T20:35:52.317139Z",
     "iopub.status.idle": "2021-06-13T20:35:52.319867Z",
     "shell.execute_reply": "2021-06-13T20:35:52.319404Z",
     "shell.execute_reply.started": "2021-06-13T20:29:52.920735Z"
    },
    "papermill": {
     "duration": 0.042497,
     "end_time": "2021-06-13T20:35:52.319970",
     "exception": false,
     "start_time": "2021-06-13T20:35:52.277473",
     "status": "completed"
    },
    "tags": []
   },
   "outputs": [],
   "source": [
    "def extract_ds_from_text(path):\n",
    "    extract_df = pd.read_json(path)\n",
    "    \n",
    "    dataset = []\n",
    "\n",
    "    for idx, r in extract_df.iterrows():\n",
    "        doc = nlp(r['text'])\n",
    "\n",
    "        if doc.ents:\n",
    "            for i in [ent.text for ent in doc.ents]:\n",
    "                i = clean_text(i)\n",
    "                if len(i) != 0 and i not in dataset:\n",
    "                    dataset.append(str(i).strip())\n",
    "\n",
    "    return dataset"
   ]
  },
  {
   "cell_type": "code",
   "execution_count": 16,
   "metadata": {
    "execution": {
     "iopub.execute_input": "2021-06-13T20:35:52.394672Z",
     "iopub.status.busy": "2021-06-13T20:35:52.393983Z",
     "iopub.status.idle": "2021-06-13T20:35:52.396785Z",
     "shell.execute_reply": "2021-06-13T20:35:52.396329Z",
     "shell.execute_reply.started": "2021-06-13T20:20:24.288672Z"
    },
    "papermill": {
     "duration": 0.041946,
     "end_time": "2021-06-13T20:35:52.396887",
     "exception": false,
     "start_time": "2021-06-13T20:35:52.354941",
     "status": "completed"
    },
    "tags": []
   },
   "outputs": [],
   "source": [
    "def jaccard(str1, str2): \n",
    "    a = set(str1.lower().split()) \n",
    "    b = set(str2.lower().split())\n",
    "    c = a.intersection(b)\n",
    "    return float(len(c)) / (len(a) + len(b) - len(c))"
   ]
  },
  {
   "cell_type": "code",
   "execution_count": 17,
   "metadata": {
    "execution": {
     "iopub.execute_input": "2021-06-13T20:35:52.470585Z",
     "iopub.status.busy": "2021-06-13T20:35:52.469904Z",
     "iopub.status.idle": "2021-06-13T20:35:52.472923Z",
     "shell.execute_reply": "2021-06-13T20:35:52.473410Z",
     "shell.execute_reply.started": "2021-06-13T20:25:37.737473Z"
    },
    "papermill": {
     "duration": 0.042095,
     "end_time": "2021-06-13T20:35:52.473526",
     "exception": false,
     "start_time": "2021-06-13T20:35:52.431431",
     "status": "completed"
    },
    "tags": []
   },
   "outputs": [
    {
     "data": {
      "text/plain": [
       "0.75"
      ]
     },
     "execution_count": 17,
     "metadata": {},
     "output_type": "execute_result"
    }
   ],
   "source": [
    "jaccard(\"national education longitudinal study\",\"education longitudinal study\")"
   ]
  },
  {
   "cell_type": "code",
   "execution_count": 18,
   "metadata": {
    "execution": {
     "iopub.execute_input": "2021-06-13T20:35:52.549649Z",
     "iopub.status.busy": "2021-06-13T20:35:52.548856Z",
     "iopub.status.idle": "2021-06-13T20:38:40.257070Z",
     "shell.execute_reply": "2021-06-13T20:38:40.256463Z",
     "shell.execute_reply.started": "2021-06-13T20:20:25.701130Z"
    },
    "papermill": {
     "duration": 167.748685,
     "end_time": "2021-06-13T20:38:40.257203",
     "exception": false,
     "start_time": "2021-06-13T20:35:52.508518",
     "status": "completed"
    },
    "tags": []
   },
   "outputs": [
    {
     "name": "stderr",
     "output_type": "stream",
     "text": [
      "2854it [02:47, 17.02it/s]\n"
     ]
    }
   ],
   "source": [
    "for index, rows in tqdm(validation.iterrows()):\n",
    "    doc = nlp(rows['Text'])\n",
    "\n",
    "    preds = []\n",
    "    \n",
    "    if doc.ents:\n",
    "        for i in [ent.text for ent in doc.ents]:\n",
    "            i = clean_text(i)\n",
    "            if len(i) != 0:\n",
    "                preds.append(str(i).strip())\n",
    "    \n",
    "    validation.loc[index, 'predictions'] = '|'.join(preds)"
   ]
  },
  {
   "cell_type": "code",
   "execution_count": 19,
   "metadata": {
    "execution": {
     "iopub.execute_input": "2021-06-13T20:38:40.888802Z",
     "iopub.status.busy": "2021-06-13T20:38:40.888094Z",
     "iopub.status.idle": "2021-06-13T20:38:40.891729Z",
     "shell.execute_reply": "2021-06-13T20:38:40.891299Z",
     "shell.execute_reply.started": "2021-06-13T20:23:49.812895Z"
    },
    "papermill": {
     "duration": 0.324364,
     "end_time": "2021-06-13T20:38:40.891836",
     "exception": false,
     "start_time": "2021-06-13T20:38:40.567472",
     "status": "completed"
    },
    "tags": []
   },
   "outputs": [],
   "source": [
    "validation['Label'] = validation['Label'].apply(clean_text)"
   ]
  },
  {
   "cell_type": "code",
   "execution_count": 20,
   "metadata": {
    "execution": {
     "iopub.execute_input": "2021-06-13T20:38:41.498423Z",
     "iopub.status.busy": "2021-06-13T20:38:41.497891Z",
     "iopub.status.idle": "2021-06-13T20:38:42.487317Z",
     "shell.execute_reply": "2021-06-13T20:38:42.486699Z",
     "shell.execute_reply.started": "2021-06-13T20:23:49.842910Z"
    },
    "papermill": {
     "duration": 1.295576,
     "end_time": "2021-06-13T20:38:42.487466",
     "exception": false,
     "start_time": "2021-06-13T20:38:41.191890",
     "status": "completed"
    },
    "tags": []
   },
   "outputs": [],
   "source": [
    "validation['truth'] = validation.groupby(['Id'])['Label'].transform(lambda x : '|'.join(x))\n",
    "validation['predictions'] = validation.groupby(['Id'])['predictions'].transform(lambda x : '|'.join(x))\n",
    "validation = validation.drop_duplicates(\"Id\")"
   ]
  },
  {
   "cell_type": "code",
   "execution_count": 21,
   "metadata": {
    "execution": {
     "iopub.execute_input": "2021-06-13T20:38:43.120414Z",
     "iopub.status.busy": "2021-06-13T20:38:43.119574Z",
     "iopub.status.idle": "2021-06-13T20:38:43.123029Z",
     "shell.execute_reply": "2021-06-13T20:38:43.123615Z",
     "shell.execute_reply.started": "2021-06-13T20:23:51.401984Z"
    },
    "papermill": {
     "duration": 0.331485,
     "end_time": "2021-06-13T20:38:43.123806",
     "exception": false,
     "start_time": "2021-06-13T20:38:42.792321",
     "status": "completed"
    },
    "tags": []
   },
   "outputs": [],
   "source": [
    "validation = validation[['Id', 'truth', 'predictions']]"
   ]
  },
  {
   "cell_type": "code",
   "execution_count": 22,
   "metadata": {
    "execution": {
     "iopub.execute_input": "2021-06-13T20:38:43.939863Z",
     "iopub.status.busy": "2021-06-13T20:38:43.939259Z",
     "iopub.status.idle": "2021-06-13T20:38:43.942608Z",
     "shell.execute_reply": "2021-06-13T20:38:43.943004Z",
     "shell.execute_reply.started": "2021-06-13T20:23:51.934872Z"
    },
    "papermill": {
     "duration": 0.328009,
     "end_time": "2021-06-13T20:38:43.943133",
     "exception": false,
     "start_time": "2021-06-13T20:38:43.615124",
     "status": "completed"
    },
    "tags": []
   },
   "outputs": [
    {
     "data": {
      "text/html": [
       "<div>\n",
       "<style scoped>\n",
       "    .dataframe tbody tr th:only-of-type {\n",
       "        vertical-align: middle;\n",
       "    }\n",
       "\n",
       "    .dataframe tbody tr th {\n",
       "        vertical-align: top;\n",
       "    }\n",
       "\n",
       "    .dataframe thead th {\n",
       "        text-align: right;\n",
       "    }\n",
       "</style>\n",
       "<table border=\"1\" class=\"dataframe\">\n",
       "  <thead>\n",
       "    <tr style=\"text-align: right;\">\n",
       "      <th></th>\n",
       "      <th>Id</th>\n",
       "      <th>truth</th>\n",
       "      <th>predictions</th>\n",
       "    </tr>\n",
       "  </thead>\n",
       "  <tbody>\n",
       "    <tr>\n",
       "      <th>0</th>\n",
       "      <td>58147ea8-c5c7-4283-bb27-c01830c3af13</td>\n",
       "      <td>baltimore longitudinal study of aging|baltimor...</td>\n",
       "      <td>baltimore longitudinal study of aging|baltimor...</td>\n",
       "    </tr>\n",
       "    <tr>\n",
       "      <th>1</th>\n",
       "      <td>1c35d627-8b39-41d2-b3e0-77c92483d8a8</td>\n",
       "      <td>alzheimer s disease neuroimaging initiative adni</td>\n",
       "      <td>alzheimer s disease neuroimaging initiative ad...</td>\n",
       "    </tr>\n",
       "    <tr>\n",
       "      <th>2</th>\n",
       "      <td>5716fd22-6c6c-4587-a673-281a33456749</td>\n",
       "      <td>ibtracs|ibtracs</td>\n",
       "      <td>ibtracs|ibtracs|ibtracs|ibtracs|ibtracs|ibtrac...</td>\n",
       "    </tr>\n",
       "    <tr>\n",
       "      <th>3</th>\n",
       "      <td>3be437b7-2576-4b2f-ae22-d158cf97edfe</td>\n",
       "      <td>early childhood longitudinal study</td>\n",
       "      <td>early childhood longitudinal study</td>\n",
       "    </tr>\n",
       "    <tr>\n",
       "      <th>4</th>\n",
       "      <td>6b460753-749f-45bc-9996-dd8a950107ce</td>\n",
       "      <td>alzheimer s disease neuroimaging initiative ad...</td>\n",
       "      <td>alzheimer s disease neuroimaging initiative ad...</td>\n",
       "    </tr>\n",
       "    <tr>\n",
       "      <th>5</th>\n",
       "      <td>e13db490-cf95-4bda-b730-5376b67a8a99</td>\n",
       "      <td>north american breeding bird survey</td>\n",
       "      <td>north american breeding bird survey</td>\n",
       "    </tr>\n",
       "    <tr>\n",
       "      <th>6</th>\n",
       "      <td>8435368a-eef2-4438-8f65-f78d0d888f68</td>\n",
       "      <td>adni</td>\n",
       "      <td>adni</td>\n",
       "    </tr>\n",
       "    <tr>\n",
       "      <th>7</th>\n",
       "      <td>d3dc9bd8-e2cc-47ed-bf03-03f37323b09c</td>\n",
       "      <td>baltimore longitudinal study of aging|baltimor...</td>\n",
       "      <td>baltimore longitudinal study of aging|baltimor...</td>\n",
       "    </tr>\n",
       "    <tr>\n",
       "      <th>8</th>\n",
       "      <td>235872d8-9b25-492e-8e74-a3faae37978a</td>\n",
       "      <td>adni</td>\n",
       "      <td>alzheimer s disease neuroimaging initiative adni</td>\n",
       "    </tr>\n",
       "    <tr>\n",
       "      <th>9</th>\n",
       "      <td>93572da5-bcb2-4f91-a963-d35f6c528b03</td>\n",
       "      <td>national education longitudinal study</td>\n",
       "      <td>education longitudinal study</td>\n",
       "    </tr>\n",
       "  </tbody>\n",
       "</table>\n",
       "</div>"
      ],
      "text/plain": [
       "                                     Id  \\\n",
       "0  58147ea8-c5c7-4283-bb27-c01830c3af13   \n",
       "1  1c35d627-8b39-41d2-b3e0-77c92483d8a8   \n",
       "2  5716fd22-6c6c-4587-a673-281a33456749   \n",
       "3  3be437b7-2576-4b2f-ae22-d158cf97edfe   \n",
       "4  6b460753-749f-45bc-9996-dd8a950107ce   \n",
       "5  e13db490-cf95-4bda-b730-5376b67a8a99   \n",
       "6  8435368a-eef2-4438-8f65-f78d0d888f68   \n",
       "7  d3dc9bd8-e2cc-47ed-bf03-03f37323b09c   \n",
       "8  235872d8-9b25-492e-8e74-a3faae37978a   \n",
       "9  93572da5-bcb2-4f91-a963-d35f6c528b03   \n",
       "\n",
       "                                               truth  \\\n",
       "0  baltimore longitudinal study of aging|baltimor...   \n",
       "1  alzheimer s disease neuroimaging initiative adni    \n",
       "2                                    ibtracs|ibtracs   \n",
       "3                 early childhood longitudinal study   \n",
       "4  alzheimer s disease neuroimaging initiative ad...   \n",
       "5                north american breeding bird survey   \n",
       "6                                               adni   \n",
       "7  baltimore longitudinal study of aging|baltimor...   \n",
       "8                                               adni   \n",
       "9              national education longitudinal study   \n",
       "\n",
       "                                         predictions  \n",
       "0  baltimore longitudinal study of aging|baltimor...  \n",
       "1  alzheimer s disease neuroimaging initiative ad...  \n",
       "2  ibtracs|ibtracs|ibtracs|ibtracs|ibtracs|ibtrac...  \n",
       "3                 early childhood longitudinal study  \n",
       "4  alzheimer s disease neuroimaging initiative ad...  \n",
       "5                north american breeding bird survey  \n",
       "6                                               adni  \n",
       "7  baltimore longitudinal study of aging|baltimor...  \n",
       "8   alzheimer s disease neuroimaging initiative adni  \n",
       "9                       education longitudinal study  "
      ]
     },
     "execution_count": 22,
     "metadata": {},
     "output_type": "execute_result"
    }
   ],
   "source": [
    "validation.head(10)"
   ]
  },
  {
   "cell_type": "code",
   "execution_count": 23,
   "metadata": {
    "execution": {
     "iopub.execute_input": "2021-06-13T20:38:44.562433Z",
     "iopub.status.busy": "2021-06-13T20:38:44.558794Z",
     "iopub.status.idle": "2021-06-13T20:38:44.877856Z",
     "shell.execute_reply": "2021-06-13T20:38:44.877418Z",
     "shell.execute_reply.started": "2021-06-13T20:23:58.903003Z"
    },
    "papermill": {
     "duration": 0.631543,
     "end_time": "2021-06-13T20:38:44.877979",
     "exception": false,
     "start_time": "2021-06-13T20:38:44.246436",
     "status": "completed"
    },
    "tags": []
   },
   "outputs": [],
   "source": [
    "TP = 0\n",
    "\n",
    "FP = 0\n",
    "FN = 0\n",
    "\n",
    "for index, rows in validation.iterrows():\n",
    "    predictions = np.array(str(rows['predictions']).split('|'))\n",
    "    ground_truths = np.array(str(rows['truth']).split('|'))\n",
    "    \n",
    "    predictions = np.unique(predictions)\n",
    "    ground_truths = np.unique(ground_truths)\n",
    "    \n",
    "    predictions = np.sort(predictions)\n",
    "\n",
    "    for pred in predictions:\n",
    "        for truth in ground_truths:\n",
    "            if pred in truth:\n",
    "                if jaccard(pred,truth) >= 0.5:\n",
    "                    TP += 1\n",
    "                else:\n",
    "                    FP += 1\n",
    "            else:\n",
    "                FP += 1\n",
    "                \n",
    "            if truth not in predictions:\n",
    "                FN += 1"
   ]
  },
  {
   "cell_type": "code",
   "execution_count": 24,
   "metadata": {
    "execution": {
     "iopub.execute_input": "2021-06-13T20:38:45.489741Z",
     "iopub.status.busy": "2021-06-13T20:38:45.489136Z",
     "iopub.status.idle": "2021-06-13T20:38:45.494042Z",
     "shell.execute_reply": "2021-06-13T20:38:45.493640Z",
     "shell.execute_reply.started": "2021-06-13T20:24:00.111985Z"
    },
    "papermill": {
     "duration": 0.314797,
     "end_time": "2021-06-13T20:38:45.494153",
     "exception": false,
     "start_time": "2021-06-13T20:38:45.179356",
     "status": "completed"
    },
    "tags": []
   },
   "outputs": [
    {
     "name": "stdout",
     "output_type": "stream",
     "text": [
      "True positives: 2138\n",
      "\n",
      "\n",
      "False positives: 939\n",
      "False negatives: 1053\n"
     ]
    }
   ],
   "source": [
    "print(\"True positives: {}\".format(TP))\n",
    "print(\"\\n\")\n",
    "print(\"False positives: {}\".format(FP))\n",
    "print(\"False negatives: {}\".format(FN))"
   ]
  },
  {
   "cell_type": "code",
   "execution_count": 25,
   "metadata": {
    "execution": {
     "iopub.execute_input": "2021-06-13T20:38:46.103000Z",
     "iopub.status.busy": "2021-06-13T20:38:46.102417Z",
     "iopub.status.idle": "2021-06-13T20:38:46.105184Z",
     "shell.execute_reply": "2021-06-13T20:38:46.105599Z",
     "shell.execute_reply.started": "2021-06-13T20:24:01.331391Z"
    },
    "papermill": {
     "duration": 0.311165,
     "end_time": "2021-06-13T20:38:46.105730",
     "exception": false,
     "start_time": "2021-06-13T20:38:45.794565",
     "status": "completed"
    },
    "tags": []
   },
   "outputs": [
    {
     "name": "stdout",
     "output_type": "stream",
     "text": [
      "F0.5 score: 0.6897219175430672\n"
     ]
    }
   ],
   "source": [
    "beta = 0.5\n",
    "precision = (TP/(TP+FP))\n",
    "recall = (TP/(TP+FN))\n",
    "\n",
    "fbeta = ((1 + beta**2) * precision * recall) / (beta**2 * precision + recall)\n",
    "\n",
    "print(\"F0.5 score: {}\".format(fbeta))"
   ]
  },
  {
   "cell_type": "markdown",
   "metadata": {
    "papermill": {
     "duration": 0.299376,
     "end_time": "2021-06-13T20:38:46.706611",
     "exception": false,
     "start_time": "2021-06-13T20:38:46.407235",
     "status": "completed"
    },
    "tags": []
   },
   "source": [
    "### Create Submissions file"
   ]
  },
  {
   "cell_type": "code",
   "execution_count": 26,
   "metadata": {
    "execution": {
     "iopub.execute_input": "2021-06-13T20:38:47.316548Z",
     "iopub.status.busy": "2021-06-13T20:38:47.315990Z",
     "iopub.status.idle": "2021-06-13T20:38:52.891974Z",
     "shell.execute_reply": "2021-06-13T20:38:52.892421Z",
     "shell.execute_reply.started": "2021-06-13T20:29:55.754572Z"
    },
    "papermill": {
     "duration": 5.886264,
     "end_time": "2021-06-13T20:38:52.892576",
     "exception": false,
     "start_time": "2021-06-13T20:38:47.006312",
     "status": "completed"
    },
    "tags": []
   },
   "outputs": [
    {
     "name": "stdout",
     "output_type": "stream",
     "text": [
      "['trends in international mathematics and science study']\n"
     ]
    }
   ],
   "source": [
    "example = \"../input/coleridgeinitiative-show-us-the-data/test/2f392438-e215-4169-bebf-21ac4ff253e1.json\"\n",
    "\n",
    "print(extract_ds_from_text(example))"
   ]
  },
  {
   "cell_type": "code",
   "execution_count": 27,
   "metadata": {
    "execution": {
     "iopub.execute_input": "2021-06-13T20:38:53.499555Z",
     "iopub.status.busy": "2021-06-13T20:38:53.499018Z",
     "iopub.status.idle": "2021-06-13T20:39:02.324613Z",
     "shell.execute_reply": "2021-06-13T20:39:02.324153Z",
     "shell.execute_reply.started": "2021-06-13T20:27:00.949843Z"
    },
    "papermill": {
     "duration": 9.128395,
     "end_time": "2021-06-13T20:39:02.324740",
     "exception": false,
     "start_time": "2021-06-13T20:38:53.196345",
     "status": "completed"
    },
    "tags": []
   },
   "outputs": [],
   "source": [
    "for index, rows in submission.iterrows():\n",
    "    preds = extract_ds_from_text((test_files_path+\"/\"+rows[\"Id\"]+\".json\"))\n",
    "    submission.loc[index, 'PredictionString'] = '|'.join(preds)"
   ]
  },
  {
   "cell_type": "code",
   "execution_count": 28,
   "metadata": {
    "execution": {
     "iopub.execute_input": "2021-06-13T20:39:02.928272Z",
     "iopub.status.busy": "2021-06-13T20:39:02.927759Z",
     "iopub.status.idle": "2021-06-13T20:39:02.932648Z",
     "shell.execute_reply": "2021-06-13T20:39:02.932227Z",
     "shell.execute_reply.started": "2021-06-13T20:27:11.763141Z"
    },
    "papermill": {
     "duration": 0.31062,
     "end_time": "2021-06-13T20:39:02.932761",
     "exception": false,
     "start_time": "2021-06-13T20:39:02.622141",
     "status": "completed"
    },
    "tags": []
   },
   "outputs": [
    {
     "data": {
      "text/html": [
       "<div>\n",
       "<style scoped>\n",
       "    .dataframe tbody tr th:only-of-type {\n",
       "        vertical-align: middle;\n",
       "    }\n",
       "\n",
       "    .dataframe tbody tr th {\n",
       "        vertical-align: top;\n",
       "    }\n",
       "\n",
       "    .dataframe thead th {\n",
       "        text-align: right;\n",
       "    }\n",
       "</style>\n",
       "<table border=\"1\" class=\"dataframe\">\n",
       "  <thead>\n",
       "    <tr style=\"text-align: right;\">\n",
       "      <th></th>\n",
       "      <th>Id</th>\n",
       "      <th>PredictionString</th>\n",
       "    </tr>\n",
       "  </thead>\n",
       "  <tbody>\n",
       "    <tr>\n",
       "      <th>0</th>\n",
       "      <td>2100032a-7c33-4bff-97ef-690822c43466</td>\n",
       "      <td>alzheimer s disease neuroimaging initiative adni</td>\n",
       "    </tr>\n",
       "    <tr>\n",
       "      <th>1</th>\n",
       "      <td>2f392438-e215-4169-bebf-21ac4ff253e1</td>\n",
       "      <td>trends in international mathematics and scienc...</td>\n",
       "    </tr>\n",
       "    <tr>\n",
       "      <th>2</th>\n",
       "      <td>3f316b38-1a24-45a9-8d8c-4e05a42257c6</td>\n",
       "      <td>slosh model</td>\n",
       "    </tr>\n",
       "    <tr>\n",
       "      <th>3</th>\n",
       "      <td>8e6996b4-ca08-4c0b-bed2-aaf07a4c6a60</td>\n",
       "      <td>rural urban continuum codes</td>\n",
       "    </tr>\n",
       "  </tbody>\n",
       "</table>\n",
       "</div>"
      ],
      "text/plain": [
       "                                     Id  \\\n",
       "0  2100032a-7c33-4bff-97ef-690822c43466   \n",
       "1  2f392438-e215-4169-bebf-21ac4ff253e1   \n",
       "2  3f316b38-1a24-45a9-8d8c-4e05a42257c6   \n",
       "3  8e6996b4-ca08-4c0b-bed2-aaf07a4c6a60   \n",
       "\n",
       "                                    PredictionString  \n",
       "0   alzheimer s disease neuroimaging initiative adni  \n",
       "1  trends in international mathematics and scienc...  \n",
       "2                                        slosh model  \n",
       "3                        rural urban continuum codes  "
      ]
     },
     "execution_count": 28,
     "metadata": {},
     "output_type": "execute_result"
    }
   ],
   "source": [
    "submission.head()"
   ]
  },
  {
   "cell_type": "code",
   "execution_count": 29,
   "metadata": {
    "execution": {
     "iopub.execute_input": "2021-06-13T20:39:03.537636Z",
     "iopub.status.busy": "2021-06-13T20:39:03.537048Z",
     "iopub.status.idle": "2021-06-13T20:39:03.544771Z",
     "shell.execute_reply": "2021-06-13T20:39:03.544296Z",
     "shell.execute_reply.started": "2021-06-13T20:18:04.054872Z"
    },
    "papermill": {
     "duration": 0.313955,
     "end_time": "2021-06-13T20:39:03.544893",
     "exception": false,
     "start_time": "2021-06-13T20:39:03.230938",
     "status": "completed"
    },
    "tags": []
   },
   "outputs": [],
   "source": [
    "submission.to_csv('submission.csv', index=False)"
   ]
  },
  {
   "cell_type": "code",
   "execution_count": null,
   "metadata": {
    "papermill": {
     "duration": 0.320796,
     "end_time": "2021-06-13T20:39:04.165507",
     "exception": false,
     "start_time": "2021-06-13T20:39:03.844711",
     "status": "completed"
    },
    "tags": []
   },
   "outputs": [],
   "source": []
  }
 ],
 "metadata": {
  "kernelspec": {
   "display_name": "Python 3",
   "language": "python",
   "name": "python3"
  },
  "language_info": {
   "codemirror_mode": {
    "name": "ipython",
    "version": 3
   },
   "file_extension": ".py",
   "mimetype": "text/x-python",
   "name": "python",
   "nbconvert_exporter": "python",
   "pygments_lexer": "ipython3",
   "version": "3.8.3"
  },
  "papermill": {
   "default_parameters": {},
   "duration": 275.762082,
   "end_time": "2021-06-13T20:39:07.334949",
   "environment_variables": {},
   "exception": null,
   "input_path": "__notebook__.ipynb",
   "output_path": "__notebook__.ipynb",
   "parameters": {},
   "start_time": "2021-06-13T20:34:31.572867",
   "version": "2.3.3"
  }
 },
 "nbformat": 4,
 "nbformat_minor": 5
}
