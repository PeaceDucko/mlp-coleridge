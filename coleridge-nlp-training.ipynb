{
 "cells": [
  {
   "cell_type": "code",
   "execution_count": 1,
   "metadata": {
    "execution": {
     "iopub.execute_input": "2021-06-13T16:03:19.482939Z",
     "iopub.status.busy": "2021-06-13T16:03:19.480815Z",
     "iopub.status.idle": "2021-06-13T16:03:21.835813Z",
     "shell.execute_reply": "2021-06-13T16:03:21.834616Z",
     "shell.execute_reply.started": "2021-06-13T07:55:21.596418Z"
    },
    "papermill": {
     "duration": 2.384835,
     "end_time": "2021-06-13T16:03:21.836012",
     "exception": false,
     "start_time": "2021-06-13T16:03:19.451177",
     "status": "completed"
    },
    "tags": []
   },
   "outputs": [],
   "source": [
    "# Start writing code here...\n",
    "import numpy as np \n",
    "import pandas as pd\n",
    "  \n",
    "from IPython.display import display, clear_output\n",
    "    \n",
    "from tqdm import tqdm\n",
    "\n",
    "from ast import literal_eval\n",
    "\n",
    "from transformers import AutoTokenizer, AutoModel"
   ]
  },
  {
   "cell_type": "code",
   "execution_count": 2,
   "metadata": {
    "execution": {
     "iopub.execute_input": "2021-06-13T16:03:21.885701Z",
     "iopub.status.busy": "2021-06-13T16:03:21.884933Z",
     "iopub.status.idle": "2021-06-13T16:03:35.099919Z",
     "shell.execute_reply": "2021-06-13T16:03:35.099292Z",
     "shell.execute_reply.started": "2021-06-13T07:55:22.968038Z"
    },
    "papermill": {
     "duration": 13.241592,
     "end_time": "2021-06-13T16:03:35.100067",
     "exception": false,
     "start_time": "2021-06-13T16:03:21.858475",
     "status": "completed"
    },
    "tags": []
   },
   "outputs": [
    {
     "data": {
      "text/plain": [
       "[name: \"/device:CPU:0\"\n",
       " device_type: \"CPU\"\n",
       " memory_limit: 268435456\n",
       " locality {\n",
       " }\n",
       " incarnation: 1407058959519654060,\n",
       " name: \"/device:GPU:0\"\n",
       " device_type: \"GPU\"\n",
       " memory_limit: 15210480960\n",
       " locality {\n",
       "   bus_id: 1\n",
       "   links {\n",
       "   }\n",
       " }\n",
       " incarnation: 15725232135477842131\n",
       " physical_device_desc: \"device: 0, name: Tesla P100-PCIE-16GB, pci bus id: 0000:00:04.0, compute capability: 6.0\"]"
      ]
     },
     "execution_count": 2,
     "metadata": {},
     "output_type": "execute_result"
    }
   ],
   "source": [
    "from tensorflow.python.client import device_lib\n",
    "\n",
    "device_lib.list_local_devices()"
   ]
  },
  {
   "cell_type": "code",
   "execution_count": 3,
   "metadata": {
    "execution": {
     "iopub.execute_input": "2021-06-13T16:03:35.151568Z",
     "iopub.status.busy": "2021-06-13T16:03:35.150911Z",
     "iopub.status.idle": "2021-06-13T16:04:30.553330Z",
     "shell.execute_reply": "2021-06-13T16:04:30.552678Z"
    },
    "papermill": {
     "duration": 55.431348,
     "end_time": "2021-06-13T16:04:30.553503",
     "exception": false,
     "start_time": "2021-06-13T16:03:35.122155",
     "status": "completed"
    },
    "tags": []
   },
   "outputs": [
    {
     "name": "stdout",
     "output_type": "stream",
     "text": [
      "Looking in links: ../input/spacy3\n",
      "Requirement already satisfied: spacy[cuda110] in /opt/conda/lib/python3.7/site-packages (2.3.5)\n",
      "Requirement already satisfied: requests<3.0.0,>=2.13.0 in /opt/conda/lib/python3.7/site-packages (from spacy[cuda110]) (2.25.1)\n",
      "Requirement already satisfied: plac<1.2.0,>=0.9.6 in /opt/conda/lib/python3.7/site-packages (from spacy[cuda110]) (1.1.3)\n",
      "Requirement already satisfied: srsly<1.1.0,>=1.0.2 in /opt/conda/lib/python3.7/site-packages (from spacy[cuda110]) (1.0.5)\n",
      "Requirement already satisfied: murmurhash<1.1.0,>=0.28.0 in /opt/conda/lib/python3.7/site-packages (from spacy[cuda110]) (1.0.5)\n",
      "Requirement already satisfied: tqdm<5.0.0,>=4.38.0 in /opt/conda/lib/python3.7/site-packages (from spacy[cuda110]) (4.59.0)\n",
      "Requirement already satisfied: preshed<3.1.0,>=3.0.2 in /opt/conda/lib/python3.7/site-packages (from spacy[cuda110]) (3.0.5)\n",
      "Requirement already satisfied: blis<0.8.0,>=0.4.0 in /opt/conda/lib/python3.7/site-packages (from spacy[cuda110]) (0.7.4)\n",
      "Requirement already satisfied: setuptools in /opt/conda/lib/python3.7/site-packages (from spacy[cuda110]) (49.6.0.post20210108)\n",
      "Requirement already satisfied: cymem<2.1.0,>=2.0.2 in /opt/conda/lib/python3.7/site-packages (from spacy[cuda110]) (2.0.5)\n",
      "Requirement already satisfied: numpy>=1.15.0 in /opt/conda/lib/python3.7/site-packages (from spacy[cuda110]) (1.19.5)\n",
      "Requirement already satisfied: catalogue<1.1.0,>=0.0.7 in /opt/conda/lib/python3.7/site-packages (from spacy[cuda110]) (1.0.0)\n",
      "Requirement already satisfied: wasabi<1.1.0,>=0.4.0 in /opt/conda/lib/python3.7/site-packages (from spacy[cuda110]) (0.8.2)\n",
      "Requirement already satisfied: thinc<7.5.0,>=7.4.1 in /opt/conda/lib/python3.7/site-packages (from spacy[cuda110]) (7.4.5)\n",
      "Requirement already satisfied: cupy-cuda110>=5.0.0b4 in /opt/conda/lib/python3.7/site-packages (from spacy[cuda110]) (8.6.0)\n",
      "Requirement already satisfied: importlib-metadata>=0.20 in /opt/conda/lib/python3.7/site-packages (from catalogue<1.1.0,>=0.0.7->spacy[cuda110]) (3.4.0)\n",
      "Requirement already satisfied: fastrlock>=0.3 in /opt/conda/lib/python3.7/site-packages (from cupy-cuda110>=5.0.0b4->spacy[cuda110]) (0.6)\n",
      "Requirement already satisfied: zipp>=0.5 in /opt/conda/lib/python3.7/site-packages (from importlib-metadata>=0.20->catalogue<1.1.0,>=0.0.7->spacy[cuda110]) (3.4.1)\n",
      "Requirement already satisfied: typing-extensions>=3.6.4 in /opt/conda/lib/python3.7/site-packages (from importlib-metadata>=0.20->catalogue<1.1.0,>=0.0.7->spacy[cuda110]) (3.7.4.3)\n",
      "Requirement already satisfied: certifi>=2017.4.17 in /opt/conda/lib/python3.7/site-packages (from requests<3.0.0,>=2.13.0->spacy[cuda110]) (2020.12.5)\n",
      "Requirement already satisfied: chardet<5,>=3.0.2 in /opt/conda/lib/python3.7/site-packages (from requests<3.0.0,>=2.13.0->spacy[cuda110]) (4.0.0)\n",
      "Requirement already satisfied: urllib3<1.27,>=1.21.1 in /opt/conda/lib/python3.7/site-packages (from requests<3.0.0,>=2.13.0->spacy[cuda110]) (1.26.4)\n",
      "Requirement already satisfied: idna<3,>=2.5 in /opt/conda/lib/python3.7/site-packages (from requests<3.0.0,>=2.13.0->spacy[cuda110]) (2.10)\n",
      "Looking in links: ../input/spacy3\n",
      "Processing /kaggle/input/spacy3/en_core_web_trf-3.0.0-py3-none-any.whl\n",
      "Processing /kaggle/input/spacy3/spacy_transformers-1.0.2-py2.py3-none-any.whl\n",
      "Processing /kaggle/input/spacy3/spacy-3.0.6-cp37-cp37m-manylinux2014_x86_64.whl\n",
      "Requirement already satisfied: jinja2 in /opt/conda/lib/python3.7/site-packages (from spacy<3.1.0,>=3.0.0->en_core_web_trf) (2.11.3)\n",
      "Requirement already satisfied: packaging>=20.0 in /opt/conda/lib/python3.7/site-packages (from spacy<3.1.0,>=3.0.0->en_core_web_trf) (20.9)\n",
      "Requirement already satisfied: murmurhash<1.1.0,>=0.28.0 in /opt/conda/lib/python3.7/site-packages (from spacy<3.1.0,>=3.0.0->en_core_web_trf) (1.0.5)\n",
      "Processing /kaggle/input/spacy3/pydantic-1.7.3-cp37-cp37m-manylinux2014_x86_64.whl\n",
      "Requirement already satisfied: blis<0.8.0,>=0.4.0 in /opt/conda/lib/python3.7/site-packages (from spacy<3.1.0,>=3.0.0->en_core_web_trf) (0.7.4)\n",
      "Requirement already satisfied: preshed<3.1.0,>=3.0.2 in /opt/conda/lib/python3.7/site-packages (from spacy<3.1.0,>=3.0.0->en_core_web_trf) (3.0.5)\n",
      "Processing /kaggle/input/spacy3/thinc-8.0.3-cp37-cp37m-manylinux2014_x86_64.whl\n",
      "Processing /kaggle/input/spacy3/typer-0.3.2-py3-none-any.whl\n",
      "Requirement already satisfied: numpy>=1.15.0 in /opt/conda/lib/python3.7/site-packages (from spacy<3.1.0,>=3.0.0->en_core_web_trf) (1.19.5)\n",
      "Processing /kaggle/input/spacy3/pathy-0.5.2-py3-none-any.whl\n",
      "Requirement already satisfied: wasabi<1.1.0,>=0.8.1 in /opt/conda/lib/python3.7/site-packages (from spacy<3.1.0,>=3.0.0->en_core_web_trf) (0.8.2)\n",
      "Processing /kaggle/input/spacy3/catalogue-2.0.3-py3-none-any.whl\n",
      "Requirement already satisfied: requests<3.0.0,>=2.13.0 in /opt/conda/lib/python3.7/site-packages (from spacy<3.1.0,>=3.0.0->en_core_web_trf) (2.25.1)\n",
      "Requirement already satisfied: tqdm<5.0.0,>=4.38.0 in /opt/conda/lib/python3.7/site-packages (from spacy<3.1.0,>=3.0.0->en_core_web_trf) (4.59.0)\n",
      "Requirement already satisfied: cymem<2.1.0,>=2.0.2 in /opt/conda/lib/python3.7/site-packages (from spacy<3.1.0,>=3.0.0->en_core_web_trf) (2.0.5)\n",
      "Processing /kaggle/input/spacy3/spacy_legacy-3.0.5-py2.py3-none-any.whl\n",
      "Processing /kaggle/input/spacy3/srsly-2.4.1-cp37-cp37m-manylinux2014_x86_64.whl\n",
      "Requirement already satisfied: setuptools in /opt/conda/lib/python3.7/site-packages (from spacy<3.1.0,>=3.0.0->en_core_web_trf) (49.6.0.post20210108)\n",
      "Requirement already satisfied: typing-extensions<4.0.0.0,>=3.7.4 in /opt/conda/lib/python3.7/site-packages (from spacy<3.1.0,>=3.0.0->en_core_web_trf) (3.7.4.3)\n",
      "Requirement already satisfied: zipp>=0.5 in /opt/conda/lib/python3.7/site-packages (from catalogue<2.1.0,>=2.0.3->spacy<3.1.0,>=3.0.0->en_core_web_trf) (3.4.1)\n",
      "Requirement already satisfied: pyparsing>=2.0.2 in /opt/conda/lib/python3.7/site-packages (from packaging>=20.0->spacy<3.1.0,>=3.0.0->en_core_web_trf) (2.4.7)\n",
      "Processing /kaggle/input/spacy3/smart_open-3.0.0-py3-none-any.whl\n",
      "Requirement already satisfied: chardet<5,>=3.0.2 in /opt/conda/lib/python3.7/site-packages (from requests<3.0.0,>=2.13.0->spacy<3.1.0,>=3.0.0->en_core_web_trf) (4.0.0)\n",
      "Requirement already satisfied: certifi>=2017.4.17 in /opt/conda/lib/python3.7/site-packages (from requests<3.0.0,>=2.13.0->spacy<3.1.0,>=3.0.0->en_core_web_trf) (2020.12.5)\n",
      "Requirement already satisfied: urllib3<1.27,>=1.21.1 in /opt/conda/lib/python3.7/site-packages (from requests<3.0.0,>=2.13.0->spacy<3.1.0,>=3.0.0->en_core_web_trf) (1.26.4)\n",
      "Requirement already satisfied: idna<3,>=2.5 in /opt/conda/lib/python3.7/site-packages (from requests<3.0.0,>=2.13.0->spacy<3.1.0,>=3.0.0->en_core_web_trf) (2.10)\n",
      "Processing /kaggle/input/spacy3/spacy_alignments-0.8.3-cp37-cp37m-manylinux2014_x86_64.whl\n",
      "Requirement already satisfied: transformers<4.6.0,>=3.4.0 in /opt/conda/lib/python3.7/site-packages (from spacy-transformers<1.1.0,>=1.0.0rc4->en_core_web_trf) (4.5.1)\n",
      "Requirement already satisfied: torch>=1.5.0 in /opt/conda/lib/python3.7/site-packages (from spacy-transformers<1.1.0,>=1.0.0rc4->en_core_web_trf) (1.7.0)\n",
      "Requirement already satisfied: future in /opt/conda/lib/python3.7/site-packages (from torch>=1.5.0->spacy-transformers<1.1.0,>=1.0.0rc4->en_core_web_trf) (0.18.2)\n",
      "Requirement already satisfied: dataclasses in /opt/conda/lib/python3.7/site-packages (from torch>=1.5.0->spacy-transformers<1.1.0,>=1.0.0rc4->en_core_web_trf) (0.6)\n",
      "Requirement already satisfied: sacremoses in /opt/conda/lib/python3.7/site-packages (from transformers<4.6.0,>=3.4.0->spacy-transformers<1.1.0,>=1.0.0rc4->en_core_web_trf) (0.0.45)\n",
      "Requirement already satisfied: tokenizers<0.11,>=0.10.1 in /opt/conda/lib/python3.7/site-packages (from transformers<4.6.0,>=3.4.0->spacy-transformers<1.1.0,>=1.0.0rc4->en_core_web_trf) (0.10.2)\n",
      "Requirement already satisfied: filelock in /opt/conda/lib/python3.7/site-packages (from transformers<4.6.0,>=3.4.0->spacy-transformers<1.1.0,>=1.0.0rc4->en_core_web_trf) (3.0.12)\n",
      "Requirement already satisfied: importlib-metadata in /opt/conda/lib/python3.7/site-packages (from transformers<4.6.0,>=3.4.0->spacy-transformers<1.1.0,>=1.0.0rc4->en_core_web_trf) (3.4.0)\n",
      "Requirement already satisfied: regex!=2019.12.17 in /opt/conda/lib/python3.7/site-packages (from transformers<4.6.0,>=3.4.0->spacy-transformers<1.1.0,>=1.0.0rc4->en_core_web_trf) (2021.3.17)\n",
      "Requirement already satisfied: click<7.2.0,>=7.1.1 in /opt/conda/lib/python3.7/site-packages (from typer<0.4.0,>=0.3.0->spacy<3.1.0,>=3.0.0->en_core_web_trf) (7.1.2)\n",
      "Requirement already satisfied: MarkupSafe>=0.23 in /opt/conda/lib/python3.7/site-packages (from jinja2->spacy<3.1.0,>=3.0.0->en_core_web_trf) (1.1.1)\n",
      "Requirement already satisfied: joblib in /opt/conda/lib/python3.7/site-packages (from sacremoses->transformers<4.6.0,>=3.4.0->spacy-transformers<1.1.0,>=1.0.0rc4->en_core_web_trf) (1.0.1)\n",
      "Requirement already satisfied: six in /opt/conda/lib/python3.7/site-packages (from sacremoses->transformers<4.6.0,>=3.4.0->spacy-transformers<1.1.0,>=1.0.0rc4->en_core_web_trf) (1.15.0)\n",
      "Installing collected packages: catalogue, typer, srsly, smart-open, pydantic, thinc, spacy-legacy, pathy, spacy-alignments, spacy, spacy-transformers, en-core-web-trf\n",
      "  Attempting uninstall: catalogue\n",
      "    Found existing installation: catalogue 1.0.0\n",
      "    Uninstalling catalogue-1.0.0:\n",
      "      Successfully uninstalled catalogue-1.0.0\n",
      "  Attempting uninstall: srsly\n",
      "    Found existing installation: srsly 1.0.5\n",
      "    Uninstalling srsly-1.0.5:\n",
      "      Successfully uninstalled srsly-1.0.5\n",
      "  Attempting uninstall: smart-open\n",
      "    Found existing installation: smart-open 5.0.0\n",
      "    Uninstalling smart-open-5.0.0:\n",
      "      Successfully uninstalled smart-open-5.0.0\n",
      "  Attempting uninstall: thinc\n",
      "    Found existing installation: thinc 7.4.5\n",
      "    Uninstalling thinc-7.4.5:\n",
      "      Successfully uninstalled thinc-7.4.5\n",
      "  Attempting uninstall: spacy\n",
      "    Found existing installation: spacy 2.3.5\n",
      "    Uninstalling spacy-2.3.5:\n",
      "      Successfully uninstalled spacy-2.3.5\n",
      "\u001b[31mERROR: pip's dependency resolver does not currently take into account all the packages that are installed. This behaviour is the source of the following dependency conflicts.\n",
      "fastai 2.3.0 requires spacy<3, but you have spacy 3.0.6 which is incompatible.\n",
      "en-core-web-sm 2.3.1 requires spacy<2.4.0,>=2.3.0, but you have spacy 3.0.6 which is incompatible.\n",
      "en-core-web-lg 2.3.1 requires spacy<2.4.0,>=2.3.0, but you have spacy 3.0.6 which is incompatible.\u001b[0m\n",
      "Successfully installed catalogue-2.0.3 en-core-web-trf-3.0.0 pathy-0.5.2 pydantic-1.7.3 smart-open-3.0.0 spacy-3.0.6 spacy-alignments-0.8.3 spacy-legacy-3.0.5 spacy-transformers-1.0.2 srsly-2.4.1 thinc-8.0.3 typer-0.3.2\n",
      "Looking in links: ../input/spacy3\n",
      "Requirement already satisfied: spacy_transformers in /opt/conda/lib/python3.7/site-packages (1.0.2)\n",
      "Requirement already satisfied: torch>=1.5.0 in /opt/conda/lib/python3.7/site-packages (from spacy_transformers) (1.7.0)\n",
      "Requirement already satisfied: transformers<4.6.0,>=3.4.0 in /opt/conda/lib/python3.7/site-packages (from spacy_transformers) (4.5.1)\n",
      "Requirement already satisfied: srsly<3.0.0,>=2.4.0 in /opt/conda/lib/python3.7/site-packages (from spacy_transformers) (2.4.1)\n",
      "Requirement already satisfied: spacy-alignments<1.0.0,>=0.7.2 in /opt/conda/lib/python3.7/site-packages (from spacy_transformers) (0.8.3)\n",
      "Requirement already satisfied: spacy<3.1.0,>=3.0.0 in /opt/conda/lib/python3.7/site-packages (from spacy_transformers) (3.0.6)\n",
      "Requirement already satisfied: numpy>=1.15.0 in /opt/conda/lib/python3.7/site-packages (from spacy<3.1.0,>=3.0.0->spacy_transformers) (1.19.5)\n",
      "Requirement already satisfied: preshed<3.1.0,>=3.0.2 in /opt/conda/lib/python3.7/site-packages (from spacy<3.1.0,>=3.0.0->spacy_transformers) (3.0.5)\n",
      "Requirement already satisfied: typing-extensions<4.0.0.0,>=3.7.4 in /opt/conda/lib/python3.7/site-packages (from spacy<3.1.0,>=3.0.0->spacy_transformers) (3.7.4.3)\n",
      "Requirement already satisfied: pathy>=0.3.5 in /opt/conda/lib/python3.7/site-packages (from spacy<3.1.0,>=3.0.0->spacy_transformers) (0.5.2)\n",
      "Requirement already satisfied: catalogue<2.1.0,>=2.0.3 in /opt/conda/lib/python3.7/site-packages (from spacy<3.1.0,>=3.0.0->spacy_transformers) (2.0.3)\n",
      "Requirement already satisfied: pydantic<1.8.0,>=1.7.1 in /opt/conda/lib/python3.7/site-packages (from spacy<3.1.0,>=3.0.0->spacy_transformers) (1.7.3)\n",
      "Requirement already satisfied: setuptools in /opt/conda/lib/python3.7/site-packages (from spacy<3.1.0,>=3.0.0->spacy_transformers) (49.6.0.post20210108)\n",
      "Requirement already satisfied: spacy-legacy<3.1.0,>=3.0.4 in /opt/conda/lib/python3.7/site-packages (from spacy<3.1.0,>=3.0.0->spacy_transformers) (3.0.5)\n",
      "Requirement already satisfied: jinja2 in /opt/conda/lib/python3.7/site-packages (from spacy<3.1.0,>=3.0.0->spacy_transformers) (2.11.3)\n",
      "Requirement already satisfied: cymem<2.1.0,>=2.0.2 in /opt/conda/lib/python3.7/site-packages (from spacy<3.1.0,>=3.0.0->spacy_transformers) (2.0.5)\n",
      "Requirement already satisfied: packaging>=20.0 in /opt/conda/lib/python3.7/site-packages (from spacy<3.1.0,>=3.0.0->spacy_transformers) (20.9)\n",
      "Requirement already satisfied: thinc<8.1.0,>=8.0.3 in /opt/conda/lib/python3.7/site-packages (from spacy<3.1.0,>=3.0.0->spacy_transformers) (8.0.3)\n",
      "Requirement already satisfied: tqdm<5.0.0,>=4.38.0 in /opt/conda/lib/python3.7/site-packages (from spacy<3.1.0,>=3.0.0->spacy_transformers) (4.59.0)\n",
      "Requirement already satisfied: blis<0.8.0,>=0.4.0 in /opt/conda/lib/python3.7/site-packages (from spacy<3.1.0,>=3.0.0->spacy_transformers) (0.7.4)\n",
      "Requirement already satisfied: typer<0.4.0,>=0.3.0 in /opt/conda/lib/python3.7/site-packages (from spacy<3.1.0,>=3.0.0->spacy_transformers) (0.3.2)\n",
      "Requirement already satisfied: murmurhash<1.1.0,>=0.28.0 in /opt/conda/lib/python3.7/site-packages (from spacy<3.1.0,>=3.0.0->spacy_transformers) (1.0.5)\n",
      "Requirement already satisfied: wasabi<1.1.0,>=0.8.1 in /opt/conda/lib/python3.7/site-packages (from spacy<3.1.0,>=3.0.0->spacy_transformers) (0.8.2)\n",
      "Requirement already satisfied: requests<3.0.0,>=2.13.0 in /opt/conda/lib/python3.7/site-packages (from spacy<3.1.0,>=3.0.0->spacy_transformers) (2.25.1)\n",
      "Requirement already satisfied: zipp>=0.5 in /opt/conda/lib/python3.7/site-packages (from catalogue<2.1.0,>=2.0.3->spacy<3.1.0,>=3.0.0->spacy_transformers) (3.4.1)\n",
      "Requirement already satisfied: pyparsing>=2.0.2 in /opt/conda/lib/python3.7/site-packages (from packaging>=20.0->spacy<3.1.0,>=3.0.0->spacy_transformers) (2.4.7)\n",
      "Requirement already satisfied: smart-open<4.0.0,>=2.2.0 in /opt/conda/lib/python3.7/site-packages (from pathy>=0.3.5->spacy<3.1.0,>=3.0.0->spacy_transformers) (3.0.0)\n",
      "Requirement already satisfied: certifi>=2017.4.17 in /opt/conda/lib/python3.7/site-packages (from requests<3.0.0,>=2.13.0->spacy<3.1.0,>=3.0.0->spacy_transformers) (2020.12.5)\n",
      "Requirement already satisfied: idna<3,>=2.5 in /opt/conda/lib/python3.7/site-packages (from requests<3.0.0,>=2.13.0->spacy<3.1.0,>=3.0.0->spacy_transformers) (2.10)\n",
      "Requirement already satisfied: chardet<5,>=3.0.2 in /opt/conda/lib/python3.7/site-packages (from requests<3.0.0,>=2.13.0->spacy<3.1.0,>=3.0.0->spacy_transformers) (4.0.0)\n",
      "Requirement already satisfied: urllib3<1.27,>=1.21.1 in /opt/conda/lib/python3.7/site-packages (from requests<3.0.0,>=2.13.0->spacy<3.1.0,>=3.0.0->spacy_transformers) (1.26.4)\n",
      "Requirement already satisfied: future in /opt/conda/lib/python3.7/site-packages (from torch>=1.5.0->spacy_transformers) (0.18.2)\n",
      "Requirement already satisfied: dataclasses in /opt/conda/lib/python3.7/site-packages (from torch>=1.5.0->spacy_transformers) (0.6)\n",
      "Requirement already satisfied: tokenizers<0.11,>=0.10.1 in /opt/conda/lib/python3.7/site-packages (from transformers<4.6.0,>=3.4.0->spacy_transformers) (0.10.2)\n",
      "Requirement already satisfied: importlib-metadata in /opt/conda/lib/python3.7/site-packages (from transformers<4.6.0,>=3.4.0->spacy_transformers) (3.4.0)\n",
      "Requirement already satisfied: regex!=2019.12.17 in /opt/conda/lib/python3.7/site-packages (from transformers<4.6.0,>=3.4.0->spacy_transformers) (2021.3.17)\n",
      "Requirement already satisfied: filelock in /opt/conda/lib/python3.7/site-packages (from transformers<4.6.0,>=3.4.0->spacy_transformers) (3.0.12)\n",
      "Requirement already satisfied: sacremoses in /opt/conda/lib/python3.7/site-packages (from transformers<4.6.0,>=3.4.0->spacy_transformers) (0.0.45)\n",
      "Requirement already satisfied: click<7.2.0,>=7.1.1 in /opt/conda/lib/python3.7/site-packages (from typer<0.4.0,>=0.3.0->spacy<3.1.0,>=3.0.0->spacy_transformers) (7.1.2)\n",
      "Requirement already satisfied: MarkupSafe>=0.23 in /opt/conda/lib/python3.7/site-packages (from jinja2->spacy<3.1.0,>=3.0.0->spacy_transformers) (1.1.1)\n",
      "Requirement already satisfied: joblib in /opt/conda/lib/python3.7/site-packages (from sacremoses->transformers<4.6.0,>=3.4.0->spacy_transformers) (1.0.1)\n",
      "Requirement already satisfied: six in /opt/conda/lib/python3.7/site-packages (from sacremoses->transformers<4.6.0,>=3.4.0->spacy_transformers) (1.15.0)\n"
     ]
    }
   ],
   "source": [
    "!pip install --no-index --find-links \"../input/spacy3\" spacy[cuda110]\n",
    "!pip install --no-index --find-links \"../input/spacy3\" en_core_web_trf\n",
    "!pip install --no-index --find-links \"../input/spacy3\" spacy_transformers"
   ]
  },
  {
   "cell_type": "code",
   "execution_count": 4,
   "metadata": {
    "execution": {
     "iopub.execute_input": "2021-06-13T16:04:30.641321Z",
     "iopub.status.busy": "2021-06-13T16:04:30.640294Z",
     "iopub.status.idle": "2021-06-13T16:04:35.733212Z",
     "shell.execute_reply": "2021-06-13T16:04:35.732218Z",
     "shell.execute_reply.started": "2021-06-13T07:55:26.312744Z"
    },
    "papermill": {
     "duration": 5.137359,
     "end_time": "2021-06-13T16:04:35.733456",
     "exception": false,
     "start_time": "2021-06-13T16:04:30.596097",
     "status": "completed"
    },
    "tags": []
   },
   "outputs": [],
   "source": [
    "import spacy\n",
    "from spacy.tokens import DocBin"
   ]
  },
  {
   "cell_type": "code",
   "execution_count": 5,
   "metadata": {
    "execution": {
     "iopub.execute_input": "2021-06-13T16:04:35.816039Z",
     "iopub.status.busy": "2021-06-13T16:04:35.814777Z",
     "iopub.status.idle": "2021-06-13T16:04:35.818801Z",
     "shell.execute_reply": "2021-06-13T16:04:35.819630Z",
     "shell.execute_reply.started": "2021-06-13T07:55:27.063341Z"
    },
    "papermill": {
     "duration": 0.048609,
     "end_time": "2021-06-13T16:04:35.819864",
     "exception": false,
     "start_time": "2021-06-13T16:04:35.771255",
     "status": "completed"
    },
    "tags": []
   },
   "outputs": [
    {
     "name": "stdout",
     "output_type": "stream",
     "text": [
      "3.0.6\n"
     ]
    }
   ],
   "source": [
    "print(spacy.__version__)"
   ]
  },
  {
   "cell_type": "code",
   "execution_count": 6,
   "metadata": {
    "execution": {
     "iopub.execute_input": "2021-06-13T16:04:35.903581Z",
     "iopub.status.busy": "2021-06-13T16:04:35.902679Z",
     "iopub.status.idle": "2021-06-13T16:04:35.907852Z",
     "shell.execute_reply": "2021-06-13T16:04:35.907076Z",
     "shell.execute_reply.started": "2021-06-13T07:55:27.729905Z"
    },
    "papermill": {
     "duration": 0.049152,
     "end_time": "2021-06-13T16:04:35.908105",
     "exception": false,
     "start_time": "2021-06-13T16:04:35.858953",
     "status": "completed"
    },
    "tags": []
   },
   "outputs": [
    {
     "name": "stdout",
     "output_type": "stream",
     "text": [
      "env: TRANSFORMERS_OFFLINE=1\n",
      "env: HF_DATASETS_OFFLINE=1\n"
     ]
    }
   ],
   "source": [
    "%env TRANSFORMERS_OFFLINE=1\n",
    "%env HF_DATASETS_OFFLINE=1"
   ]
  },
  {
   "cell_type": "code",
   "execution_count": 7,
   "metadata": {
    "execution": {
     "iopub.execute_input": "2021-06-13T16:04:35.996730Z",
     "iopub.status.busy": "2021-06-13T16:04:35.995659Z",
     "iopub.status.idle": "2021-06-13T16:04:41.719320Z",
     "shell.execute_reply": "2021-06-13T16:04:41.718357Z",
     "shell.execute_reply.started": "2021-06-13T07:55:28.1852Z"
    },
    "papermill": {
     "duration": 5.771619,
     "end_time": "2021-06-13T16:04:41.719471",
     "exception": false,
     "start_time": "2021-06-13T16:04:35.947852",
     "status": "completed"
    },
    "tags": []
   },
   "outputs": [],
   "source": [
    "# Load pre-existing spacy model\n",
    "try:\n",
    "    spacy.require_gpu()\n",
    "except:\n",
    "    print(\"GPU not found\")\n",
    "\n",
    "nlp = spacy.load('en_core_web_trf', disable=[\"tagger\",\"parser\",\"attribute_ruler\",\"lemmatizer\"])"
   ]
  },
  {
   "cell_type": "code",
   "execution_count": 8,
   "metadata": {
    "execution": {
     "iopub.execute_input": "2021-06-13T16:04:41.804755Z",
     "iopub.status.busy": "2021-06-13T16:04:41.803840Z",
     "iopub.status.idle": "2021-06-13T16:04:49.560726Z",
     "shell.execute_reply": "2021-06-13T16:04:49.559907Z",
     "shell.execute_reply.started": "2021-06-13T07:55:29.282754Z"
    },
    "papermill": {
     "duration": 7.800841,
     "end_time": "2021-06-13T16:04:49.560905",
     "exception": false,
     "start_time": "2021-06-13T16:04:41.760064",
     "status": "completed"
    },
    "tags": []
   },
   "outputs": [],
   "source": [
    "name = \"../input/scibert-scivocab-uncased\"\n",
    "local_path = \"./scibert-scivocab-uncased\"\n",
    "model = AutoModel.from_pretrained(name)\n",
    "tokenizer = AutoTokenizer.from_pretrained(name)\n",
    "\n",
    "# add the setting (note that you can modify tokenizer.model_max_length on the fly, \n",
    "# but frustratingly this change isn't saved as part of the saved config)\n",
    "tokenizer.init_kwargs[\"model_max_length\"] = 512\n",
    "\n",
    "# save\n",
    "tokenizer.save_pretrained(local_path)\n",
    "model.save_pretrained(local_path)"
   ]
  },
  {
   "cell_type": "code",
   "execution_count": 9,
   "metadata": {
    "execution": {
     "iopub.execute_input": "2021-06-13T16:04:49.653620Z",
     "iopub.status.busy": "2021-06-13T16:04:49.652930Z",
     "iopub.status.idle": "2021-06-13T16:04:50.880282Z",
     "shell.execute_reply": "2021-06-13T16:04:50.879656Z",
     "shell.execute_reply.started": "2021-06-13T07:55:35.829126Z"
    },
    "papermill": {
     "duration": 1.277928,
     "end_time": "2021-06-13T16:04:50.880455",
     "exception": false,
     "start_time": "2021-06-13T16:04:49.602527",
     "status": "completed"
    },
    "tags": []
   },
   "outputs": [],
   "source": [
    "train = pd.read_csv(\"../input/colerigde-processed-text/train.csv\",index_col=0)\n",
    "validation = pd.read_csv(\"../input/colerigde-processed-text/validation.csv\",index_col=0)\n",
    "\n",
    "train = train.reset_index(drop=True)\n",
    "validation = validation.reset_index(drop=True)"
   ]
  },
  {
   "cell_type": "code",
   "execution_count": 10,
   "metadata": {
    "execution": {
     "iopub.execute_input": "2021-06-13T16:04:50.993755Z",
     "iopub.status.busy": "2021-06-13T16:04:50.988178Z",
     "iopub.status.idle": "2021-06-13T16:04:51.562537Z",
     "shell.execute_reply": "2021-06-13T16:04:51.561937Z",
     "shell.execute_reply.started": "2021-06-13T07:55:36.511618Z"
    },
    "papermill": {
     "duration": 0.643537,
     "end_time": "2021-06-13T16:04:51.562690",
     "exception": false,
     "start_time": "2021-06-13T16:04:50.919153",
     "status": "completed"
    },
    "tags": []
   },
   "outputs": [],
   "source": [
    "train['dataset_index'] = train['dataset_index'].apply(lambda x: literal_eval(x))\n",
    "validation['dataset_index'] = validation['dataset_index'].apply(lambda x: literal_eval(x))"
   ]
  },
  {
   "cell_type": "code",
   "execution_count": 11,
   "metadata": {
    "execution": {
     "iopub.execute_input": "2021-06-13T16:04:51.653384Z",
     "iopub.status.busy": "2021-06-13T16:04:51.652594Z",
     "iopub.status.idle": "2021-06-13T16:04:51.668601Z",
     "shell.execute_reply": "2021-06-13T16:04:51.669166Z",
     "shell.execute_reply.started": "2021-06-13T07:55:37.070341Z"
    },
    "papermill": {
     "duration": 0.067344,
     "end_time": "2021-06-13T16:04:51.669334",
     "exception": false,
     "start_time": "2021-06-13T16:04:51.601990",
     "status": "completed"
    },
    "tags": []
   },
   "outputs": [
    {
     "name": "stdout",
     "output_type": "stream",
     "text": [
      "(25686, 5)\n"
     ]
    },
    {
     "data": {
      "text/html": [
       "<div>\n",
       "<style scoped>\n",
       "    .dataframe tbody tr th:only-of-type {\n",
       "        vertical-align: middle;\n",
       "    }\n",
       "\n",
       "    .dataframe tbody tr th {\n",
       "        vertical-align: top;\n",
       "    }\n",
       "\n",
       "    .dataframe thead th {\n",
       "        text-align: right;\n",
       "    }\n",
       "</style>\n",
       "<table border=\"1\" class=\"dataframe\">\n",
       "  <thead>\n",
       "    <tr style=\"text-align: right;\">\n",
       "      <th></th>\n",
       "      <th>Section</th>\n",
       "      <th>Text</th>\n",
       "      <th>Label</th>\n",
       "      <th>Id</th>\n",
       "      <th>dataset_index</th>\n",
       "    </tr>\n",
       "  </thead>\n",
       "  <tbody>\n",
       "    <tr>\n",
       "      <th>0</th>\n",
       "      <td>Results of the Cochrane review</td>\n",
       "      <td>The highly heterogeneous [\\n18 F]FDG PET sensi...</td>\n",
       "      <td>ADNI</td>\n",
       "      <td>75c5eff6-27c1-4fd3-9d35-68e48799e6cd</td>\n",
       "      <td>[(1986, 1990, DATASET), (2267, 2271, DATASET)]</td>\n",
       "    </tr>\n",
       "    <tr>\n",
       "      <th>1</th>\n",
       "      <td>Cognitive abilities</td>\n",
       "      <td>Prior content knowledge Since students possess...</td>\n",
       "      <td>Trends in International Mathematics and Scienc...</td>\n",
       "      <td>d24cb86b-bfe6-4f58-8e5d-0187f8e5681d</td>\n",
       "      <td>[(1270, 1323, DATASET)]</td>\n",
       "    </tr>\n",
       "    <tr>\n",
       "      <th>2</th>\n",
       "      <td>Overview</td>\n",
       "      <td>The Baccalaureate and Beyond Longitudinal Stud...</td>\n",
       "      <td>Baccalaureate and Beyond Longitudinal Study</td>\n",
       "      <td>c7f1f747-bc8e-4de6-a993-9ef9f54bdbf7</td>\n",
       "      <td>[(4, 47, DATASET), (1013, 1056, DATASET), (116...</td>\n",
       "    </tr>\n",
       "    <tr>\n",
       "      <th>3</th>\n",
       "      <td>Fourth-Grade Stratification</td>\n",
       "      <td>The following tables show the total number and...</td>\n",
       "      <td>Trends in International Mathematics and Scienc...</td>\n",
       "      <td>85de886e-eb37-4402-b219-386686cfc493</td>\n",
       "      <td>[(759, 812, DATASET)]</td>\n",
       "    </tr>\n",
       "    <tr>\n",
       "      <th>4</th>\n",
       "      <td>Introduction</td>\n",
       "      <td>ey have used the OASIS dataset for experiment,...</td>\n",
       "      <td>ADNI</td>\n",
       "      <td>878d4d2e-020a-48f8-854f-81894819c770</td>\n",
       "      <td>[(1468, 1472, DATASET), (1775, 1779, DATASET)]</td>\n",
       "    </tr>\n",
       "  </tbody>\n",
       "</table>\n",
       "</div>"
      ],
      "text/plain": [
       "                          Section  \\\n",
       "0  Results of the Cochrane review   \n",
       "1             Cognitive abilities   \n",
       "2                        Overview   \n",
       "3     Fourth-Grade Stratification   \n",
       "4                    Introduction   \n",
       "\n",
       "                                                Text  \\\n",
       "0  The highly heterogeneous [\\n18 F]FDG PET sensi...   \n",
       "1  Prior content knowledge Since students possess...   \n",
       "2  The Baccalaureate and Beyond Longitudinal Stud...   \n",
       "3  The following tables show the total number and...   \n",
       "4  ey have used the OASIS dataset for experiment,...   \n",
       "\n",
       "                                               Label  \\\n",
       "0                                               ADNI   \n",
       "1  Trends in International Mathematics and Scienc...   \n",
       "2        Baccalaureate and Beyond Longitudinal Study   \n",
       "3  Trends in International Mathematics and Scienc...   \n",
       "4                                               ADNI   \n",
       "\n",
       "                                     Id  \\\n",
       "0  75c5eff6-27c1-4fd3-9d35-68e48799e6cd   \n",
       "1  d24cb86b-bfe6-4f58-8e5d-0187f8e5681d   \n",
       "2  c7f1f747-bc8e-4de6-a993-9ef9f54bdbf7   \n",
       "3  85de886e-eb37-4402-b219-386686cfc493   \n",
       "4  878d4d2e-020a-48f8-854f-81894819c770   \n",
       "\n",
       "                                       dataset_index  \n",
       "0     [(1986, 1990, DATASET), (2267, 2271, DATASET)]  \n",
       "1                            [(1270, 1323, DATASET)]  \n",
       "2  [(4, 47, DATASET), (1013, 1056, DATASET), (116...  \n",
       "3                              [(759, 812, DATASET)]  \n",
       "4     [(1468, 1472, DATASET), (1775, 1779, DATASET)]  "
      ]
     },
     "execution_count": 11,
     "metadata": {},
     "output_type": "execute_result"
    }
   ],
   "source": [
    "print(train.shape)\n",
    "train.head()"
   ]
  },
  {
   "cell_type": "code",
   "execution_count": 12,
   "metadata": {
    "execution": {
     "iopub.execute_input": "2021-06-13T16:04:51.764930Z",
     "iopub.status.busy": "2021-06-13T16:04:51.764203Z",
     "iopub.status.idle": "2021-06-13T16:04:51.771951Z",
     "shell.execute_reply": "2021-06-13T16:04:51.771388Z",
     "shell.execute_reply.started": "2021-06-13T07:55:37.657083Z"
    },
    "papermill": {
     "duration": 0.062602,
     "end_time": "2021-06-13T16:04:51.772083",
     "exception": false,
     "start_time": "2021-06-13T16:04:51.709481",
     "status": "completed"
    },
    "tags": []
   },
   "outputs": [
    {
     "name": "stdout",
     "output_type": "stream",
     "text": [
      "(2854, 5)\n"
     ]
    },
    {
     "data": {
      "text/html": [
       "<div>\n",
       "<style scoped>\n",
       "    .dataframe tbody tr th:only-of-type {\n",
       "        vertical-align: middle;\n",
       "    }\n",
       "\n",
       "    .dataframe tbody tr th {\n",
       "        vertical-align: top;\n",
       "    }\n",
       "\n",
       "    .dataframe thead th {\n",
       "        text-align: right;\n",
       "    }\n",
       "</style>\n",
       "<table border=\"1\" class=\"dataframe\">\n",
       "  <thead>\n",
       "    <tr style=\"text-align: right;\">\n",
       "      <th></th>\n",
       "      <th>Section</th>\n",
       "      <th>Text</th>\n",
       "      <th>Label</th>\n",
       "      <th>Id</th>\n",
       "      <th>dataset_index</th>\n",
       "    </tr>\n",
       "  </thead>\n",
       "  <tbody>\n",
       "    <tr>\n",
       "      <th>0</th>\n",
       "      <td>Abstract</td>\n",
       "      <td>A rterial stiffness is an age-related trait th...</td>\n",
       "      <td>Baltimore Longitudinal Study of Aging</td>\n",
       "      <td>58147ea8-c5c7-4283-bb27-c01830c3af13</td>\n",
       "      <td>[(1309, 1346, DATASET), (2525, 2563, DATASET)]</td>\n",
       "    </tr>\n",
       "    <tr>\n",
       "      <th>1</th>\n",
       "      <td>Introduction</td>\n",
       "      <td>(2012 Jedynak et al. ( , 2015 proposed a param...</td>\n",
       "      <td>Alzheimer's Disease Neuroimaging Initiative (A...</td>\n",
       "      <td>1c35d627-8b39-41d2-b3e0-77c92483d8a8</td>\n",
       "      <td>[(1925, 1975, DATASET)]</td>\n",
       "    </tr>\n",
       "    <tr>\n",
       "      <th>2</th>\n",
       "      <td>Impact of Intensification Rate on TC Intensity...</td>\n",
       "      <td>[11] How do the changes in intensification rat...</td>\n",
       "      <td>IBTrACS</td>\n",
       "      <td>5716fd22-6c6c-4587-a673-281a33456749</td>\n",
       "      <td>[(334, 341, DATASET)]</td>\n",
       "    </tr>\n",
       "    <tr>\n",
       "      <th>3</th>\n",
       "      <td>Introduction</td>\n",
       "      <td>Sponsored by the National Center for Education...</td>\n",
       "      <td>Early Childhood Longitudinal Study</td>\n",
       "      <td>3be437b7-2576-4b2f-ae22-d158cf97edfe</td>\n",
       "      <td>[(59, 93, DATASET)]</td>\n",
       "    </tr>\n",
       "    <tr>\n",
       "      <th>4</th>\n",
       "      <td>Introduction</td>\n",
       "      <td>(2010) , we developed a novel surface mapping ...</td>\n",
       "      <td>Alzheimer's Disease Neuroimaging Initiative (A...</td>\n",
       "      <td>6b460753-749f-45bc-9996-dd8a950107ce</td>\n",
       "      <td>[(1787, 1837, DATASET)]</td>\n",
       "    </tr>\n",
       "  </tbody>\n",
       "</table>\n",
       "</div>"
      ],
      "text/plain": [
       "                                             Section  \\\n",
       "0                                           Abstract   \n",
       "1                                       Introduction   \n",
       "2  Impact of Intensification Rate on TC Intensity...   \n",
       "3                                       Introduction   \n",
       "4                                       Introduction   \n",
       "\n",
       "                                                Text  \\\n",
       "0  A rterial stiffness is an age-related trait th...   \n",
       "1  (2012 Jedynak et al. ( , 2015 proposed a param...   \n",
       "2  [11] How do the changes in intensification rat...   \n",
       "3  Sponsored by the National Center for Education...   \n",
       "4  (2010) , we developed a novel surface mapping ...   \n",
       "\n",
       "                                               Label  \\\n",
       "0              Baltimore Longitudinal Study of Aging   \n",
       "1  Alzheimer's Disease Neuroimaging Initiative (A...   \n",
       "2                                            IBTrACS   \n",
       "3                 Early Childhood Longitudinal Study   \n",
       "4  Alzheimer's Disease Neuroimaging Initiative (A...   \n",
       "\n",
       "                                     Id  \\\n",
       "0  58147ea8-c5c7-4283-bb27-c01830c3af13   \n",
       "1  1c35d627-8b39-41d2-b3e0-77c92483d8a8   \n",
       "2  5716fd22-6c6c-4587-a673-281a33456749   \n",
       "3  3be437b7-2576-4b2f-ae22-d158cf97edfe   \n",
       "4  6b460753-749f-45bc-9996-dd8a950107ce   \n",
       "\n",
       "                                    dataset_index  \n",
       "0  [(1309, 1346, DATASET), (2525, 2563, DATASET)]  \n",
       "1                         [(1925, 1975, DATASET)]  \n",
       "2                           [(334, 341, DATASET)]  \n",
       "3                             [(59, 93, DATASET)]  \n",
       "4                         [(1787, 1837, DATASET)]  "
      ]
     },
     "execution_count": 12,
     "metadata": {},
     "output_type": "execute_result"
    }
   ],
   "source": [
    "print(validation.shape)\n",
    "validation.head()"
   ]
  },
  {
   "cell_type": "code",
   "execution_count": 13,
   "metadata": {
    "execution": {
     "iopub.execute_input": "2021-06-13T16:04:51.856400Z",
     "iopub.status.busy": "2021-06-13T16:04:51.855358Z",
     "iopub.status.idle": "2021-06-13T16:04:51.863378Z",
     "shell.execute_reply": "2021-06-13T16:04:51.862858Z",
     "shell.execute_reply.started": "2021-06-13T07:55:38.384434Z"
    },
    "papermill": {
     "duration": 0.05138,
     "end_time": "2021-06-13T16:04:51.863505",
     "exception": false,
     "start_time": "2021-06-13T16:04:51.812125",
     "status": "completed"
    },
    "tags": []
   },
   "outputs": [
    {
     "data": {
      "text/plain": [
       "[(1986, 1990, 'DATASET'), (2267, 2271, 'DATASET')]"
      ]
     },
     "execution_count": 13,
     "metadata": {},
     "output_type": "execute_result"
    }
   ],
   "source": [
    "train[\"dataset_index\"][0]"
   ]
  },
  {
   "cell_type": "code",
   "execution_count": 14,
   "metadata": {
    "execution": {
     "iopub.execute_input": "2021-06-13T16:04:51.966267Z",
     "iopub.status.busy": "2021-06-13T16:04:51.961037Z",
     "iopub.status.idle": "2021-06-13T16:04:55.492595Z",
     "shell.execute_reply": "2021-06-13T16:04:55.493176Z",
     "shell.execute_reply.started": "2021-06-13T07:55:38.951823Z"
    },
    "papermill": {
     "duration": 3.589305,
     "end_time": "2021-06-13T16:04:55.493408",
     "exception": false,
     "start_time": "2021-06-13T16:04:51.904103",
     "status": "completed"
    },
    "tags": []
   },
   "outputs": [
    {
     "name": "stdout",
     "output_type": "stream",
     "text": [
      "(\"Thickness and vertical height of oyster aggregations are subdivided, and oysters are classified as solid or scattered along the substrate: = Light: 1 or 2 layers of oysters in a band less than 15 cm (6 in) wide = Medium: more than 1 layer of oysters in a band 15-30 cm (6-12 in) wide = Heavy: more than 1 layer of oysters in a band 30-46 cm (12-18 in) wide = Very heavy: more than 1 layer of oysters in a band >46 cm (18 in) wide < Solid: solid stretch of oysters along the seawall or riprap < Scattered: sporadic stretch of oysters along the seawall or riprap The South Carolina Department of Natural Resources (SCDNR) and the NOAA Coastal Services Center mapped the coastline of South Carolina using multispectral imagery (SCDNR 2008). The effort included the development of classification system for oyster reefs, largely using different spectral signatures as a result of vertical or horizontal orientation of the oysters. The project report (SCDNR 2008) describes each category with accompanying photographs and provides protocols for classifying aerial imagery. Classes and oyster strata include the following: = Class 1: background (no oysters) = Class 2: vertical and horizontal oysters mixed, little or no mud or washed shell = Stratum A: dense oyster clusters with little exposed dead shell or mud = Stratum E: oysters tightly clustered on rocks, may have mud or Spartina alterniflora (smooth cordgrass) between clusters = Stratum F: vertical clusters with spatial separation. Substrate between clusters consists of shells with few horizontal live oysters and little mud = Stratum F1: small, vertical clusters on a substrate of single, horizontal oysters. Very little exposed mud = Class 3: vertical oysters on a substrate of mud with few to no horizontal oysters = Stratum C: vertical clusters with up to 1 m spatial separation. Substrate between clusters is usually mud with little surrounding shell = Stratum G: close vertical clustered oysters separated by mud with little to no shells or oysters = Class 4: horizontal oysters mixed with washed shells = Stratum B: little to no vertical oysters and few clusters, oysters frequently single. Found on heavily shelled substrate in the lower intertidal zone = Stratum D: mostly horizontal dead oyster shell with little live crop, generally found in lower intertidal zone = Class 5: washed shell The Classification of Wetlands and Deepwater Habitats of the United States, developed by  for the U.S. Fish and Wildlife Service, was updated by the Federal Geographic Data Committee in 2013 (FGDC 2013). Classification codes directly relevant to oyster reefs include E1RF2L, E2RF2M, and E2RF2N. Oysters that are mixed with unconsolidated substrate may be classified as E2RF2/US2N, E2RF2/USM. The hierarchical structure of these relevant classifications is as follows: The National Oceanic and Atmospheric Administration's (NOAA) Coastal Change Analysis Program (C-CAP) uses its own classification system. The original classification system was described in Klemas et al. (1993), and an updated summary is available in Dobson et al. (1995), which also explains how the land cover categories compare to Cowardin et al. 's (1979) classes. Relevant classifications include: = Class: marine/estuarine reef: ridge or moundlike structure made from sedentary invertebrates = Subclass: mollusk reef The Coastal and Marine Ecological Classification Standard (CMECS) was created by the Federal Geographic Data Committee and the Marine and Coastal Spatial Data Subcommittee (FGDC 2012). CMECS is a hierarchical classification scheme designed to use common terminology to classify marine and estuarine habitats. CMECS includes classifications based on two settings (biogeographic and aquatic) and four components (wa-ter column, geoform, substrate, and biotic). The relevant hierarchical classifications for oyster reefs in the geoform, substrate, and biotic components are listed below. = Geoform origin: biogenic: physical features created by organisms, most commonly reefs made by corals, mollusks, or worm tubes = Geoform: mollusk reef: shell reefs intermixed with channels and unvegetated flats < Geoform type: fringing mollusk reef: narrow, linear reefs; generally intertidal and lower than the marsh along tidal creeks < Geoform type: linear mollusk reef: narrow, ridgelike reefs; generally intertidal and in areas with small tidal range < Geoform type: patch mollusk reef: mounded reefs with vertical relief above surrounding substrate; usual intertidal, occasionally subtidal < Geoform type: washed shell mound: accumulations of loose, dead shell in the high intertidal zone = Substrate origin: biogenic substrate: majority of substrate is of nonliving biogenic origin rather than geologic or anthropogenic origin = Substrate class: shell substrate: substrate made of shells or shell fragments; may or may not include live reef-building fauna < Substrate subclass: shell reef substrate: cemented, conglomerated, or self-adhered shell reefs with median particle size >4 m = Substrate group: oyster reef substrate < Substrate subclass: shell rubble: shells with a median particle size of 0.064-4 m; may be loose, cemented, or conglomerated = Substrate group: oyster rubble < Substrate subclass: shell hash: loose shell, broken or whole, with median particle size of 2-64 mm = Substrate group: oyster hash = Biotic setting: benthic/attached biota: biota live on or in the substrate = Biotic class: reef biota: reef-building fauna construct biogenic substrates < Biotic subclass: mollusk reef biota: living and dead mollusks or gastropods aggregate and attach in sufficient numbers to make a substrate = Biotic group: oyster reef: mounds or ridges formed by live oysters cementing to the substrate of live and dead conspecifics = Biotic communities: Crassostrea reef, Ostrea reef = Biotic class: faunal bed: seabed dominated by benthic fauna that have not created a reef < Biotic subclass: attached fauna: dominated by fauna that maintain contact with a hard substrate = Biotic group: attached oysters: oysters attach to a hard substrate other than conspecifics = Biotic communities: attached Crassostrea, attached Ostrea < Biotic subclass: soft-sediment fauna: sand or mud with dominant presence of infauna, epifauna, or mobile fauna that create burrows = Biotic group: oyster bed: sand or mud with low densities of oysters that are not attached to a hard substrate. = Biotic communities: Crassostrea bed, Ostrea bed\", {'entities': [(2884, 2915, 'DATASET')]})\n",
      "(\"The current article is an attempt at a didactic introduction of multivariate techniques for the novice. A conceptual introduction is followed with a very simple application to a diagnostic data set from the Alzheimer s Disease Neuroimaging Initiative (ADNI), clearly demonstrating the superior performance of the multivariate approach. The video component of this article can be found at http://www.jove.com/video/1988/ Protocol 1. To give a conceptual overview of multivariate analysis we can picture a very simple situation: a hypothetical data set for 50 human participants, where only three regions, denoted as voxels (=3-dimensional pixels in Figure 1 ) in the brain were measured. (Insert Figure 1 here, read caption as voice over.) 2. The general aim of multivariate analysis is to identify the major sources of variance in the data, and then describing the major effects of interest in the data in terms of these sources of variance. Figure 2 shows a simplistic example. (Insert Figure 2 here, read caption as voice over.) 3. We now apply both univariate and multivariate analysis to a clinical data set. We downloaded FDG-PET resting scans for 95 early Alzheimer's patients and 102 age-matched controls from the website of the Alzheimer's Disease Neuroimaging Initiative (http:// www.loni.ucla.edu/ADNI/). We randomly picked 20 scans of both patients and controls and designated them as our derivation sample. The remaining 75 and 82 scans, respectively, constitute our replication sample. Univariate and multivariate Alzheimer's disease (AD) markers will now be derived in the derivation sample, and their diagnostic efficacy tested in the replication sample. 4. For the univariate marker, we contrast the 20 AD scans with the 20 controls scans in the derivation sample and pick the brain location that shows the largest decrease in PET signal in the AD patients as shown by a T-test. To test the diagnostic efficacy of this region, we check the data in the replication sample at this location and plot its PET signal as a function of disease status. 5. For the multivariate marker, we first perform a PCA on the combined 40 scans in the derivation sample, and then construct a covariance pattern from the first 5 Principal Components whose subject scaling factor shows a maximal mean difference between AD patients and healthy controls. (Details can be found in these representative papers 2\\n.) The diagnostic covariance pattern obtained form the derivation sample is then prospectively applied to the replication sample.\", {'entities': [(252, 258, 'DATASET'), (1289, 1314, 'DATASET')]})\n"
     ]
    }
   ],
   "source": [
    "TRAIN_DATA = []\n",
    "VALIDATION_DATA = []\n",
    "\n",
    "for index, row in train.iterrows():\n",
    "    TRAIN_DATA.append((row[\"Text\"],{\"entities\":row[\"dataset_index\"]}))\n",
    "    \n",
    "for index, row in validation.iterrows():\n",
    "    VALIDATION_DATA.append((row[\"Text\"],{\"entities\":row[\"dataset_index\"]}))\n",
    "    \n",
    "print(TRAIN_DATA[10])\n",
    "print(VALIDATION_DATA[10])"
   ]
  },
  {
   "cell_type": "code",
   "execution_count": 15,
   "metadata": {
    "execution": {
     "iopub.execute_input": "2021-06-13T16:04:55.582938Z",
     "iopub.status.busy": "2021-06-13T16:04:55.581721Z",
     "iopub.status.idle": "2021-06-13T16:06:31.965804Z",
     "shell.execute_reply": "2021-06-13T16:06:31.965201Z",
     "shell.execute_reply.started": "2021-06-13T07:55:42.343182Z"
    },
    "papermill": {
     "duration": 96.431619,
     "end_time": "2021-06-13T16:06:31.966023",
     "exception": false,
     "start_time": "2021-06-13T16:04:55.534404",
     "status": "completed"
    },
    "tags": []
   },
   "outputs": [
    {
     "name": "stderr",
     "output_type": "stream",
     "text": [
      "100%|██████████| 25686/25686 [01:20<00:00, 320.01it/s]\n"
     ]
    },
    {
     "name": "stdout",
     "output_type": "stream",
     "text": [
      "Skipped 14 entities\n"
     ]
    }
   ],
   "source": [
    "# Convert SpaCy v2 to SpaCy v3 object\n",
    "\n",
    "db = DocBin() # create a DocBin object\n",
    "i = 1\n",
    "\n",
    "for text, annot in tqdm(TRAIN_DATA): # data in previous format\n",
    "    doc = nlp.make_doc(text) # create doc object from text\n",
    "    ents = []\n",
    "    for start, end, label in annot[\"entities\"]: # add character indexes\n",
    "        span = doc.char_span(start, end, label=label, alignment_mode=\"contract\")\n",
    "        if span is None:\n",
    "            i += 1\n",
    "        else:\n",
    "            ents.append(span)\n",
    "    doc.ents = ents # label the text with the ents\n",
    "    db.add(doc)\n",
    "\n",
    "print(\"Skipped \"+ str(i) +\" entities\")\n",
    "    \n",
    "db.to_disk(\"train.spacy\") # save the docbin object"
   ]
  },
  {
   "cell_type": "code",
   "execution_count": 16,
   "metadata": {
    "execution": {
     "iopub.execute_input": "2021-06-13T16:06:32.631826Z",
     "iopub.status.busy": "2021-06-13T16:06:32.630745Z",
     "iopub.status.idle": "2021-06-13T16:06:42.757479Z",
     "shell.execute_reply": "2021-06-13T16:06:42.758183Z",
     "shell.execute_reply.started": "2021-06-13T07:56:36.450239Z"
    },
    "papermill": {
     "duration": 10.497623,
     "end_time": "2021-06-13T16:06:42.758369",
     "exception": false,
     "start_time": "2021-06-13T16:06:32.260746",
     "status": "completed"
    },
    "tags": []
   },
   "outputs": [
    {
     "name": "stderr",
     "output_type": "stream",
     "text": [
      "100%|██████████| 2854/2854 [00:08<00:00, 340.43it/s]\n"
     ]
    },
    {
     "name": "stdout",
     "output_type": "stream",
     "text": [
      "Skipped 2 entities\n"
     ]
    }
   ],
   "source": [
    "db = DocBin() # create a DocBin object\n",
    "i = 1\n",
    "\n",
    "for text, annot in tqdm(VALIDATION_DATA): # data in previous format\n",
    "    doc = nlp.make_doc(text) # create doc object from text\n",
    "    ents = []\n",
    "    for start, end, label in annot[\"entities\"]: # add character indexes\n",
    "        span = doc.char_span(start, end, label=label, alignment_mode=\"contract\")\n",
    "        if span is None:\n",
    "            i += 1\n",
    "        else:\n",
    "            ents.append(span)\n",
    "    doc.ents = ents # label the text with the ents\n",
    "    db.add(doc)\n",
    "\n",
    "print(\"Skipped \"+ str(i) +\" entities\")\n",
    "    \n",
    "db.to_disk(\"validation.spacy\") # save the docbin object"
   ]
  },
  {
   "cell_type": "code",
   "execution_count": 17,
   "metadata": {
    "execution": {
     "iopub.execute_input": "2021-06-13T16:06:43.455703Z",
     "iopub.status.busy": "2021-06-13T16:06:43.407089Z",
     "iopub.status.idle": "2021-06-13T16:06:57.202124Z",
     "shell.execute_reply": "2021-06-13T16:06:57.201537Z",
     "shell.execute_reply.started": "2021-06-13T07:56:39.139957Z"
    },
    "papermill": {
     "duration": 14.121034,
     "end_time": "2021-06-13T16:06:57.202280",
     "exception": false,
     "start_time": "2021-06-13T16:06:43.081246",
     "status": "completed"
    },
    "tags": []
   },
   "outputs": [
    {
     "name": "stdout",
     "output_type": "stream",
     "text": [
      "2021-06-13 16:06:48.216758: I tensorflow/stream_executor/platform/default/dso_loader.cc:49] Successfully opened dynamic library libcudart.so.11.0\n",
      "\u001b[38;5;4mℹ Generated config template specific for your use case\u001b[0m\n",
      "- Language: en\n",
      "- Pipeline: ner\n",
      "- Optimize for: accuracy\n",
      "- Hardware: GPU\n",
      "- Transformer: roberta-base\n",
      "\u001b[38;5;2m✔ Auto-filled config with all values\u001b[0m\n",
      "\u001b[38;5;2m✔ Saved config\u001b[0m\n",
      "base_config.cfg\n",
      "You can now add your data and train your pipeline:\n",
      "python -m spacy train base_config.cfg --paths.train ./train.spacy --paths.dev ./dev.spacy\n"
     ]
    }
   ],
   "source": [
    "!python -m spacy init config \"base_config.cfg\" --lang=\"en\" --pipeline=[\"transformer\",\"ner\"] --optimize=\"accuracy\" --gpu --force"
   ]
  },
  {
   "cell_type": "code",
   "execution_count": 18,
   "metadata": {
    "execution": {
     "iopub.execute_input": "2021-06-13T16:06:57.871722Z",
     "iopub.status.busy": "2021-06-13T16:06:57.870861Z",
     "iopub.status.idle": "2021-06-13T16:06:57.874649Z",
     "shell.execute_reply": "2021-06-13T16:06:57.874127Z",
     "shell.execute_reply.started": "2021-06-13T07:56:47.191861Z"
    },
    "papermill": {
     "duration": 0.343241,
     "end_time": "2021-06-13T16:06:57.874777",
     "exception": false,
     "start_time": "2021-06-13T16:06:57.531536",
     "status": "completed"
    },
    "tags": []
   },
   "outputs": [],
   "source": [
    "import configparser\n",
    "\n",
    "# Read config file\n",
    "edit = configparser.ConfigParser()\n",
    "edit.read(\"./base_config.cfg\")\n",
    "\n",
    "arch = edit['components.transformer.model']\n",
    "arch[\"name\"] = '\"'+local_path+'\"'\n",
    "\n",
    "edit.remove_option('components.ner.model', 'no')\n",
    "\n",
    "edit.remove_option('training.optimizer', 'l2')\n",
    "edit.remove_option('training.optimizer', 'l2_is_weight_decay')\n",
    "\n",
    "# Write changes back to file\n",
    "with open('./base_config.cfg', 'w') as configfile:\n",
    "    edit.write(configfile)"
   ]
  },
  {
   "cell_type": "code",
   "execution_count": 19,
   "metadata": {
    "execution": {
     "iopub.execute_input": "2021-06-13T16:06:58.573927Z",
     "iopub.status.busy": "2021-06-13T16:06:58.573196Z",
     "iopub.status.idle": "2021-06-13T16:07:08.094168Z",
     "shell.execute_reply": "2021-06-13T16:07:08.093572Z",
     "shell.execute_reply.started": "2021-06-13T07:56:47.205346Z"
    },
    "papermill": {
     "duration": 9.895909,
     "end_time": "2021-06-13T16:07:08.094326",
     "exception": false,
     "start_time": "2021-06-13T16:06:58.198417",
     "status": "completed"
    },
    "tags": []
   },
   "outputs": [
    {
     "name": "stdout",
     "output_type": "stream",
     "text": [
      "2021-06-13 16:07:02.611033: I tensorflow/stream_executor/platform/default/dso_loader.cc:49] Successfully opened dynamic library libcudart.so.11.0\n",
      "\u001b[38;5;2m✔ Auto-filled config with all values\u001b[0m\n",
      "\u001b[38;5;2m✔ Saved config\u001b[0m\n",
      "config.cfg\n",
      "You can now add your data and train your pipeline:\n",
      "python -m spacy train config.cfg --paths.train ./train.spacy --paths.dev ./dev.spacy\n"
     ]
    }
   ],
   "source": [
    "!python -m spacy init fill-config \"base_config.cfg\" \"config.cfg\""
   ]
  },
  {
   "cell_type": "code",
   "execution_count": 20,
   "metadata": {
    "execution": {
     "iopub.execute_input": "2021-06-13T16:07:08.786724Z",
     "iopub.status.busy": "2021-06-13T16:07:08.785652Z",
     "iopub.status.idle": "2021-06-13T19:11:10.150792Z",
     "shell.execute_reply": "2021-06-13T19:11:10.147475Z",
     "shell.execute_reply.started": "2021-06-13T07:06:01.893256Z"
    },
    "papermill": {
     "duration": 11041.733033,
     "end_time": "2021-06-13T19:11:10.150975",
     "exception": false,
     "start_time": "2021-06-13T16:07:08.417942",
     "status": "completed"
    },
    "tags": []
   },
   "outputs": [
    {
     "name": "stdout",
     "output_type": "stream",
     "text": [
      "2021-06-13 16:07:12.770703: I tensorflow/stream_executor/platform/default/dso_loader.cc:49] Successfully opened dynamic library libcudart.so.11.0\n",
      "\u001b[38;5;2m✔ Created output directory: output\u001b[0m\n",
      "\u001b[38;5;4mℹ Using GPU: 0\u001b[0m\n",
      "\u001b[1m\n",
      "=========================== Initializing pipeline ===========================\u001b[0m\n",
      "[2021-06-13 16:07:17,477] [INFO] Set up nlp object from config\n",
      "[2021-06-13 16:07:17,492] [INFO] Pipeline: ['transformer', 'ner']\n",
      "[2021-06-13 16:07:17,498] [INFO] Created vocabulary\n",
      "[2021-06-13 16:07:17,498] [INFO] Finished initializing nlp object\n",
      "[2021-06-13 16:09:59,533] [INFO] Initialized pipeline components: ['transformer', 'ner']\n",
      "\u001b[38;5;2m✔ Initialized pipeline\u001b[0m\n",
      "\u001b[1m\n",
      "============================= Training pipeline =============================\u001b[0m\n",
      "\u001b[38;5;4mℹ Pipeline: ['transformer', 'ner']\u001b[0m\n",
      "\u001b[38;5;4mℹ Initial learn rate: 0.0\u001b[0m\n",
      "E    #       LOSS TRANS...  LOSS NER  ENTS_F  ENTS_P  ENTS_R  SCORE \n",
      "---  ------  -------------  --------  ------  ------  ------  ------\n",
      "  0       0        4897.79   1169.12    0.05    0.03    1.75    0.00\n",
      "  0     200       96011.46  25874.46   44.37   40.47   49.10    0.44\n",
      "  0     400        1248.26   2356.97   59.52   56.44   62.95    0.60\n",
      "  0     600         880.55   1822.94   63.09   54.08   75.70    0.63\n",
      "  0     800         799.48   1603.65   68.15   60.32   78.32    0.68\n",
      "  0    1000         687.83   1539.69   66.04   58.13   76.44    0.66\n",
      "  0    1200         675.51   1478.62   69.30   63.49   76.28    0.69\n",
      "Epoch 1:   0%|▏                                 | 1/200 [00:01<06:08,  1.85s/it]Token indices sequence length is longer than the specified maximum sequence length for this model (655 > 512). Running this sequence through the model will result in indexing errors\n",
      "  0    1400         615.68   1429.20   68.10   64.01   72.73    0.68\n",
      "  0    1600         640.43   1691.28   65.65   60.46   71.81    0.66\n",
      "  0    1800         613.04   1440.51   68.71   66.02   71.63    0.69\n",
      "  0    2000         776.95   1819.35   64.57   64.29   64.86    0.65\n",
      "  0    2200         575.63   1423.76   69.47   62.58   78.05    0.69\n",
      "  0    2400         569.98   1451.32   68.64   66.01   71.49    0.69\n",
      "  0    2600         517.78   1350.43   75.41   78.84   72.27    0.75\n",
      "  0    2800         504.98   1260.27   74.21   73.42   75.01    0.74\n",
      "  0    3000         531.01   1427.72   77.47   74.39   80.81    0.77\n",
      "  1    3200         439.85   1213.77   73.69   76.16   71.38    0.74\n",
      "  1    3400         514.95   1363.06   78.47   79.87   77.13    0.78\n",
      "  1    3600         458.03   1183.83   73.32   76.37   70.50    0.73\n",
      "  1    3800         417.88   1109.04   76.15   80.63   72.14    0.76\n",
      "  1    4000         518.21   1098.56   71.64   71.88   71.40    0.72\n",
      "  1    4200         483.91   1334.42   75.72   77.61   73.93    0.76\n",
      "  1    4400         473.87   1165.77   78.40   76.89   79.98    0.78\n",
      "  1    4600         460.13   1242.83   75.87   80.75   71.54    0.76\n",
      "  1    4800         491.25   1094.11   78.25   78.03   78.46    0.78\n",
      "  1    5000         397.63    958.77   77.77   82.21   73.79    0.78\n",
      "Epoch 2:   0%|                                          | 0/200 [00:00<?, ?it/s]\u001b[38;5;2m✔ Saved pipeline to output directory\u001b[0m\n",
      "output/model-last\n",
      "                                                                                \r"
     ]
    }
   ],
   "source": [
    "!python -m spacy train \"config.cfg\" \\\n",
    "    --output \"./output\" \\\n",
    "    --paths.train \"train.spacy\" \\\n",
    "    --paths.dev \"validation.spacy\" \\\n",
    "    --gpu-id 0 \\\n",
    "    --nlp.batch_size 64 \\\n",
    "    --training.dropout 0.2 \\\n",
    "    --training.patience 0 \\\n",
    "    --training.max_steps 5000 \\\n",
    "    --training.logger.progress_bar True"
   ]
  },
  {
   "cell_type": "code",
   "execution_count": 21,
   "metadata": {
    "execution": {
     "iopub.execute_input": "2021-06-13T19:11:14.166358Z",
     "iopub.status.busy": "2021-06-13T19:11:14.165396Z",
     "iopub.status.idle": "2021-06-13T19:11:17.092987Z",
     "shell.execute_reply": "2021-06-13T19:11:17.092294Z",
     "shell.execute_reply.started": "2021-06-13T07:47:41.590314Z"
    },
    "papermill": {
     "duration": 4.939179,
     "end_time": "2021-06-13T19:11:17.093127",
     "exception": false,
     "start_time": "2021-06-13T19:11:12.153948",
     "status": "completed"
    },
    "tags": []
   },
   "outputs": [],
   "source": [
    "# Load the best model\n",
    "spacy.require_gpu()\n",
    "nlp_best = spacy.load(R\"./output/model-best\")"
   ]
  },
  {
   "cell_type": "code",
   "execution_count": 22,
   "metadata": {
    "execution": {
     "iopub.execute_input": "2021-06-13T19:11:21.133612Z",
     "iopub.status.busy": "2021-06-13T19:11:21.132536Z",
     "iopub.status.idle": "2021-06-13T19:11:22.266175Z",
     "shell.execute_reply": "2021-06-13T19:11:22.265248Z",
     "shell.execute_reply.started": "2021-06-13T07:47:44.942018Z"
    },
    "papermill": {
     "duration": 3.155781,
     "end_time": "2021-06-13T19:11:22.266349",
     "exception": false,
     "start_time": "2021-06-13T19:11:19.110568",
     "status": "completed"
    },
    "tags": []
   },
   "outputs": [
    {
     "name": "stdout",
     "output_type": "stream",
     "text": [
      "Entities [('genome sequences of SARS-CoV-2', 'DATASET')]\n"
     ]
    }
   ],
   "source": [
    "# Testing the model\n",
    "doc = nlp_best('The supply of PCR reagents, trained lab personnel and the availability of laboratories with sufficient biocontainment levels are major challenges of SARS-CoV-2 detection in developing countries, such as Indonesia (Younes et al., 2020) . Therefore, it is not surprising that the tested people per week is still lower than the World Health Organization (WHO) standard (World Health Organization, 2020b) . Recently, SARS-CoV-2 with the D614G mutation became the most frequently detected globally, including South East Asia region (Korber et al., 2020; Nguyen et al., 2020) . Interestingly, SARS-CoV-2 with the G614 variant had significantly higher infectious titers than the original D614 virus, and COVID-19 patients with the G614 variant had a higher viral load than patients without the mutation (Korber et al., 2020) . A recent study showed that the SARS-CoV-2 with the G614 variant revealed increased infectivity, competitive fitness, and transmission than the wild-type D614 virus in human airway epithelial cells and hamster (Hou et al., 2020) . However, this mutation was not associated with the severity of COVID-19 (Korber et al., 2020; Nguyen et al., 2020) . Here, we aimed:\\n(1) to report full-length genome sequences of SARS-CoV-2 collected from four COVID-19 patients in the Special Region of Yogyakarta and Central Java provinces, Indonesia;\\n(2) to compare the clade distribution of full-length genome sequences from Indonesia (n = 60) from March to September 2020; and (3) to perform phylogenetic analysis of SARS-CoV-2 complete genomes from different countries, including Indonesia.') # input sample text\n",
    "print(\"Entities\", [(ent.text, ent.label_) for ent in doc.ents])"
   ]
  },
  {
   "cell_type": "code",
   "execution_count": 23,
   "metadata": {
    "execution": {
     "iopub.execute_input": "2021-06-13T19:11:27.008307Z",
     "iopub.status.busy": "2021-06-13T19:11:27.005562Z",
     "iopub.status.idle": "2021-06-13T19:11:27.015198Z",
     "shell.execute_reply": "2021-06-13T19:11:27.016791Z",
     "shell.execute_reply.started": "2021-06-13T07:47:46.969461Z"
    },
    "papermill": {
     "duration": 2.219884,
     "end_time": "2021-06-13T19:11:27.017132",
     "exception": false,
     "start_time": "2021-06-13T19:11:24.797248",
     "status": "completed"
    },
    "tags": []
   },
   "outputs": [
    {
     "data": {
      "text/html": [
       "<span class=\"tex2jax_ignore\"><div class=\"entities\" style=\"line-height: 2.5; direction: ltr\">The supply of PCR reagents, trained lab personnel and the availability of laboratories with sufficient biocontainment levels are major challenges of SARS-CoV-2 detection in developing countries, such as Indonesia (Younes et al., 2020) . Therefore, it is not surprising that the tested people per week is still lower than the World Health Organization (WHO) standard (World Health Organization, 2020b) . Recently, SARS-CoV-2 with the D614G mutation became the most frequently detected globally, including South East Asia region (Korber et al., 2020; Nguyen et al., 2020) . Interestingly, SARS-CoV-2 with the G614 variant had significantly higher infectious titers than the original D614 virus, and COVID-19 patients with the G614 variant had a higher viral load than patients without the mutation (Korber et al., 2020) . A recent study showed that the SARS-CoV-2 with the G614 variant revealed increased infectivity, competitive fitness, and transmission than the wild-type D614 virus in human airway epithelial cells and hamster (Hou et al., 2020) . However, this mutation was not associated with the severity of COVID-19 (Korber et al., 2020; Nguyen et al., 2020) . Here, we aimed:</br>(1) to report full-length \n",
       "<mark class=\"entity\" style=\"background: #ddd; padding: 0.45em 0.6em; margin: 0 0.25em; line-height: 1; border-radius: 0.35em;\">\n",
       "    genome sequences of SARS-CoV-2\n",
       "    <span style=\"font-size: 0.8em; font-weight: bold; line-height: 1; border-radius: 0.35em; vertical-align: middle; margin-left: 0.5rem\">DATASET</span>\n",
       "</mark>\n",
       " collected from four COVID-19 patients in the Special Region of Yogyakarta and Central Java provinces, Indonesia;</br>(2) to compare the clade distribution of full-length genome sequences from Indonesia (n = 60) from March to September 2020; and (3) to perform phylogenetic analysis of SARS-CoV-2 complete genomes from different countries, including Indonesia.</div></span>"
      ],
      "text/plain": [
       "<IPython.core.display.HTML object>"
      ]
     },
     "metadata": {},
     "output_type": "display_data"
    }
   ],
   "source": [
    "spacy.displacy.render(doc, style=\"ent\", jupyter=True) # display in Jupyter"
   ]
  },
  {
   "cell_type": "code",
   "execution_count": null,
   "metadata": {
    "papermill": {
     "duration": 1.985495,
     "end_time": "2021-06-13T19:11:31.186563",
     "exception": false,
     "start_time": "2021-06-13T19:11:29.201068",
     "status": "completed"
    },
    "tags": []
   },
   "outputs": [],
   "source": []
  }
 ],
 "metadata": {
  "kernelspec": {
   "display_name": "Python 3",
   "language": "python",
   "name": "python3"
  },
  "language_info": {
   "codemirror_mode": {
    "name": "ipython",
    "version": 3
   },
   "file_extension": ".py",
   "mimetype": "text/x-python",
   "name": "python",
   "nbconvert_exporter": "python",
   "pygments_lexer": "ipython3",
   "version": "3.8.3"
  },
  "papermill": {
   "default_parameters": {},
   "duration": 11304.851173,
   "end_time": "2021-06-13T19:11:36.180825",
   "environment_variables": {},
   "exception": null,
   "input_path": "__notebook__.ipynb",
   "output_path": "__notebook__.ipynb",
   "parameters": {},
   "start_time": "2021-06-13T16:03:11.329652",
   "version": "2.3.3"
  }
 },
 "nbformat": 4,
 "nbformat_minor": 5
}
